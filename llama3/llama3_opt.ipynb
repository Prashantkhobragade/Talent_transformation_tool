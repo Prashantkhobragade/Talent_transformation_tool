{
 "cells": [
  {
   "cell_type": "code",
   "execution_count": 48,
   "metadata": {},
   "outputs": [
    {
     "data": {
      "text/plain": [
       "[Document(page_content='Course Title\\nPython for Data Science and Machine Learning Bootcamp\\nThe Data Science Course: Complete Data Science Bootcamp 2024 \\nR Programming A-Z™: R For Data Science With Real Exercises! \\nStatistics for Data Science and Business Analysis \\nData Science A-Z: Hands-On Exercises & ChatGPT Prize [2024] \\nMachine Learning, Data Science and Generative AI with Python \\nPython A-Z™: Python For Data Science With Real Exercises!\\nComplete A.I. & Machine Learning, Data Science Bootcamp \\nData Science and Machine Learning Bootcamp with R \\nIntroduction to Machine Learning for Data Science \\nBuild Responsive Real-World Websites with HTML and CSS \\nHTML and CSS for Beginners - Build a Website & Launch ONLINE \\nResponsive Web Design: HTML5 + CSS3 for Entrepreneurs 2018 \\nWeb Design for Beginners: Real World Coding in HTML & CSS \\nHTML5 and CSS3 Fundamentals \\nLearn HTML5 Programming From Scratch \\nBuild Websites from Scratch with HTML & CSS \\nIntroduction to Cloud Computing on AWS for Beginners [2024] \\nCloud Computing Fundamentals \\nAWS Business Essentials - The Business Value of AWS [2024] \\nTOTAL: Cloud Computing / CompTIA Cloud+ (CV0-003) \\nIntroduction to the Cloud - The basics in only 2 hours! \\nCloud Computing for Beginners - Infrastructure as a Service \\nBuilding Cloud Infrastructure with Terraform \\nThe Complete Cloud Computing Software Architecture Patterns \\nDevOps Beginners to Advanced with Projects \\nThe DevOps Essentials - The Handbook \\nDevOps Project 1 - CI/CD with Git Jenkins Ansible Kubernetes \\nLearn DevOps: CI/CD with Jenkins using Pipelines and Docker \\nLearn DevOps: The Complete Kubernetes Course \\nDocker Crash Course for busy DevOps and Developers \\nLearn DevOps: Infrastructure Automation With Terraform \\nLearn DevOps: Docker, Kubernetes, Terraform and Azure DevOps \\nDevOps MasterClass 2024: Terraform Kubernetes Ansible Docker \\nSRE - The Big Picture \\nThe Ultimate DevOps Bootcamp - 2023 \\nIntroduction to Devops - Learn DevOps basics in 90 Minutes! \\nDevOps Projects | Real Time DevOps & GitOps Projects \\nLearn Devops: Continuously Deliver Better Software \\nDevOps Fundamentals \\nDevOps Tutorial: Complete Beginners Training - 5 in 1 Bundle \\nMore than Certified in Terraform \\nThe Docker for DevOps course: From development to production \\nDevops Tools and AWS for Java Microservice Developers \\nProject in DevOps: Jenkins CI/CD for Kubernetes Deployments \\nLearn DevOps: Advanced Kubernetes Usage \\nMicrosoft Azure DevOps :Automate App Deployment From Scratch \\nGit & GitHub - The Practical Guide', metadata={'source': 'data_2\\\\udemy_data_optional_added.pdf', 'page': 0}),\n",
       " Document(page_content='Git & GitHub for Beginners & Integration With Popular IDEs\\nGIT: Advanced commands\\nGit & GitHub - The Complete Git & GitHub Course\\nLinux for Beginners: Linux Basics\\nLinux Crash Course for Beginners\\nLinux Command Line Basics\\nLinux - The Complete Linux Guide\\nSAP BTP Training - From Basics to Advanced [Hands-on]\\nSAP BTP For Beginners\\nLearn SAP CAPM (Cloud Application Programming Model)\\nStep-by-step guide to SAP BTP, SAP HANA Cloud,CAPM, BAS\\nLearn SAP BTP\\nBasics in Cloud Computing with SAP Cloud Platform\\nGet Git Smart Course: Learn Git in Unity, SourceTree, GitHub\\nLearning GitHub Actions for DevOps CI/CD', metadata={'source': 'data_2\\\\udemy_data_optional_added.pdf', 'page': 1}),\n",
       " Document(page_content='Course Link\\nhttps://www.udemy.com/course/python-for-data-science-and-machine-learning-bootcamp/\\nhttps://www.udemy.com/course/the-data-science-course-complete-data-science-bootcamp/\\nhttps://www.udemy.com/course/r-programming/\\nhttps://www.udemy.com/course/statistics-for-data-science-and-business-analysis/\\nhttps://www.udemy.com/course/datascience/\\nhttps://www.udemy.com/course/data-science-and-machine-learning-with-python-hands-on/\\nhttps://www.udemy.com/course/python-coding/\\nhttps://www.udemy.com/course/complete-machine-learning-and-data-science-zero-to-mastery/\\nhttps://www.udemy.com/course/data-science-and-machine-learning-bootcamp-with-r/\\nhttps://www.udemy.com/course/machine-learning-for-data-science/\\nhttps://www.udemy.com/course/design-and-develop-a-killer-website-with-html5-and-css3/\\nhttps://www.udemy.com/course/html-and-css-for-beginners-crash-course-learn-fast-easy/\\nhttps://www.udemy.com/course/html-css-more/\\nhttps://www.udemy.com/course/web-design-for-beginners-real-world-coding-in-html-css/\\nhttps://www.udemy.com/course/html5-fundamentals-for-beginners/\\nhttps://www.udemy.com/course/learn-html5-programming-from-scratch/\\nhttps://www.udemy.com/course/build-website-scratch/\\nhttps://www.udemy.com/course/introduction-to-cloud-computing-on-amazon-aws-for-beginners/\\nhttps://www.udemy.com/course/welcome-to-cloud-computing-world/\\nhttps://www.udemy.com/course/aws-business-essentials/\\nhttps://www.udemy.com/course/total-cloud-computing-comptia-cloud-cert-cv0-002/\\nhttps://www.udemy.com/course/cloudintro/\\nhttps://www.udemy.com/course/cloud-computing-for-beginners-infrastructure-as-a-service/\\nhttps://www.udemy.com/course/building-cloud-infrastructure-with-terraform/\\nhttps://www.udemy.com/course/the-complete-cloud-computing-software-architecture-patterns/\\nhttps://www.udemy.com/course/decodingdevops/\\nhttps://www.udemy.com/course/the-devops-essentials/\\nhttps://www.udemy.com/course/valaxy-devops/\\nhttps://www.udemy.com/course/learn-devops-ci-cd-with-jenkins-using-pipelines-and-docker/\\nhttps://www.udemy.com/course/learn-devops-the-complete-kubernetes-course/\\nhttps://www.udemy.com/course/docker-tutorial-for-devops-run-docker-containers/\\nhttps://www.udemy.com/course/learn-devops-infrastructure-automation-with-terraform/\\nhttps://www.udemy.com/course/devops-with-docker-kubernetes-and-azure-devops/\\nhttps://www.udemy.com/course/devops-training/\\nhttps://www.udemy.com/course/sre-the-big-picture/\\nhttps://www.udemy.com/course/the-complete-devops-bootcamp/\\nhttps://www.udemy.com/course/devopscrash/\\nhttps://www.udemy.com/course/devopsprojects/\\nhttps://www.udemy.com/course/learn-devops-continuously-deliver-better-software/\\nhttps://www.udemy.com/course/devops-fundamentals-for-beginners/\\nhttps://www.udemy.com/course/devops-docker-complete-guide-hands-on-with-practical/\\nhttps://www.udemy.com/course/terraform-certified/\\nhttps://www.udemy.com/course/the-docker-for-devops-course-from-development-to-production/\\nhttps://www.udemy.com/course/devops-tools-and-aws-for-java-microservice-developers/\\nhttps://www.udemy.com/course/devops-project-jenkins-cicd-for-kubernetes-deployments/\\nhttps://www.udemy.com/course/learn-devops-advanced-kubernetes-usage/\\nhttps://www.udemy.com/course/master-azure-devops-from-scratch-automate-app-lifecycle/\\nhttps://www.udemy.com/course/git-github-practical-guide/?couponCode=LETSLEARNNOWP', metadata={'source': 'data_2\\\\udemy_data_optional_added.pdf', 'page': 2}),\n",
       " Document(page_content='https://www.udemy.com/course/git-github-for-beginners-integration-with-popular-ides/?couponCode=LETSLEARNNOWPP\\nhttps://www.udemy.com/course/git-advanced-commands/?couponCode=LETSLEARNNOWPP\\nhttps://www.udemy.com/course/git-github-the-complete-git-github-course/?couponCode=LETSLEARNNOWPP\\nhttps://www.udemy.com/course/linux-for-beginners-2021/?couponCode=LETSLEARNNOWPP\\nhttps://www.udemy.com/course/learn-linux-on-a-weekend/?couponCode=LETSLEARNNOWPP\\nhttps://www.udemy.com/course/linux-command-line-volume1/?couponCode=LETSLEARNNOWPP\\nhttps://www.udemy.com/course/linux-complete/?couponCode=LETSLEARNNOWPP\\nhttps://www.udemy.com/course/sap-btp-training-from-basics-to-advanced/?couponCode=LETSLEARNNOWPP\\nhttps://www.udemy.com/course/sap-btp-for-beginners/?couponCode=LETSLEARNNOWPP\\nhttps://www.udemy.com/course/learn-sap-capm-cloud-application-programming-model/?couponCode=LETSLEARNNOWPP\\nhttps://www.udemy.com/course/step-by-step-guide-to-sap-btp-hana-cloud-capm-bas/?couponCode=LETSLEARNNOWPP\\nhttps://www.udemy.com/course/learn-sap-btp/?couponCode=LETSLEARNNOWPP\\nhttps://www.udemy.com/course/sap-cloud-platform-complete-understanding-with-hands-on/?couponCode=ST20MT50724\\nhttps://www.udemy.com/course/git-smart-learn-git-the-fun-way-with-unity-games/?couponCode=ST20MT50724\\nhttps://www.udemy.com/course/learning-github-actions/?couponCode=ST20MT50724', metadata={'source': 'data_2\\\\udemy_data_optional_added.pdf', 'page': 3}),\n",
       " Document(page_content=\"Description\\nLearn how to use NumPy, Pandas, Seaborn , Matplotlib , Plotly , Scikit-Learn , Machine Learning, Tensorflow , and more!\\nComplete Data Science Training: Math, Statistics, Python, Advanced Statistics in Python, Machine and Deep Learning\\nLearn Programming In R And R Studio. Data Analytics, Data Science, Statistical Analysis, Packages, Functions, GGPlot2\\nStatistics you need in the office: Descriptive & Inferential statistics, Hypothesis testing, Regression analysis\\nLearn Data Science step by step through real Analytics examples. Data Mining, Modeling, Tableau Visualization and more!\\nComplete hands-on machine learning and GenAI tutorial with data science, Tensorflow, GPT, OpenAI, and neural networks\\nProgramming In Python For Data Analytics And Data Science. Learn Statistical Analysis, Data Mining And Visualization\\nLearn Data Science, Data Analysis, Machine Learning (Artificial Intelligence) and Python with Tensorflow, Pandas & more!\\nLearn how to use the R programming language for data science and machine learning and data visualization!\\nA primer on Machine Learning for Data Science. Revealed for everyday people, by the Backyard Data Scientist.\\nLearn modern HTML5, CSS3 and web design by building a stunning website for your portfolio! Includes flexbox and CSS Grid\\nHTML and CSS for Beginners course will give your all the knowledge you need to master HTML and CSS easily and quickly.\\nBuild a coding foundation as an entrepreneur, where I’ll take you through the entire process of coding your own website\\nLaunch a career as a web designer by learning HTML5, CSS3, responsive design, Sass and more!\\nBuild your very own website with HTML5 from scratch using HTML5 and CSS3 - designed for complete beginners\\nA Complete HTML5 Programming Course for Beginners\\nLearn Web Development Essentials and Become a Web Developer From Scratch in this Complete HTML & CSS Beginner's Course\\nLearn Cloud Computing Concepts and AWS Basics | Master AWS Fundamentals and Hands-on Skills on Amazon Web Services (AWS)\\nA course describing the basics of cloud computing and most of the aspects related to this topic\\nLearn the fundamentals of cloud computing and Amazon Web Services AWS | Build a business case for migrating to AWS Cloud\\nLearn the basics of Cloud Computing and/or prepare for the CompTIA Cloud+ Certification Exam.\\nLearn the basics of the Cloud with no prior knowledge required. Ideal for beginners, management, and students.\\nLearn the Technology, Concept and Market Use Cases of Infrastructure as a Service Model in Public Cloud Computing\\nCreate and manage cloud infrastructure as code\\nArchitect Large Scale Systems using Cloud Computing, Software Architecture Patterns & Modern System Design Principles\\nBegin DevOps Career As an Absolute Beginner | AWS, Linux, Scripts, Jenkins, Ansible, GitOps, Docker,Kubernetes, &ChatGPT\\nAll the basics you need to know - Get started with DevOps\\n100% Hands-on labs on how to create DevOps CI/CD pipelines using Git, Jenkins, Ansible, Docker and Kubernetes on AWS\\nUse Jenkins the DevOps way. Automate your Jenkins jobs by using Jenkins Pipelines, Docker, and the Jenkins Job DSL\\nKubernetes will run and manage your containerized applications. Learn how to build, deploy, use, and maintain Kubernetes\\nLearn how to develop and deploy web applications with Docker technologies. Take your DevOps skills to the next level.\\nLearn how to automate your infrastructure with terraform. Covers Terraform with AWS, Packer, Docker, ECS, EKS, Jenkins\\nDevOps for Absolute Beginners: Azure DevOps, Docker, Kubernetes, Jenkins, Terraform, Ansible - AWS, Azure & Google Cloud\\nDevOps with Jenkins Terraform GIT Docker Maven Kubernetes Ansible Automation Docker Swarm, DevOps Real world Exercises\\nDevOps in practice! Amaze your customers balancing reliability and innovation\\nThe ultimate DevOps Bootcamp course for all your DevOps learning\\nLearn the basics of DevOps with no prior knowledge required. Ideal for anyone new to DevOps.\\nMaster Your DevOps Skills with Real challenge\\nExcel in delivering and deploying software using Git, Vagrant, Chef, Ansible, Jenkins, Docker, and Kubernetes\\nThe simplest course to learn the fundamentals of DevOps right from scratch\\nDevops Engineer DevOps AWS DevOps Docker DevOps Jenkins DevOpsGIT , DevOps Vagran DevOps Maven\\nLearn Terraform Using Docker, AWS, Kubernetes, and more!\\nUpdated for Docker v19.03+. Learn how to build and deploy web applications with Docker in an automated way.\\nMaster Docker , Kubernetes, Maven, Jenkins ,GIT , AWS EC2 ,Elastic Beanstalk,ELB,Auto Scaling and more in easy steps\\nExplore 100% Real Time DevOps Tools Integration with Git, SonarQube, Jfrog, Jenkins, Ansible, Docker, Kubernetes, Tomcat\\nCovering Authentication, Authorization, Logging, Helm, Deploying with Spinnaker, Prometheus, Scheduling and more\\nMicrosoft Azure DevOps - Create, manage & deploy an application just form the VS code (IDE) with fully automated CI/CD\\nLearn Git & GitHub and master working with commits, branches, the stash, cherry picking, rebasing, pull requests & more\", metadata={'source': 'data_2\\\\udemy_data_optional_added.pdf', 'page': 4}),\n",
       " Document(page_content=\"Practical Approach to Version Control Git and GitHub. Learn How Git Works With IntelliJ, Pycharm, Visual Studio, Eclipse\\nPractical GIT training: cherry pick, rebase, revert, stash, clean, and more. Take your GIT skills to the next level\\nGit & GitHub - The complete step-by-step guide from scratch\\nLinux For Beginners covers Linux basics. You will learn Linux fundamental skills; Command line, Linux Administration\\nLinux System Administration and Linux Command Line\\nThis is an introductory course to the Linux command Line. It's great for both Linux beginners and advanced Linux users\\nLearn core Linux features on practice - Linux Shell, Linux Command Line, Bash and sh Shells, Linux Administration, SSH\\nStart your SAP BTP Cloud journey From BTP concepts To Development of Full-Stack Fiori Application with CAP & HANA Cloud\\nLearn SAP's Business Technology Platform in detail by exploring the Tools and Services available in SAP BTP\\nLearn NodeJS based CAPM Model With CDS End-to-End from SAP for Cloud App Development in SCP/BTP\\nSAP HANA Cloud, Cloud Application Programming, Business Application Studio, BTP\\nGet started with SAP BTP Understand SAP BTP, SAP Cloud Foundry, SAP Kyma and Usage\\nLearn about SAP Cloud Platform in detail and also build & deploy your own applications in SAP Cloud. Course is Updated!\\nUse Version Control w/GIT, SourceTree & GitHub from Scratch in Unity Video Game Design\\nDevOps using GitHub Action, GitHub action for Infra Deployment Automation, Design CICD Pipelines\", metadata={'source': 'data_2\\\\udemy_data_optional_added.pdf', 'page': 5}),\n",
       " Document(page_content='Course Length Learner Level Course Type\\n25 total hours All Levels Mandatory\\n32 total hours All Levels Mandatory\\n10.5 total hours All Levels Mandatory\\n5 total hours All Levels Mandatory\\n21 total hours All Levels Mandatory\\n19 total hours Beginner Mandatory\\n11 total hours All Levels Mandatory\\n44 total hours All Levels Mandatory\\n18 total hours All Levels Mandatory\\n5.5 total hours Beginner Mandatory\\n37.5 total hours All Levels Mandatory\\n6 total hours All Levels Mandatory\\n5.5 total hours Beginner Mandatory\\n11.5 total hours All Levels Mandatory\\n5 total hours Beginner Mandatory\\n17 total hours All Levels Mandatory\\n8.5 total hours Beginner Mandatory\\n9.5 total hours Beginner Mandatory\\n3 total hours Beginner Mandatory\\n2.5 total hours Beginner Mandatory\\n15 total hours Intermediate Mandatory\\n2 total hours Beginner Mandatory\\n2.5 total hours Beginner Mandatory\\n4.5 total hours Intermediate Mandatory\\n4.5 total hours All Levels Mandatory\\n55 total hours All Levels Mandatory\\n2 total hours Beginner Mandatory\\n6.5 total hours All Levels Mandatory\\n4.5 total hours All Levels Mandatory\\n14 total hours All Levels Mandatory\\n3 total hours All Levels Mandatory\\n11.5 total hours Beginner Mandatory\\n21.5 total hours All Levels Mandatory\\n71 total hours All Levels Mandatory\\n2 total hours All Levels Mandatory\\n17.5 total hours Beginner Mandatory\\n2 total hours Beginner Mandatory\\n40 total hours Intermediate Mandatory\\n4.5 total hours All Levels Mandatory\\n2 total hours Beginner Mandatory\\n8.5 total hours All Levels Mandatory\\n12.5 total hours Beginner Mandatory\\n8 total hours All Levels Mandatory\\n20.5 total hours All Levels Mandatory\\n4 total hours All Levels Mandatory\\n3.5 total hours Expert Mandatory\\n4 total hours Intermediate Mandatory\\n10.5 hours All Level Optional', metadata={'source': 'data_2\\\\udemy_data_optional_added.pdf', 'page': 6}),\n",
       " Document(page_content='4 hours All Level Optional\\n4 hours All Level Optional\\n3.2 hours All Level Optional\\n2.2 hours All Level Optional\\n6 hours All Level Optional\\n5 hours All Level Optional\\n6 hours All Level Optional\\n6 hours All Level Optional\\n4.5 hours All Level Optional\\n6.5 hours All Level Optional\\n6 hours All Level Optional\\n5 hours All Level Optional\\n3 hours All Level Optional\\n4 hours All Level Optional\\n3 hours All Level Optional', metadata={'source': 'data_2\\\\udemy_data_optional_added.pdf', 'page': 7})]"
      ]
     },
     "execution_count": 48,
     "metadata": {},
     "output_type": "execute_result"
    }
   ],
   "source": [
    "from langchain_community.document_loaders import PyPDFDirectoryLoader\n",
    "\n",
    "loader = PyPDFDirectoryLoader(\"./data_2\")\n",
    "docs = loader.load()\n",
    "docs"
   ]
  },
  {
   "cell_type": "code",
   "execution_count": 49,
   "metadata": {},
   "outputs": [],
   "source": [
    "from langchain.text_splitter import RecursiveCharacterTextSplitter\n",
    "\n",
    "text_splitter = RecursiveCharacterTextSplitter(chunk_size = 1200, chunk_overlap = 250)\n",
    "documents = text_splitter.split_documents(docs)"
   ]
  },
  {
   "cell_type": "code",
   "execution_count": 50,
   "metadata": {},
   "outputs": [],
   "source": [
    "from langchain_community.embeddings import OllamaEmbeddings\n",
    "from langchain_community.vectorstores import FAISS"
   ]
  },
  {
   "cell_type": "code",
   "execution_count": 51,
   "metadata": {},
   "outputs": [],
   "source": [
    "db = FAISS.from_documents(documents, OllamaEmbeddings())"
   ]
  },
  {
   "cell_type": "code",
   "execution_count": 52,
   "metadata": {},
   "outputs": [],
   "source": [
    "from langchain_groq import ChatGroq\n",
    "from langchain_core.output_parsers import StrOutputParser, JsonOutputParser\n",
    "\n"
   ]
  },
  {
   "cell_type": "code",
   "execution_count": 53,
   "metadata": {},
   "outputs": [],
   "source": [
    "from dotenv import load_dotenv\n",
    "import os\n",
    "\n",
    "load_dotenv()\n",
    "groq_api_key=os.getenv('GROQ_API_KEY')\n"
   ]
  },
  {
   "cell_type": "code",
   "execution_count": 54,
   "metadata": {},
   "outputs": [],
   "source": [
    "llm = ChatGroq(groq_api_key = groq_api_key,\n",
    "               model_name=\"Llama3-8b-8192\")"
   ]
  },
  {
   "cell_type": "code",
   "execution_count": 72,
   "metadata": {},
   "outputs": [],
   "source": [
    "from langchain_core.prompts import ChatPromptTemplate\n",
    "from langchain_core.prompts import PromptTemplate\n",
    "\n",
    "prompt=PromptTemplate.from_template(\n",
    "\"\"\"\n",
    "Act as helpfull Talent Transformation assistant and suggest the best Courses to take based on the given \n",
    "context, given {skills} and given {experience}. I want all the output in JSON format.\n",
    "\n",
    "\n",
    "Prepare 3 sets of courses by total learning hours where Course type is Mandatory:\n",
    "- Set 1 (1-day plan): Course duration < 3 hours\n",
    "- Set 2 (3-day plan): Course duration between 3 and 20 hours\n",
    "- Set 3 (5-day plan): Course duration > 20 hours\n",
    "\n",
    "Also suggest 2 courses from Optional course type which suits the {experience} and {skills}\n",
    "\n",
    "For each suggested course, provide the following:\n",
    "- Course Name\n",
    "- Course Link\n",
    "- Course Length\n",
    "- Learner Level\n",
    "\n",
    "\n",
    "Please ensure consistency in providing course details and consider the inclusion of mandatory courses in the recommendations.\n",
    "\n",
    "Suggest the courses only based on the context knowledge\n",
    "Keep your course recomandation ground in the facts of the context.\n",
    "If the context does not contain the suitable courses according to the given {skills} then return \"No course Found\"\n",
    "\n",
    "Be as concise as possible when giving answers. Do not anounce that you will answering. \n",
    "Do not say \"Let's get started\", or \"Based on the skills you provided, I would recommend the \n",
    "following courses to help you enhance your knowledge and skills : \" or \"Here are some courses\"\n",
    "and do not introduce your answer. Just write the your answer.\n",
    "\n",
    "<context>\n",
    "{context}\n",
    "<context>\n",
    "\n",
    "Skills: {skills}\n",
    "\n",
    "Experience: {experience}\n",
    "\n",
    "\"\"\"\n",
    ")"
   ]
  },
  {
   "cell_type": "code",
   "execution_count": 56,
   "metadata": {},
   "outputs": [],
   "source": [
    "from langchain_core.runnables import RunnableParallel, RunnablePassthrough\n",
    "from langchain_core.output_parsers import StrOutputParser"
   ]
  },
  {
   "cell_type": "code",
   "execution_count": 73,
   "metadata": {},
   "outputs": [],
   "source": [
    "retriever = db.as_retriever()\n",
    "\n",
    "parser = JsonOutputParser()\n",
    "setup = RunnableParallel(context=retriever, skills = RunnablePassthrough(), experience = RunnablePassthrough())\n",
    "\n",
    "chain = setup | prompt | llm"
   ]
  },
  {
   "cell_type": "code",
   "execution_count": 74,
   "metadata": {},
   "outputs": [
    {
     "name": "stdout",
     "output_type": "stream",
     "text": [
      "[\n",
      "  {\n",
      "    \"Course Name\": \"Git and GitHub for Beginners: Integration with Popular IDEs\",\n",
      "    \"Course Link\": \"https://www.udemy.com/course/git-github-for-beginners-integration-with-popular-ides/?couponCode=LETSLEARNNOWPP\",\n",
      "    \"Course Length\": 2 hours,\n",
      "    \"Learner Level\": Beginner\n",
      "  },\n",
      "  {\n",
      "    \"Course Name\": \"Git Advanced Commands\",\n",
      "    \"Course Link\": \"https://www.udemy.com/course/git-advanced-commands/?couponCode=LETSLEARNNOWPP\",\n",
      "    \"Course Length\": 1 hour,\n",
      "    \"Learner Level\": Intermediate\n",
      "  },\n",
      "  {\n",
      "    \"Course Name\": \"Git and GitHub: The Complete Git and GitHub Course\",\n",
      "    \"Course Link\": \"https://www.udemy.com/course/git-github-the-complete-git-github-course/?couponCode=LETSLEARNNOWPP\",\n",
      "    \"Course Length\": 2 hours,\n",
      "    \"Learner Level\": Beginner\n",
      "  }\n",
      "]\n",
      "\n",
      "[\n",
      "  {\n",
      "    \"Course Name\": \"Learn DevOps CI/CD with Jenkins using Pipelines and Docker\",\n",
      "    \"Course Link\": \"https://www.udemy.com/course/learn-devops-ci-cd-with-jenkins-using-pipelines-and-docker/\",\n",
      "    \"Course Length\": 12 hours,\n",
      "    \"Learner Level\": Intermediate\n",
      "  },\n",
      "  {\n",
      "    \"Course Name\": \"Learn DevOps: The Complete Kubernetes Course\",\n",
      "    \"Course Link\": \"https://www.udemy.com/course/learn-devops-the-complete-kubernetes-course/\",\n",
      "    \"Course Length\": 16 hours,\n",
      "    \"Learner Level\": Intermediate\n",
      "  },\n",
      "  {\n",
      "    \"Course Name\": \"Docker Tutorial for DevOps: Run Docker Containers\",\n",
      "    \"Course Link\": \"https://www.udemy.com/course/docker-tutorial-for-devops-run-docker-containers/\",\n",
      "    \"Course Length\": 6 hours,\n",
      "    \"Learner Level\": Beginner\n",
      "  }\n",
      "]\n",
      "\n",
      "[\n",
      "  {\n",
      "    \"Course Name\": \"The Complete DevOps Bootcamp\",\n",
      "    \"Course Link\": \"https://www.udemy.com/course/the-complete-devops-bootcamp/\",\n",
      "    \"Course Length\": 40 hours,\n",
      "    \"Learner Level\": Advanced\n",
      "  },\n",
      "  {\n",
      "    \"Course Name\": \"DevOps with Docker, Kubernetes, and Azure DevOps\",\n",
      "    \"Course Link\": \"https://www.udemy.com/course/devops-with-docker-kubernetes-and-azure-devops/\",\n",
      "    \"Course Length\": 24 hours,\n",
      "    \"Learner Level\": Advanced\n",
      "  }\n",
      "]\n",
      "\n",
      "Optional Courses:\n",
      "\n",
      "[\n",
      "  {\n",
      "    \"Course Name\": \"Learn SAP BTP: From Basics to Advanced\",\n",
      "    \"Course Link\": \"https://www.udemy.com/course/learn-sap-btp-from-basics-to-advanced/\",\n",
      "    \"Course Length\": 12 hours,\n",
      "    \"Learner Level\": Intermediate\n",
      "  },\n",
      "  {\n",
      "    \"Course Name\": \"Learn SAP BTP for Beginners\",\n",
      "    \"Course Link\": \"https://www.udemy.com/course/learn-sap-btp-for-beginners/\",\n",
      "    \"Course Length\": 6 hours,\n",
      "    \"Learner Level\": Beginner\n",
      "  }\n",
      "]\n"
     ]
    }
   ],
   "source": [
    "response = chain.invoke({\"skills\": \"python and AI\",\n",
    "              \"experience\": 2.5})\n",
    "\n",
    "print(response.content)"
   ]
  },
  {
   "cell_type": "code",
   "execution_count": 77,
   "metadata": {},
   "outputs": [
    {
     "name": "stdout",
     "output_type": "stream",
     "text": [
      "[\n",
      "  {\n",
      "    \"set\": \"Set 1 (1-day plan)\",\n",
      "    \"courses\": [\n",
      "      {\n",
      "        \"name\": \"Practical Approach to Version Control Git and GitHub\",\n",
      "        \"link\": \"https://www.udemy.com/course/git-github-for-beginners-integration-with-popular-ides/?couponCode=LETSLEARNNOWPP\",\n",
      "        \"length\": 1,\n",
      "        \"level\": \"Beginner\"\n",
      "      }\n",
      "    ]\n",
      "  },\n",
      "  {\n",
      "    \"set\": \"Set 2 (3-day plan)\",\n",
      "    \"courses\": [\n",
      "      {\n",
      "        \"name\": \"Git & GitHub - The complete step-by-step guide from scratch\",\n",
      "        \"link\": \"https://www.udemy.com/course/git-github-the-complete-git-github-course/?couponCode=LETSLEARNNOWPP\",\n",
      "        \"length\": 12,\n",
      "        \"level\": \"Beginner\"\n",
      "      },\n",
      "      {\n",
      "        \"name\": \"Linux For Beginners covers Linux basics\",\n",
      "        \"link\": \"https://www.udemy.com/course/linux-for-beginners-2021/?couponCode=LETSLEARNNOWPP\",\n",
      "        \"length\": 12,\n",
      "        \"level\": \"Beginner\"\n",
      "      }\n",
      "    ]\n",
      "  },\n",
      "  {\n",
      "    \"set\": \"Set 3 (5-day plan)\",\n",
      "    \"courses\": [\n",
      "      {\n",
      "        \"name\": \"Practical Approach to Version Control Git and GitHub\",\n",
      "        \"link\": \"https://www.udemy.com/course/git-github-for-beginners-integration-with-popular-ides/?couponCode=LETSLEARNNOWPP\",\n",
      "        \"length\": 20,\n",
      "        \"level\": \"Beginner\"\n",
      "      },\n",
      "      {\n",
      "        \"name\": \"Git & GitHub - The complete step-by-step guide from scratch\",\n",
      "        \"link\": \"https://www.udemy.com/course/git-github-the-complete-git-github-course/?couponCode=LETSLEARNNOWPP\",\n",
      "        \"length\": 20,\n",
      "        \"level\": \"Beginner\"\n",
      "      },\n",
      "      {\n",
      "        \"name\": \"Linux For Beginners covers Linux basics\",\n",
      "        \"link\": \"https://www.udemy.com/course/linux-for-beginners-2021/?couponCode=LETSLEARNNOWPP\",\n",
      "        \"length\": 20,\n",
      "        \"level\": \"Beginner\"\n",
      "      }\n",
      "    ]\n",
      "  }\n",
      "]\n",
      "\n",
      "[\n",
      "  {\n",
      "    \"name\": \"Master Your DevOps Skills with Real challenge\",\n",
      "    \"link\": \"https://www.udemy.com/course/master-your-devops-skills-with-real-challenge/\",\n",
      "    \"length\": 10,\n",
      "    \"level\": \"Intermediate\"\n",
      "  },\n",
      "  {\n",
      "    \"name\": \"DevOps for Absolute Beginners: Azure DevOps, Docker, Kubernetes, Jenkins, Terraform, Ansible - AWS, Azure & Google Cloud\",\n",
      "    \"link\": \"https://www.udemy.com/course/devops-for-absolute-beginners-azure-devops-docker-kubernetes-jenkins-terraform-ansible-aws-azure-google-cloud/\",\n",
      "    \"length\": 12,\n",
      "    \"level\": \"Beginner\"\n",
      "  }\n",
      "]\n"
     ]
    }
   ],
   "source": [
    "response_2 = chain.invoke({\"skills\": \"DevOps\",\n",
    "              \"experience\": 2})\n",
    "\n",
    "print(response_2.content)\n"
   ]
  },
  {
   "cell_type": "code",
   "execution_count": 88,
   "metadata": {},
   "outputs": [],
   "source": [
    "prompt_1 = PromptTemplate.from_template(\n",
    "\"\"\"\n",
    "**Prompt:**\n",
    "\n",
    "\"Act as helpfull Talent Transformation assistant and suggest the best Courses to take based on the given \n",
    "context and given Input.\n",
    "\n",
    "\n",
    "Prepare 3 sets of courses by total learning hours:\n",
    "- Set 1 (1-day plan): Course duration < 3 hours\n",
    "- Set 2 (3-day plan): Course duration between 3 and 20 hours\n",
    "- Set 3 (5-day plan): Course duration > 20 hours\n",
    "\n",
    "**Input:**\n",
    "\n",
    "* `user_experience`: A list of integers or a range of years representing the user's experience in their current role or a related field.\n",
    "* `user_skills`: A list of strings or categories representing the user's skills and expertise.\n",
    "\n",
    "**Dataset:**\n",
    "\n",
    "* `dataset`: A dataframe containing information about various courses, with columns:\n",
    "\t+ `course_name`: A string representing the name of the course.\n",
    "\t+ `course_link`: A string representing the link to the course.\n",
    "\t+ `course_length`: An integer representing the duration of the course in hours.\n",
    "\t+ `course_type`: A string indicating whether the course is mandatory or optional.\n",
    "\n",
    "**Output:**\n",
    "\n",
    "For the given `user_experience` and `user_skills`, output a JSON object containing three sets of recommended courses for mandatory courses \n",
    "and one set for optional courses. The JSON object should have the following structure:\n",
    "```json\n",
    "{\n",
    "  \"recommended_courses\": [\n",
    "    {\n",
    "      \"course_name\": \"Course Title 1\",\n",
    "      \"course_link\": \"https://example.com/course1\",\n",
    "      \"course_length\": 8,\n",
    "      \"course_type\": \"mandatory\"\n",
    "    },\n",
    "    ...\n",
    "  ],\n",
    "  \"optional_course\": [\n",
    "    {\n",
    "      \"course_name\": \"Course Title 2\",\n",
    "      \"course_link\": \"https://example.com/course2\",\n",
    "      \"course_length\": 4,\n",
    "      \"course_type\": \"optional\"\n",
    "    }\n",
    "  ]\n",
    "}\n",
    "```\n",
    "\"\"\"\n",
    ")"
   ]
  },
  {
   "cell_type": "code",
   "execution_count": 89,
   "metadata": {},
   "outputs": [],
   "source": [
    "chain_1 = setup | prompt_1 | llm"
   ]
  },
  {
   "cell_type": "code",
   "execution_count": 90,
   "metadata": {},
   "outputs": [
    {
     "ename": "KeyError",
     "evalue": "'Input to PromptTemplate is missing variables {\\'\\\\n  \"recommended_courses\"\\'}.  Expected: [\\'\\\\n  \"recommended_courses\"\\'] Received: [\\'context\\', \\'skills\\', \\'experience\\']'",
     "output_type": "error",
     "traceback": [
      "\u001b[1;31m---------------------------------------------------------------------------\u001b[0m",
      "\u001b[1;31mKeyError\u001b[0m                                  Traceback (most recent call last)",
      "Cell \u001b[1;32mIn[90], line 1\u001b[0m\n\u001b[1;32m----> 1\u001b[0m response \u001b[38;5;241m=\u001b[39m \u001b[43mchain_1\u001b[49m\u001b[38;5;241;43m.\u001b[39;49m\u001b[43minvoke\u001b[49m\u001b[43m(\u001b[49m\u001b[43m{\u001b[49m\u001b[38;5;124;43m\"\u001b[39;49m\u001b[38;5;124;43muser_skills\u001b[39;49m\u001b[38;5;124;43m\"\u001b[39;49m\u001b[43m:\u001b[49m\u001b[43m \u001b[49m\u001b[38;5;124;43m\"\u001b[39;49m\u001b[38;5;124;43mPython and AI\u001b[39;49m\u001b[38;5;124;43m\"\u001b[39;49m\u001b[43m,\u001b[49m\n\u001b[0;32m      2\u001b[0m \u001b[43m                           \u001b[49m\u001b[38;5;124;43m\"\u001b[39;49m\u001b[38;5;124;43muser_experience\u001b[39;49m\u001b[38;5;124;43m\"\u001b[39;49m\u001b[43m:\u001b[49m\u001b[43m \u001b[49m\u001b[38;5;241;43m2.5\u001b[39;49m\u001b[43m}\u001b[49m\u001b[43m)\u001b[49m\n\u001b[0;32m      4\u001b[0m \u001b[38;5;28mprint\u001b[39m(response\u001b[38;5;241m.\u001b[39mcontent)\n",
      "File \u001b[1;32mc:\\project\\Talent_transformation_tool\\RAGENV\\Lib\\site-packages\\langchain_core\\runnables\\base.py:2499\u001b[0m, in \u001b[0;36mRunnableSequence.invoke\u001b[1;34m(self, input, config)\u001b[0m\n\u001b[0;32m   2497\u001b[0m \u001b[38;5;28;01mtry\u001b[39;00m:\n\u001b[0;32m   2498\u001b[0m     \u001b[38;5;28;01mfor\u001b[39;00m i, step \u001b[38;5;129;01min\u001b[39;00m \u001b[38;5;28menumerate\u001b[39m(\u001b[38;5;28mself\u001b[39m\u001b[38;5;241m.\u001b[39msteps):\n\u001b[1;32m-> 2499\u001b[0m         \u001b[38;5;28minput\u001b[39m \u001b[38;5;241m=\u001b[39m \u001b[43mstep\u001b[49m\u001b[38;5;241;43m.\u001b[39;49m\u001b[43minvoke\u001b[49m\u001b[43m(\u001b[49m\n\u001b[0;32m   2500\u001b[0m \u001b[43m            \u001b[49m\u001b[38;5;28;43minput\u001b[39;49m\u001b[43m,\u001b[49m\n\u001b[0;32m   2501\u001b[0m \u001b[43m            \u001b[49m\u001b[38;5;66;43;03m# mark each step as a child run\u001b[39;49;00m\n\u001b[0;32m   2502\u001b[0m \u001b[43m            \u001b[49m\u001b[43mpatch_config\u001b[49m\u001b[43m(\u001b[49m\n\u001b[0;32m   2503\u001b[0m \u001b[43m                \u001b[49m\u001b[43mconfig\u001b[49m\u001b[43m,\u001b[49m\u001b[43m \u001b[49m\u001b[43mcallbacks\u001b[49m\u001b[38;5;241;43m=\u001b[39;49m\u001b[43mrun_manager\u001b[49m\u001b[38;5;241;43m.\u001b[39;49m\u001b[43mget_child\u001b[49m\u001b[43m(\u001b[49m\u001b[38;5;124;43mf\u001b[39;49m\u001b[38;5;124;43m\"\u001b[39;49m\u001b[38;5;124;43mseq:step:\u001b[39;49m\u001b[38;5;132;43;01m{\u001b[39;49;00m\u001b[43mi\u001b[49m\u001b[38;5;241;43m+\u001b[39;49m\u001b[38;5;241;43m1\u001b[39;49m\u001b[38;5;132;43;01m}\u001b[39;49;00m\u001b[38;5;124;43m\"\u001b[39;49m\u001b[43m)\u001b[49m\n\u001b[0;32m   2504\u001b[0m \u001b[43m            \u001b[49m\u001b[43m)\u001b[49m\u001b[43m,\u001b[49m\n\u001b[0;32m   2505\u001b[0m \u001b[43m        \u001b[49m\u001b[43m)\u001b[49m\n\u001b[0;32m   2506\u001b[0m \u001b[38;5;66;03m# finish the root run\u001b[39;00m\n\u001b[0;32m   2507\u001b[0m \u001b[38;5;28;01mexcept\u001b[39;00m \u001b[38;5;167;01mBaseException\u001b[39;00m \u001b[38;5;28;01mas\u001b[39;00m e:\n",
      "File \u001b[1;32mc:\\project\\Talent_transformation_tool\\RAGENV\\Lib\\site-packages\\langchain_core\\prompts\\base.py:128\u001b[0m, in \u001b[0;36mBasePromptTemplate.invoke\u001b[1;34m(self, input, config)\u001b[0m\n\u001b[0;32m    126\u001b[0m \u001b[38;5;28;01mif\u001b[39;00m \u001b[38;5;28mself\u001b[39m\u001b[38;5;241m.\u001b[39mtags:\n\u001b[0;32m    127\u001b[0m     config[\u001b[38;5;124m\"\u001b[39m\u001b[38;5;124mtags\u001b[39m\u001b[38;5;124m\"\u001b[39m] \u001b[38;5;241m=\u001b[39m config[\u001b[38;5;124m\"\u001b[39m\u001b[38;5;124mtags\u001b[39m\u001b[38;5;124m\"\u001b[39m] \u001b[38;5;241m+\u001b[39m \u001b[38;5;28mself\u001b[39m\u001b[38;5;241m.\u001b[39mtags\n\u001b[1;32m--> 128\u001b[0m \u001b[38;5;28;01mreturn\u001b[39;00m \u001b[38;5;28;43mself\u001b[39;49m\u001b[38;5;241;43m.\u001b[39;49m\u001b[43m_call_with_config\u001b[49m\u001b[43m(\u001b[49m\n\u001b[0;32m    129\u001b[0m \u001b[43m    \u001b[49m\u001b[38;5;28;43mself\u001b[39;49m\u001b[38;5;241;43m.\u001b[39;49m\u001b[43m_format_prompt_with_error_handling\u001b[49m\u001b[43m,\u001b[49m\n\u001b[0;32m    130\u001b[0m \u001b[43m    \u001b[49m\u001b[38;5;28;43minput\u001b[39;49m\u001b[43m,\u001b[49m\n\u001b[0;32m    131\u001b[0m \u001b[43m    \u001b[49m\u001b[43mconfig\u001b[49m\u001b[43m,\u001b[49m\n\u001b[0;32m    132\u001b[0m \u001b[43m    \u001b[49m\u001b[43mrun_type\u001b[49m\u001b[38;5;241;43m=\u001b[39;49m\u001b[38;5;124;43m\"\u001b[39;49m\u001b[38;5;124;43mprompt\u001b[39;49m\u001b[38;5;124;43m\"\u001b[39;49m\u001b[43m,\u001b[49m\n\u001b[0;32m    133\u001b[0m \u001b[43m\u001b[49m\u001b[43m)\u001b[49m\n",
      "File \u001b[1;32mc:\\project\\Talent_transformation_tool\\RAGENV\\Lib\\site-packages\\langchain_core\\runnables\\base.py:1625\u001b[0m, in \u001b[0;36mRunnable._call_with_config\u001b[1;34m(self, func, input, config, run_type, **kwargs)\u001b[0m\n\u001b[0;32m   1621\u001b[0m     context \u001b[38;5;241m=\u001b[39m copy_context()\n\u001b[0;32m   1622\u001b[0m     context\u001b[38;5;241m.\u001b[39mrun(var_child_runnable_config\u001b[38;5;241m.\u001b[39mset, child_config)\n\u001b[0;32m   1623\u001b[0m     output \u001b[38;5;241m=\u001b[39m cast(\n\u001b[0;32m   1624\u001b[0m         Output,\n\u001b[1;32m-> 1625\u001b[0m         \u001b[43mcontext\u001b[49m\u001b[38;5;241;43m.\u001b[39;49m\u001b[43mrun\u001b[49m\u001b[43m(\u001b[49m\n\u001b[0;32m   1626\u001b[0m \u001b[43m            \u001b[49m\u001b[43mcall_func_with_variable_args\u001b[49m\u001b[43m,\u001b[49m\u001b[43m  \u001b[49m\u001b[38;5;66;43;03m# type: ignore[arg-type]\u001b[39;49;00m\n\u001b[0;32m   1627\u001b[0m \u001b[43m            \u001b[49m\u001b[43mfunc\u001b[49m\u001b[43m,\u001b[49m\u001b[43m  \u001b[49m\u001b[38;5;66;43;03m# type: ignore[arg-type]\u001b[39;49;00m\n\u001b[0;32m   1628\u001b[0m \u001b[43m            \u001b[49m\u001b[38;5;28;43minput\u001b[39;49m\u001b[43m,\u001b[49m\u001b[43m  \u001b[49m\u001b[38;5;66;43;03m# type: ignore[arg-type]\u001b[39;49;00m\n\u001b[0;32m   1629\u001b[0m \u001b[43m            \u001b[49m\u001b[43mconfig\u001b[49m\u001b[43m,\u001b[49m\n\u001b[0;32m   1630\u001b[0m \u001b[43m            \u001b[49m\u001b[43mrun_manager\u001b[49m\u001b[43m,\u001b[49m\n\u001b[0;32m   1631\u001b[0m \u001b[43m            \u001b[49m\u001b[38;5;241;43m*\u001b[39;49m\u001b[38;5;241;43m*\u001b[39;49m\u001b[43mkwargs\u001b[49m\u001b[43m,\u001b[49m\n\u001b[0;32m   1632\u001b[0m \u001b[43m        \u001b[49m\u001b[43m)\u001b[49m,\n\u001b[0;32m   1633\u001b[0m     )\n\u001b[0;32m   1634\u001b[0m \u001b[38;5;28;01mexcept\u001b[39;00m \u001b[38;5;167;01mBaseException\u001b[39;00m \u001b[38;5;28;01mas\u001b[39;00m e:\n\u001b[0;32m   1635\u001b[0m     run_manager\u001b[38;5;241m.\u001b[39mon_chain_error(e)\n",
      "File \u001b[1;32mc:\\project\\Talent_transformation_tool\\RAGENV\\Lib\\site-packages\\langchain_core\\runnables\\config.py:347\u001b[0m, in \u001b[0;36mcall_func_with_variable_args\u001b[1;34m(func, input, config, run_manager, **kwargs)\u001b[0m\n\u001b[0;32m    345\u001b[0m \u001b[38;5;28;01mif\u001b[39;00m run_manager \u001b[38;5;129;01mis\u001b[39;00m \u001b[38;5;129;01mnot\u001b[39;00m \u001b[38;5;28;01mNone\u001b[39;00m \u001b[38;5;129;01mand\u001b[39;00m accepts_run_manager(func):\n\u001b[0;32m    346\u001b[0m     kwargs[\u001b[38;5;124m\"\u001b[39m\u001b[38;5;124mrun_manager\u001b[39m\u001b[38;5;124m\"\u001b[39m] \u001b[38;5;241m=\u001b[39m run_manager\n\u001b[1;32m--> 347\u001b[0m \u001b[38;5;28;01mreturn\u001b[39;00m \u001b[43mfunc\u001b[49m\u001b[43m(\u001b[49m\u001b[38;5;28;43minput\u001b[39;49m\u001b[43m,\u001b[49m\u001b[43m \u001b[49m\u001b[38;5;241;43m*\u001b[39;49m\u001b[38;5;241;43m*\u001b[39;49m\u001b[43mkwargs\u001b[49m\u001b[43m)\u001b[49m\n",
      "File \u001b[1;32mc:\\project\\Talent_transformation_tool\\RAGENV\\Lib\\site-packages\\langchain_core\\prompts\\base.py:111\u001b[0m, in \u001b[0;36mBasePromptTemplate._format_prompt_with_error_handling\u001b[1;34m(self, inner_input)\u001b[0m\n\u001b[0;32m    110\u001b[0m \u001b[38;5;28;01mdef\u001b[39;00m \u001b[38;5;21m_format_prompt_with_error_handling\u001b[39m(\u001b[38;5;28mself\u001b[39m, inner_input: Dict) \u001b[38;5;241m-\u001b[39m\u001b[38;5;241m>\u001b[39m PromptValue:\n\u001b[1;32m--> 111\u001b[0m     _inner_input \u001b[38;5;241m=\u001b[39m \u001b[38;5;28;43mself\u001b[39;49m\u001b[38;5;241;43m.\u001b[39;49m\u001b[43m_validate_input\u001b[49m\u001b[43m(\u001b[49m\u001b[43minner_input\u001b[49m\u001b[43m)\u001b[49m\n\u001b[0;32m    112\u001b[0m     \u001b[38;5;28;01mreturn\u001b[39;00m \u001b[38;5;28mself\u001b[39m\u001b[38;5;241m.\u001b[39mformat_prompt(\u001b[38;5;241m*\u001b[39m\u001b[38;5;241m*\u001b[39m_inner_input)\n",
      "File \u001b[1;32mc:\\project\\Talent_transformation_tool\\RAGENV\\Lib\\site-packages\\langchain_core\\prompts\\base.py:103\u001b[0m, in \u001b[0;36mBasePromptTemplate._validate_input\u001b[1;34m(self, inner_input)\u001b[0m\n\u001b[0;32m    101\u001b[0m missing \u001b[38;5;241m=\u001b[39m \u001b[38;5;28mset\u001b[39m(\u001b[38;5;28mself\u001b[39m\u001b[38;5;241m.\u001b[39minput_variables)\u001b[38;5;241m.\u001b[39mdifference(inner_input)\n\u001b[0;32m    102\u001b[0m \u001b[38;5;28;01mif\u001b[39;00m missing:\n\u001b[1;32m--> 103\u001b[0m     \u001b[38;5;28;01mraise\u001b[39;00m \u001b[38;5;167;01mKeyError\u001b[39;00m(\n\u001b[0;32m    104\u001b[0m         \u001b[38;5;124mf\u001b[39m\u001b[38;5;124m\"\u001b[39m\u001b[38;5;124mInput to \u001b[39m\u001b[38;5;132;01m{\u001b[39;00m\u001b[38;5;28mself\u001b[39m\u001b[38;5;241m.\u001b[39m\u001b[38;5;18m__class__\u001b[39m\u001b[38;5;241m.\u001b[39m\u001b[38;5;18m__name__\u001b[39m\u001b[38;5;132;01m}\u001b[39;00m\u001b[38;5;124m is missing variables \u001b[39m\u001b[38;5;132;01m{\u001b[39;00mmissing\u001b[38;5;132;01m}\u001b[39;00m\u001b[38;5;124m. \u001b[39m\u001b[38;5;124m\"\u001b[39m\n\u001b[0;32m    105\u001b[0m         \u001b[38;5;124mf\u001b[39m\u001b[38;5;124m\"\u001b[39m\u001b[38;5;124m Expected: \u001b[39m\u001b[38;5;132;01m{\u001b[39;00m\u001b[38;5;28mself\u001b[39m\u001b[38;5;241m.\u001b[39minput_variables\u001b[38;5;132;01m}\u001b[39;00m\u001b[38;5;124m\"\u001b[39m\n\u001b[0;32m    106\u001b[0m         \u001b[38;5;124mf\u001b[39m\u001b[38;5;124m\"\u001b[39m\u001b[38;5;124m Received: \u001b[39m\u001b[38;5;132;01m{\u001b[39;00m\u001b[38;5;28mlist\u001b[39m(inner_input\u001b[38;5;241m.\u001b[39mkeys())\u001b[38;5;132;01m}\u001b[39;00m\u001b[38;5;124m\"\u001b[39m\n\u001b[0;32m    107\u001b[0m     )\n\u001b[0;32m    108\u001b[0m \u001b[38;5;28;01mreturn\u001b[39;00m inner_input\n",
      "\u001b[1;31mKeyError\u001b[0m: 'Input to PromptTemplate is missing variables {\\'\\\\n  \"recommended_courses\"\\'}.  Expected: [\\'\\\\n  \"recommended_courses\"\\'] Received: [\\'context\\', \\'skills\\', \\'experience\\']'"
     ]
    }
   ],
   "source": [
    "response = chain_1.invoke({\"user_skills\": \"Python and AI\",\n",
    "                           \"user_experience\": 2.5})\n",
    "\n",
    "print(response.content)"
   ]
  },
  {
   "cell_type": "code",
   "execution_count": null,
   "metadata": {},
   "outputs": [],
   "source": []
  }
 ],
 "metadata": {
  "kernelspec": {
   "display_name": "RAGENV",
   "language": "python",
   "name": "python3"
  },
  "language_info": {
   "codemirror_mode": {
    "name": "ipython",
    "version": 3
   },
   "file_extension": ".py",
   "mimetype": "text/x-python",
   "name": "python",
   "nbconvert_exporter": "python",
   "pygments_lexer": "ipython3",
   "version": "3.12.2"
  }
 },
 "nbformat": 4,
 "nbformat_minor": 2
}
