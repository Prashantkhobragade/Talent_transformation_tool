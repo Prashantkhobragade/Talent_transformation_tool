{
 "cells": [
  {
   "cell_type": "code",
   "execution_count": 43,
   "metadata": {},
   "outputs": [
    {
     "data": {
      "text/plain": [
       "[Document(page_content=\"Course Title Course Link Description Course length Learner Level\\nGit & GitHub - The Practical Guide https://www.udemy.com/course/git-github-practical-guide/?couponCode=LETSLEARNNOWP Learn Git & GitHub and master working with commits, branches, the stash, cherry picking, rebasing, pull requests & more 10.5 hours All Level\\nGit & GitHub for Beginners & Integration With Popular IDEs https://www.udemy.com/course/git-github-for-beginners-integration-with-popular-ides/?couponCode=LETSLEARNNOWPP Practical Approach to Version Control Git and GitHub. Learn How Git Works With IntelliJ, Pycharm, Visual Studio, Eclipse 4 hours All Level\\nGIT: Advanced commands https://www.udemy.com/course/git-advanced-commands/?couponCode=LETSLEARNNOWPP Practical GIT training: cherry pick, rebase, revert, stash, clean, and more. Take your GIT skills to the next level 4 hours All Level\\nGit & GitHub - The Complete Git & GitHub Course https://www.udemy.com/course/git-github-the-complete-git-github-course/?couponCode=LETSLEARNNOWPP Git & GitHub - The complete step-by-step guide from scratch 3.2 hours All Level\\nLinux for Beginners: Linux Basics https://www.udemy.com/course/linux-for-beginners-2021/?couponCode=LETSLEARNNOWPP Linux For Beginners covers Linux basics. You will learn Linux fundamental skills; Command line, Linux Administration 2.2 hours All Level\\nLinux Crash Course for Beginners https://www.udemy.com/course/learn-linux-on-a-weekend/?couponCode=LETSLEARNNOWPP Linux System Administration and Linux Command Line 6 hours All Level\\nLinux Command Line Basics https://www.udemy.com/course/linux-command-line-volume1/?couponCode=LETSLEARNNOWPP This is an introductory course to the Linux command Line. It's great for both Linux beginners and advanced Linux users 5 hours All Level\\nLinux - The Complete Linux Guide https://www.udemy.com/course/linux-complete/?couponCode=LETSLEARNNOWPP Learn core Linux features on practice - Linux Shell, Linux Command Line, Bash and sh Shells, Linux Administration, SSH 6 hours All Level\\nSAP BTP Training - From Basics to Advanced [Hands-on] https://www.udemy.com/course/sap-btp-training-from-basics-to-advanced/?couponCode=LETSLEARNNOWPP Start your SAP BTP Cloud journey From BTP concepts To Development of Full-Stack Fiori Application with CAP & HANA Cloud 6 hours All Level\\nSAP BTP For Beginners https://www.udemy.com/course/sap-btp-for-beginners/?couponCode=LETSLEARNNOWPP Learn SAP's Business Technology Platform in detail by exploring the Tools and Services available in SAP BTP 4.5 hours All Level\\nLearn SAP CAPM (Cloud Application Programming Model) https://www.udemy.com/course/learn-sap-capm-cloud-application-programming-model/?couponCode=LETSLEARNNOWPP Learn NodeJS based CAPM Model With CDS End-to-End from SAP for Cloud App Development in SCP/BTP 6.5 hours All Level\\nStep-by-step guide to SAP BTP, SAP HANA Cloud,CAPM, BAS https://www.udemy.com/course/step-by-step-guide-to-sap-btp-hana-cloud-capm-bas/?couponCode=LETSLEARNNOWPP SAP HANA Cloud, Cloud Application Programming, Business Application Studio, BTP 6 hours All Level\\nLearn SAP BTP https://www.udemy.com/course/learn-sap-btp/?couponCode=LETSLEARNNOWPP Get started with SAP BTP Understand SAP BTP, SAP Cloud Foundry, SAP Kyma and Usage 5 hours All Level\", metadata={'source': 'data\\\\mandatory course.pdf', 'page': 0}),\n",
       " Document(page_content=\"Course Title Course Link Description Course Length Learner Level\\nPython for Data Science and Machine Learning Bootcamp https://www.udemy.com/course/python-for-data-science-and-machine-learning-bootcamp/ Learn how to use NumPy, Pandas, Seaborn , Matplotlib , Plotly , Scikit-Learn , Machine Learning, Tensorflow , and more! 25 total hours All Levels\\nThe Data Science Course: Complete Data Science Bootcamp 2024\\n https://www.udemy.com/course/the-data-science-course-complete-data-science-bootcamp/ Complete Data Science Training: Math, Statistics, Python, Advanced Statistics in Python, Machine and Deep Learning 32 total hours All Levels\\nR Programming A-Z™: R For Data Science With Real Exercises!\\n https://www.udemy.com/course/r-programming/ Learn Programming In R And R Studio. Data Analytics, Data Science, Statistical Analysis, Packages, Functions, GGPlot2 10.5 total hours All Levels\\nStatistics for Data Science and Business Analysis\\n https://www.udemy.com/course/statistics-for-data-science-and-business-analysis/ Statistics you need in the office: Descriptive & Inferential statistics, Hypothesis testing, Regression analysis 5 total hours All Levels\\nData Science A-Z: Hands-On Exercises & ChatGPT Prize [2024]\\n https://www.udemy.com/course/datascience/ Learn Data Science step by step through real Analytics examples. Data Mining, Modeling, Tableau Visualization and more! 21 total hours All Levels\\nMachine Learning, Data Science and Generative AI with Python\\n https://www.udemy.com/course/data-science-and-machine-learning-with-python-hands-on/ Complete hands-on machine learning and GenAI tutorial with data science, Tensorflow, GPT, OpenAI, and neural networks 19 total hours Beginner\\nPython A-Z™: Python For Data Science With Real Exercises! https://www.udemy.com/course/python-coding/ Programming In Python For Data Analytics And Data Science. Learn Statistical Analysis, Data Mining And Visualization 11 total hours All Levels\\nComplete A.I. & Machine Learning, Data Science Bootcamp\\n https://www.udemy.com/course/complete-machine-learning-and-data-science-zero-to-mastery/ Learn Data Science, Data Analysis, Machine Learning (Artificial Intelligence) and Python with Tensorflow, Pandas & more! 44 total hours All Levels\\nData Science and Machine Learning Bootcamp with R\\n https://www.udemy.com/course/data-science-and-machine-learning-bootcamp-with-r/ Learn how to use the R programming language for data science and machine learning and data visualization! 18 total hours All Levels\\nIntroduction to Machine Learning for Data Science\\n https://www.udemy.com/course/machine-learning-for-data-science/ A primer on Machine Learning for Data Science. Revealed for everyday people, by the Backyard Data Scientist. 5.5 total hours Beginner\\nBuild Responsive Real-World Websites with HTML and CSS\\n https://www.udemy.com/course/design-and-develop-a-killer-website-with-html5-and-css3/ Learn modern HTML5, CSS3 and web design by building a stunning website for your portfolio! Includes flexbox and CSS Grid 37.5 total hours All Levels\\nHTML and CSS for Beginners - Build a Website & Launch ONLINE\\n https://www.udemy.com/course/html-and-css-for-beginners-crash-course-learn-fast-easy/ HTML and CSS for Beginners course will give your all the knowledge you need to master HTML and CSS easily and quickly. 6 total hours All Levels\\nResponsive Web Design: HTML5 + CSS3 for Entrepreneurs 2018\\n https://www.udemy.com/course/html-css-more/ Build a coding foundation as an entrepreneur, where I’ll take you through the entire process of coding your own website 5.5 total hours Beginner\\nWeb Design for Beginners: Real World Coding in HTML & CSS\\n https://www.udemy.com/course/web-design-for-beginners-real-world-coding-in-html-css/ Launch a career as a web designer by learning HTML5, CSS3, responsive design, Sass and more! 11.5 total hours All Levels\\nHTML5 and CSS3 Fundamentals\\n https://www.udemy.com/course/html5-fundamentals-for-beginners/ Build your very own website with HTML5 from scratch using HTML5 and CSS3 - designed for complete beginners 5 total hours Beginner\\nLearn HTML5 Programming From Scratch\\n https://www.udemy.com/course/learn-html5-programming-from-scratch/ A Complete HTML5 Programming Course for Beginners 17 total hours All Levels\\nBuild Websites from Scratch with HTML & CSS\\n https://www.udemy.com/course/build-website-scratch/ Learn Web Development Essentials and Become a Web Developer From Scratch in this Complete HTML & CSS Beginner's Course 8.5 total hours Beginner\\nIntroduction to Cloud Computing on AWS for Beginners [2024]\\n https://www.udemy.com/course/introduction-to-cloud-computing-on-amazon-aws-for-beginners/ Learn Cloud Computing Concepts and AWS Basics | Master AWS Fundamentals and Hands-on Skills on Amazon Web Services (AWS) 9.5 total hours Beginner\\nCloud Computing Fundamentals\\n https://www.udemy.com/course/welcome-to-cloud-computing-world/ A course describing the basics of cloud computing and most of the aspects related to this topic 3 total hours Beginner\", metadata={'source': 'data\\\\udemy data - Courses.pdf', 'page': 0}),\n",
       " Document(page_content='AWS Business Essentials - The Business Value of AWS [2024]\\n https://www.udemy.com/course/aws-business-essentials/ Learn the fundamentals of cloud computing and Amazon Web Services AWS | Build a business case for migrating to AWS Cloud 2.5 total hours Beginner\\nTOTAL: Cloud Computing / CompTIA Cloud+ (CV0-003)\\n https://www.udemy.com/course/total-cloud-computing-comptia-cloud-cert-cv0-002/ Learn the basics of Cloud Computing and/or prepare for the CompTIA Cloud+ Certification Exam. 15 total hours Intermediate\\nIntroduction to the Cloud - The basics in only 2 hours!\\n https://www.udemy.com/course/cloudintro/ Learn the basics of the Cloud with no prior knowledge required. Ideal for beginners, management, and students. 2 total hours Beginner\\nCloud Computing for Beginners - Infrastructure as a Service\\n https://www.udemy.com/course/cloud-computing-for-beginners-infrastructure-as-a-service/ Learn the Technology, Concept and Market Use Cases of Infrastructure as a Service Model in Public Cloud Computing 2.5 total hours Beginner\\nBuilding Cloud Infrastructure with Terraform\\n https://www.udemy.com/course/building-cloud-infrastructure-with-terraform/ Create and manage cloud infrastructure as code 4.5 total hours Intermediate\\nThe Complete Cloud Computing Software Architecture Patterns\\n https://www.udemy.com/course/the-complete-cloud-computing-software-architecture-patterns/ Architect Large Scale Systems using Cloud Computing, Software Architecture Patterns & Modern System Design Principles 4.5 total hours All Levels\\nDevOps Beginners to Advanced with Projects\\n https://www.udemy.com/course/decodingdevops/ Begin DevOps Career As an Absolute Beginner | AWS, Linux, Scripts, Jenkins, Ansible, GitOps, Docker,Kubernetes, &ChatGPT 55 total hours All Levels\\nThe DevOps Essentials - The Handbook\\n https://www.udemy.com/course/the-devops-essentials/ All the basics you need to know - Get started with DevOps 2 total hours Beginner\\nDevOps Project 1 - CI/CD with Git Jenkins Ansible Kubernetes\\n https://www.udemy.com/course/valaxy-devops/ 100% Hands-on labs on how to create DevOps CI/CD pipelines using Git, Jenkins, Ansible, Docker and Kubernetes on AWS 6.5 total hours All Levels\\nLearn DevOps: CI/CD with Jenkins using Pipelines and Docker\\n https://www.udemy.com/course/learn-devops-ci-cd-with-jenkins-using-pipelines-and-docker/ Use Jenkins the DevOps way. Automate your Jenkins jobs by using Jenkins Pipelines, Docker, and the Jenkins Job DSL 4.5 total hours All Levels\\nLearn DevOps: The Complete Kubernetes Course\\n https://www.udemy.com/course/learn-devops-the-complete-kubernetes-course/ Kubernetes will run and manage your containerized applications. Learn how to build, deploy, use, and maintain Kubernetes 14 total hours All Levels\\nDocker Crash Course for busy DevOps and Developers\\n https://www.udemy.com/course/docker-tutorial-for-devops-run-docker-containers/ Learn how to develop and deploy web applications with Docker technologies. Take your DevOps skills to the next level. 3 total hours All Levels\\nLearn DevOps: Infrastructure Automation With Terraform\\n https://www.udemy.com/course/learn-devops-infrastructure-automation-with-terraform/ Learn how to automate your infrastructure with terraform. Covers Terraform with AWS, Packer, Docker, ECS, EKS, Jenkins 11.5 total hours Beginner\\nLearn DevOps: Docker, Kubernetes, Terraform and Azure DevOps\\n https://www.udemy.com/course/devops-with-docker-kubernetes-and-azure-devops/ DevOps for Absolute Beginners: Azure DevOps, Docker, Kubernetes, Jenkins, Terraform, Ansible - AWS, Azure & Google Cloud 21.5 total hours All Levels\\nDevOps MasterClass 2024: Terraform Kubernetes Ansible Docker\\n https://www.udemy.com/course/devops-training/ DevOps with Jenkins Terraform GIT Docker Maven Kubernetes Ansible Automation Docker Swarm, DevOps Real world Exercises 71 total hours All Levels\\nSRE - The Big Picture\\n https://www.udemy.com/course/sre-the-big-picture/ DevOps in practice! Amaze your customers balancing reliability and innovation 2 total hours All Levels\\nThe Ultimate DevOps Bootcamp - 2023\\n https://www.udemy.com/course/the-complete-devops-bootcamp/ The ultimate DevOps Bootcamp course for all your DevOps learning 17.5 total hours Beginner\\nIntroduction to Devops - Learn DevOps basics in 90 Minutes!\\n https://www.udemy.com/course/devopscrash/ Learn the basics of DevOps with no prior knowledge required. Ideal for anyone new to DevOps. 2 total hours Beginner\\nDevOps Projects | Real Time DevOps & GitOps Projects\\n https://www.udemy.com/course/devopsprojects/ Master Your DevOps Skills with Real challenge 40 total hours Intermediate', metadata={'source': 'data\\\\udemy data - Courses.pdf', 'page': 1}),\n",
       " Document(page_content='Learn Devops: Continuously Deliver Better Software\\n https://www.udemy.com/course/learn-devops-continuously-deliver-better-software/ Excel in delivering and deploying software using Git, Vagrant, Chef, Ansible, Jenkins, Docker, and Kubernetes 4.5 total hours All Levels\\nDevOps Fundamentals\\n https://www.udemy.com/course/devops-fundamentals-for-beginners/ The simplest course to learn the fundamentals of DevOps right from scratch 2 total hours Beginner\\nDevOps Tutorial: Complete Beginners Training - 5 in 1 Bundle\\n https://www.udemy.com/course/devops-docker-complete-guide-hands-on-with-practical/ Devops Engineer DevOps AWS DevOps Docker DevOps Jenkins DevOpsGIT , DevOps Vagran DevOps Maven 8.5 total hours All Levels\\nMore than Certified in Terraform\\n https://www.udemy.com/course/terraform-certified/ Learn Terraform Using Docker, AWS, Kubernetes, and more! 12.5 total hours Beginner\\nThe Docker for DevOps course: From development to production\\n https://www.udemy.com/course/the-docker-for-devops-course-from-development-to-production/ Updated for Docker v19.03+. Learn how to build and deploy web applications with Docker in an automated way. 8 total hours All Levels\\nDevops Tools and AWS for Java Microservice Developers\\n https://www.udemy.com/course/devops-tools-and-aws-for-java-microservice-developers/ Master Docker , Kubernetes, Maven, Jenkins ,GIT , AWS EC2 ,Elastic Beanstalk,ELB,Auto Scaling and more in easy steps 20.5 total hours All Levels\\nProject in DevOps: Jenkins CI/CD for Kubernetes Deployments\\n https://www.udemy.com/course/devops-project-jenkins-cicd-for-kubernetes-deployments/ Explore 100% Real Time DevOps Tools Integration with Git, SonarQube, Jfrog, Jenkins, Ansible, Docker, Kubernetes, Tomcat 4 total hours All Levels\\nLearn DevOps: Advanced Kubernetes Usage\\n https://www.udemy.com/course/learn-devops-advanced-kubernetes-usage/ Covering Authentication, Authorization, Logging, Helm, Deploying with Spinnaker, Prometheus, Scheduling and more 3.5 total hours Expert\\nMicrosoft Azure DevOps :Automate App Deployment From Scratch\\n https://www.udemy.com/course/master-azure-devops-from-scratch-automate-app-lifecycle/ Microsoft Azure DevOps - Create, manage & deploy an application just form the VS code (IDE) with fully automated CI/CD 4 total hours Intermediate', metadata={'source': 'data\\\\udemy data - Courses.pdf', 'page': 2})]"
      ]
     },
     "execution_count": 43,
     "metadata": {},
     "output_type": "execute_result"
    }
   ],
   "source": [
    "from langchain_community.document_loaders import PyPDFDirectoryLoader\n",
    "\n",
    "loader = PyPDFDirectoryLoader(\"./data\")\n",
    "docs = loader.load()\n",
    "docs"
   ]
  },
  {
   "cell_type": "code",
   "execution_count": 44,
   "metadata": {},
   "outputs": [],
   "source": [
    "from langchain.text_splitter import RecursiveCharacterTextSplitter\n",
    "\n",
    "text_splitter = RecursiveCharacterTextSplitter(chunk_size = 500, chunk_overlap = 50)\n",
    "documents = text_splitter.split_documents(docs)"
   ]
  },
  {
   "cell_type": "code",
   "execution_count": 45,
   "metadata": {},
   "outputs": [],
   "source": [
    "from langchain_community.embeddings import OllamaEmbeddings\n",
    "from langchain_community.vectorstores import FAISS"
   ]
  },
  {
   "cell_type": "code",
   "execution_count": 46,
   "metadata": {},
   "outputs": [],
   "source": [
    "db = FAISS.from_documents(documents, OllamaEmbeddings())"
   ]
  },
  {
   "cell_type": "code",
   "execution_count": 47,
   "metadata": {},
   "outputs": [
    {
     "data": {
      "text/plain": [
       "<langchain_community.vectorstores.faiss.FAISS at 0x1e4a1430ef0>"
      ]
     },
     "execution_count": 47,
     "metadata": {},
     "output_type": "execute_result"
    }
   ],
   "source": [
    "db"
   ]
  },
  {
   "cell_type": "code",
   "execution_count": 48,
   "metadata": {},
   "outputs": [],
   "source": [
    "from langchain_groq import ChatGroq\n",
    "from langchain_core.output_parsers import StrOutputParser\n",
    "\n"
   ]
  },
  {
   "cell_type": "code",
   "execution_count": 49,
   "metadata": {},
   "outputs": [
    {
     "data": {
      "text/plain": [
       "True"
      ]
     },
     "execution_count": 49,
     "metadata": {},
     "output_type": "execute_result"
    }
   ],
   "source": [
    "from dotenv import load_dotenv\n",
    "import os\n",
    "\n",
    "load_dotenv()"
   ]
  },
  {
   "cell_type": "code",
   "execution_count": 50,
   "metadata": {},
   "outputs": [],
   "source": [
    "load_dotenv()\n",
    "groq_api_key=os.getenv('GROQ_API_KEY')\n"
   ]
  },
  {
   "cell_type": "code",
   "execution_count": 51,
   "metadata": {},
   "outputs": [],
   "source": [
    "llm = ChatGroq(groq_api_key = groq_api_key,\n",
    "               model_name=\"Llama3-8b-8192\")"
   ]
  },
  {
   "cell_type": "code",
   "execution_count": 52,
   "metadata": {},
   "outputs": [],
   "source": [
    "from langchain_core.prompts import ChatPromptTemplate\n",
    "\n",
    "prompt=ChatPromptTemplate.from_template(\n",
    "\"\"\"\n",
    "Act as helpfull Talent Transformation assistant and suggest the best Courses to take based on the given \n",
    "context, given {skills} and given {experience}. also provide Course link, duration and level of the course.\n",
    "\n",
    "Prepare 3 sets of courses based on the total duration of the courses and each set should have \n",
    "at least 2 course.\n",
    "\n",
    "The describution for the sets are following:\n",
    "    - Set 1 Which we called \"1 day plan\", total duration of all the courses in set 1 should be less then 5 hours\n",
    "    - Set 2 Which we called \"3 day plan\", total duration of all the courses in set 2 should be grater then 12 hours but less then 15 hours\n",
    "    - Set 3 Which we called \"5 day plan\", total duration of all the courses in set 3 should be grater then 22 hours but less then 25 hours\n",
    "\n",
    "Do not suggest courses which you have already suggested.\n",
    "\n",
    "You must provide the following things in the answer:\n",
    "    - Course Name\n",
    "    - Course Link\n",
    "    - Course Duration\n",
    "    - Course Level\n",
    "\n",
    "\n",
    "\n",
    "Be as concise as possible when giving answers. Do not anounce that you will answering. \n",
    "Do not say \"Let's get started\", or \"Based on the skills you provided, I would recommend the \n",
    "following courses to help you enhance your knowledge and skills : \" or \"Here are some courses\"\n",
    "and do not introduce your answer. Just write the your answer.\n",
    "\n",
    "<context>\n",
    "{context}\n",
    "<context>\n",
    "\n",
    "skills : {skills}\n",
    "\n",
    "experience : {experience}\n",
    "\n",
    "\"\"\"\n",
    ")"
   ]
  },
  {
   "cell_type": "code",
   "execution_count": 53,
   "metadata": {},
   "outputs": [],
   "source": [
    "retriever = db.as_retriever()"
   ]
  },
  {
   "cell_type": "code",
   "execution_count": 54,
   "metadata": {},
   "outputs": [],
   "source": [
    "from langchain_core.runnables import RunnableParallel, RunnablePassthrough\n",
    "from langchain_core.output_parsers import StrOutputParser\n",
    "\n",
    "parser = StrOutputParser()\n",
    "setup = RunnableParallel(context=retriever, skills = RunnablePassthrough(), experience = RunnablePassthrough())"
   ]
  },
  {
   "cell_type": "code",
   "execution_count": 55,
   "metadata": {},
   "outputs": [],
   "source": [
    "chain = setup | prompt | llm | parser"
   ]
  },
  {
   "cell_type": "code",
   "execution_count": 56,
   "metadata": {},
   "outputs": [],
   "source": [
    "response = chain.invoke({\"skills\": \"python and AI\",\n",
    "              \"experience\": 2.5})"
   ]
  },
  {
   "cell_type": "code",
   "execution_count": 57,
   "metadata": {},
   "outputs": [
    {
     "name": "stdout",
     "output_type": "stream",
     "text": [
      "Here are the recommended courses for each set:\n",
      "\n",
      "**Set 1: 1-day plan**\n",
      "\n",
      "* **Python for Everybody (3 hours)**: https://www.coursera.org/specializations/python-for-everybody\n",
      "\t+ Level: Beginner\n",
      "\t+ Duration: 3 hours\n",
      "\t+ Description: Learn the basics of Python programming\n",
      "* **Introduction to Artificial Intelligence (2 hours)**: https://www.coursera.org/learn/introduction-artificial-intelligence\n",
      "\t+ Level: Beginner\n",
      "\t+ Duration: 2 hours\n",
      "\t+ Description: Learn the basics of Artificial Intelligence\n",
      "\n",
      "**Set 2: 3-day plan**\n",
      "\n",
      "* **Python Machine Learning (6 hours)**: https://www.coursera.org/specializations/python-machine-learning\n",
      "\t+ Level: Intermediate\n",
      "\t+ Duration: 6 hours\n",
      "\t+ Description: Learn the basics of Machine Learning with Python\n",
      "* **Deep Learning with Python (6 hours)**: https://www.coursera.org/specializations/deep-learning-python\n",
      "\t+ Level: Intermediate\n",
      "\t+ Duration: 6 hours\n",
      "\t+ Description: Learn the basics of Deep Learning with Python\n",
      "\n",
      "**Set 3: 5-day plan**\n",
      "\n",
      "* **Python Data Structures (8 hours)**: https://www.coursera.org/specializations/python-data-structures\n",
      "\t+ Level: Intermediate\n",
      "\t+ Duration: 8 hours\n",
      "\t+ Description: Learn the basics of Data Structures in Python\n",
      "* **Artificial Intelligence (8 hours)**: https://www.coursera.org/specializations/artificial-intelligence\n",
      "\t+ Level: Intermediate\n",
      "\t+ Duration: 8 hours\n",
      "\t+ Description: Learn the basics of Artificial Intelligence\n"
     ]
    }
   ],
   "source": [
    "print(response)"
   ]
  },
  {
   "cell_type": "code",
   "execution_count": 58,
   "metadata": {},
   "outputs": [
    {
     "name": "stdout",
     "output_type": "stream",
     "text": [
      "Here are three sets of courses based on the given context:\n",
      "\n",
      "**Set 1: 1 day plan (total duration: 4.5 hours)**\n",
      "\n",
      "* Course 1: \"The Docker for DevOps Course from Development to Production\" (8 hours, All Levels, https://www.udemy.com/course/the-docker-for-devops-course-from-development-to-production/)\n",
      "* Course 2: \"DevOps Tools and AWS for Java Microservice Developers\" (20.5 hours, All Levels, https://www.udemy.com/course/devops-tools-and-aws-for-java-microservice-developers/)\n",
      "\n",
      "**Set 2: 3 day plan (total duration: 14.5 hours)**\n",
      "\n",
      "* Course 1: \"The Docker for DevOps Course from Development to Production\" (8 hours, All Levels, https://www.udemy.com/course/the-docker-for-devops-course-from-development-to-production/)\n",
      "* Course 2: \"DevOps Tools and AWS for Java Microservice Developers\" (20.5 hours, All Levels, https://www.udemy.com/course/devops-tools-and-aws-for-java-microservice-developers/)\n",
      "\n",
      "**Set 3: 5 day plan (total duration: 24 hours)**\n",
      "\n",
      "* Course 1: \"The Docker for DevOps Course from Development to Production\" (8 hours, All Levels, https://www.udemy.com/course/the-docker-for-devops-course-from-development-to-production/)\n",
      "* Course 2: \"The Complete Cloud Computing Software Architecture Patterns\" (4.5 hours, All Levels, https://www.udemy.com/course/the-complete-cloud-computing-software-architecture-patterns/)\n",
      "* Course 3: \"DevOps Beginners to Advanced with Projects\" (total duration: 11.5 hours, All Levels, https://www.udemy.com/course/devops-beginners-to-advanced-with-projects/)\n"
     ]
    }
   ],
   "source": [
    "response_2 = chain.invoke({\"skills\": \"Java, AWS and Docker\",\n",
    "              \"experience\": 1})\n",
    "\n",
    "print(response_2)"
   ]
  },
  {
   "cell_type": "code",
   "execution_count": 59,
   "metadata": {},
   "outputs": [
    {
     "name": "stdout",
     "output_type": "stream",
     "text": [
      "Here are the suggested courses for each set:\n",
      "\n",
      "**Set 1: 1 Day Plan**\n",
      "\n",
      "1. The Docker for DevOps Course from Development to Production (8 hours, All Levels) - https://www.udemy.com/course/the-docker-for-devops-course-from-development-to-production/\n",
      "2. DevOps Tools and AWS for Java Microservice Developers (20.5 hours, All Levels) - https://www.udemy.com/course/devops-tools-and-aws-for-java-microservice-developers/\n",
      "\n",
      "**Set 2: 3 Day Plan**\n",
      "\n",
      "1. The Complete Cloud Computing Software Architecture Patterns (4.5 hours, All Levels) - https://www.udemy.com/course/the-complete-cloud-computing-software-architecture-patterns/\n",
      "2. Design and Develop a Killer Website with HTML5 and CSS3 (37.5 hours, All Levels) - https://www.udemy.com/course/design-and-develop-a-killer-website-with-html5-and-css3/\n",
      "\n",
      "**Set 3: 5 Day Plan**\n",
      "\n",
      "1. DevOps: Jenkins CI/CD for Kubernetes Deployments (20.5 hours, All Levels) - https://www.udemy.com/course/devops-tools-and-aws-for-java-microservice-developers/\n",
      "2. HTML and CSS for Beginners - Build a Website & Launch ONLINE (37.5 hours, All Levels) - https://www.udemy.com/course/html-and-css-for-beginners-build-a-website-launch-online\n"
     ]
    }
   ],
   "source": [
    "response_3 = chain.invoke({\"skills\": \"DevOps and AWS\",\n",
    "              \"experience\": 2})\n",
    "\n",
    "print(response_3)"
   ]
  },
  {
   "cell_type": "code",
   "execution_count": 60,
   "metadata": {},
   "outputs": [
    {
     "name": "stdout",
     "output_type": "stream",
     "text": [
      "Set 1: \"1 day plan\" (Total duration: 3.5 hours)\n",
      "\n",
      "* Course Name: The Docker for DevOps Course from Development to Production\n",
      "\t+ Course Link: https://www.udemy.com/course/the-docker-for-devops-course-from-development-to-production/\n",
      "\t+ Course Duration: 8 hours\n",
      "\t+ Course Level: All Levels\n",
      "* Course Name: DevOps Tools and AWS for Java Microservice Developers\n",
      "\t+ Course Link: https://www.udemy.com/course/devops-tools-and-aws-for-java-microservice-developers/\n",
      "\t+ Course Duration: 20.5 hours\n",
      "\t+ Course Level: All Levels\n",
      "\n",
      "Set 2: \"3 day plan\" (Total duration: 14 hours)\n",
      "\n",
      "* Course Name: Master Docker, Kubernetes, Maven, Jenkins, GIT, AWS EC2, Elastic Beanstalk, ELB, Auto Scaling and more in easy steps\n",
      "\t+ Course Link: https://www.udemy.com/course/devops-tools-and-aws-for-java-microservice-developers/\n",
      "\t+ Course Duration: 20.5 hours\n",
      "\t+ Course Level: All Levels\n",
      "* Course Name: HTML and CSS for Beginners - Build a Website & Launch ONLINE\n",
      "\t+ Course Link: https://www.udemy.com/course/design-and-develop-a-killer-website-with-html5-and-css3/\n",
      "\t+ Course Duration: 37.5 hours\n",
      "\t+ Course Level: All Levels\n",
      "\n",
      "Set 3: \"5 day plan\" (Total duration: 24.5 hours)\n",
      "\n",
      "* Course Name: Master Docker, Kubernetes, Maven, Jenkins, GIT, AWS EC2, Elastic Beanstalk, ELB, Auto Scaling and more in easy steps\n",
      "\t+ Course Link: https://www.udemy.com/course/devops-tools-and-aws-for-java-microservice-developers/\n",
      "\t+ Course Duration: 20.5 hours\n",
      "\t+ Course Level: All Levels\n",
      "* Course Name: HTML and CSS for Beginners - Build a Website & Launch ONLINE\n",
      "\t+ Course Link: https://www.udemy.com/course/design-and-develop-a-killer-website-with-html5-and-css3/\n",
      "\t+ Course Duration: 37.5 hours\n",
      "\t+ Course Level: All Levels\n"
     ]
    }
   ],
   "source": [
    "response_4 = chain.invoke({\"skills\": \"DevOps\",\n",
    "              \"experience\": 2})\n",
    "\n",
    "print(response_4)"
   ]
  },
  {
   "cell_type": "markdown",
   "metadata": {},
   "source": [
    "### EX 2:"
   ]
  },
  {
   "cell_type": "code",
   "execution_count": 67,
   "metadata": {},
   "outputs": [],
   "source": [
    "prompt_2=ChatPromptTemplate.from_template(\n",
    "\"\"\"\n",
    "Suggest the best courses for Talent Transformation based on the provided {skills} and {experience}.\n",
    "\n",
    "\n",
    "Prepare 3 sets of courses based on total learning hours:\n",
    "- Set 1 (1-day plan): only suggest courses whose Course length < 3 hours\n",
    "- Set 2 (3-day plan): only suggest courses whose Course length is grater then 3 hours and less then 20 hours\n",
    "- Set 3 (5-day plan): only suggest courses whose Course length is grater then 20 hours\n",
    "\n",
    "Also include at least 2 courses for Git & GitHub, Linex and SAP BTP.\n",
    "Each set should include at least 2 courses. Avoid suggesting the same courses.\n",
    "\n",
    "Do not suggest courses from outside. strickly follow the context\n",
    "\n",
    "\n",
    "\n",
    "Requirements:\n",
    "- Course Name\n",
    "- Course Link\n",
    "- Course Duration\n",
    "- Course Level\n",
    "\n",
    "\n",
    "Be as concise as possible when giving answers. Do not anounce that you will answering. \n",
    "Do not say \"Let's get started\", or \"Based on the skills you provided, I would recommend the \n",
    "following courses to help you enhance your knowledge and skills : \" or \"Here are some courses\"\n",
    "and do not introduce your answer. Just write the your answer.\n",
    "\n",
    "<context>\n",
    "{context}\n",
    "<context>\n",
    "\n",
    "Skills: {skills}\n",
    "\n",
    "Experience: {experience}\n",
    "\"\"\"\n",
    ")\n"
   ]
  },
  {
   "cell_type": "code",
   "execution_count": 68,
   "metadata": {},
   "outputs": [],
   "source": [
    "chain_2 = setup | prompt_2 | llm | parser"
   ]
  },
  {
   "cell_type": "code",
   "execution_count": 69,
   "metadata": {},
   "outputs": [
    {
     "name": "stdout",
     "output_type": "stream",
     "text": [
      "Set 1 (1-day plan):\n",
      "1. Statistics for Data Science and Business Analysis\n",
      "   - Course Link: https://www.udemy.com/course/statistics-for-data-science-and-business-analysis/\n",
      "   - Course Duration: 5 hours\n",
      "   - Course Level: All Levels\n",
      "\n",
      "2. AWS Business Essentials - The Business Value of AWS\n",
      "   - Course Link: https://www.udemy.com/course/aws-business-essentials/\n",
      "   - Course Duration: 2.5 hours\n",
      "   - Course Level: Beginner\n",
      "\n",
      "Set 2 (3-day plan):\n",
      "1. Design and Develop a Killer Website with HTML5 and CSS3\n",
      "   - Course Link: https://www.udemy.com/course/design-and-develop-a-killer-website-with-html5-and-css3/\n",
      "   - Course Duration: 37.5 hours\n",
      "   - Course Level: All Levels\n",
      "\n",
      "2. DevOps Tools and AWS for Java Microservice Developers\n",
      "   - Course Link: https://www.udemy.com/course/devops-tools-and-aws-for-java-microservice-developers/\n",
      "   - Course Duration: 20.5 hours\n",
      "   - Course Level: All Levels\n",
      "\n",
      "Set 3 (5-day plan):\n",
      "1. Data Science A-Z: Hands-On Exercises & ChatGPT Prize [2024]\n",
      "   - Course Link: https://www.udemy.com/course/data-science-a-z-hands-on-exercises-chatgpt-prize-2024/\n",
      "   - Course Duration: 24 total hours\n",
      "   - Course Level: All Levels\n",
      "\n",
      "Git & GitHub:\n",
      "1. Project in DevOps: Jenkins CI/CD for Kubernetes Deployments\n",
      "   - Course Link: https://www.udemy.com/course/project-in-devops-jenkins-cicd-for-kubernetes-deployments/\n",
      "   - Course Duration: 20.5 hours\n",
      "   - Course Level: All Levels\n",
      "\n",
      "Linux:\n",
      "1. None found\n",
      "\n",
      "SAP BTP:\n",
      "1. None found\n"
     ]
    }
   ],
   "source": [
    "response = chain_2.invoke({\"skills\": \"python and AI\",\n",
    "              \"experience\": 2.5})\n",
    "\n",
    "print(response)"
   ]
  },
  {
   "cell_type": "code",
   "execution_count": 70,
   "metadata": {},
   "outputs": [
    {
     "name": "stdout",
     "output_type": "stream",
     "text": [
      "**Set 1 (1-day plan)**\n",
      "1. DevOps Tools and AWS for Java Microservice Developers (2 hours, All Levels)\n",
      "\t* https://www.udemy.com/course/devops-tools-and-aws-for-java-microservice-developers/\n",
      "2. The Docker for Devops Course: From Development to Production (8 hours, All Levels)\n",
      "\t* https://www.udemy.com/course/the-docker-for-devops-course-from-development-to-production/\n",
      "\n",
      "**Set 2 (3-day plan)**\n",
      "1. The Complete Cloud Computing Software Architecture Patterns (4.5 hours, All Levels)\n",
      "\t* https://www.udemy.com/course/the-complete-cloud-computing-software-architecture-patterns/\n",
      "2. Devops Tools and AWS for Java Microservice Developers (20.5 hours, All Levels)\n",
      "\t* https://www.udemy.com/course/devops-tools-and-aws-for-java-microservice-developers/\n",
      "\n",
      "**Set 3 (5-day plan)**\n",
      "1. Devops Tools and AWS for Java Microservice Developers (20.5 hours, All Levels)\n",
      "\t* https://www.udemy.com/course/devops-tools-and-aws-for-java-microservice-developers/\n",
      "2. HTML and CSS for Beginners - Build a Website & Launch ONLINE (37.5 hours, All Levels)\n",
      "\t* https://www.udemy.com/course/html-and-css-for-beginners-build-a-website-launch-online/\n",
      "\n",
      "Git & GitHub:\n",
      "1. Project in DevOps: Jenkins CI/CD for Kubernetes Deployments (20.5 hours, All Levels)\n",
      "\t* https://www.udemy.com/course/project-in-devops-jenkins-cicd-for-kubernetes-deployments/\n",
      "\n",
      "Linux:\n",
      "1. The Docker for Devops Course: From Development to Production (8 hours, All Levels)\n",
      "\t* https://www.udemy.com/course/the-docker-for-devops-course-from-development-to-production/\n",
      "\n",
      "SAP BTP:\n",
      "None found\n"
     ]
    }
   ],
   "source": [
    "response_2 = chain_2.invoke({\"skills\": \"Java, AWS and Docker\",\n",
    "              \"experience\": 1})\n",
    "\n",
    "print(response_2)"
   ]
  },
  {
   "cell_type": "code",
   "execution_count": 71,
   "metadata": {},
   "outputs": [
    {
     "name": "stdout",
     "output_type": "stream",
     "text": [
      "Set 1 (1-day plan):\n",
      "\n",
      "1. The Docker for DevOps Course from Development to Production - 8 hours\n",
      "\t* Course Link: https://www.udemy.com/course/the-docker-for-devops-course-from-development-to-production/\n",
      "\t* Course Duration: 8 hours\n",
      "\t* Course Level: All Levels\n",
      "2. DevOps Tools and AWS for Java Microservice Developers - 20.5 hours\n",
      "\t* Course Link: https://www.udemy.com/course/devops-tools-and-aws-for-java-microservice-developers/\n",
      "\t* Course Duration: 20.5 hours\n",
      "\t* Course Level: All Levels\n",
      "\n",
      "Set 2 (3-day plan):\n",
      "\n",
      "1. The Complete Cloud Computing Software Architecture Patterns - 4.5 hours\n",
      "\t* Course Link: https://www.udemy.com/course/the-complete-cloud-computing-software-architecture-patterns/\n",
      "\t* Course Duration: 4.5 hours\n",
      "\t* Course Level: All Levels\n",
      "2. Design and Develop a Killer Website with HTML5 and CSS3 - 37.5 hours\n",
      "\t* Course Link: https://www.udemy.com/course/design-and-develop-a-killer-website-with-html5-and-css3/\n",
      "\t* Course Duration: 37.5 hours\n",
      "\t* Course Level: All Levels\n",
      "\n",
      "Set 3 (5-day plan):\n",
      "\n",
      "1. Master Docker, Kubernetes, Maven, Jenkins, Git, AWS EC2, Elastic Beanstalk, ELB, Auto Scaling, and more in easy steps - 20.5 hours\n",
      "\t* Course Link: https://www.udemy.com/course/devops-tools-and-aws-for-java-microservice-developers/\n",
      "\t* Course Duration: 20.5 hours\n",
      "\t* Course Level: All Levels\n",
      "2. Git and GitHub, Linux, and SAP BTP - (No courses found)\n",
      "\n",
      "Additional courses:\n",
      "1. Git and GitHub - (No courses found)\n",
      "2. Linux - (No courses found)\n",
      "3. SAP BTP - (No courses found)\n"
     ]
    }
   ],
   "source": [
    "response_3 = chain_2.invoke({\"skills\": \"DevOps and AWS\",\n",
    "              \"experience\": 2})\n",
    "\n",
    "print(response_3)"
   ]
  },
  {
   "cell_type": "code",
   "execution_count": 72,
   "metadata": {},
   "outputs": [
    {
     "name": "stdout",
     "output_type": "stream",
     "text": [
      "Set 1 (1-day plan):\n",
      "1. 'DevOps Tools and AWS for Java Microservice Developers' (2 hours)\n",
      "\t* https://www.udemy.com/course/devops-tools-and-aws-for-java-microservice-developers/\n",
      "\t* 20.5 total hours\n",
      "\t* All Levels\n",
      "2. 'The Docker for DevOps Course from Development to Production' (1 hour)\n",
      "\t* https://www.udemy.com/course/the-docker-for-devops-course-from-development-to-production/\n",
      "\t* 8 total hours\n",
      "\t* All Levels\n",
      "\n",
      "Set 2 (3-day plan):\n",
      "1. 'The Complete Cloud Computing Software Architecture Patterns' (4.5 hours)\n",
      "\t* https://www.udemy.com/course/the-complete-cloud-computing-software-architecture-patterns/\n",
      "\t* 4.5 total hours\n",
      "\t* All Levels\n",
      "2. 'Design and Develop a Killer Website with HTML5 and CSS3' (37.5 hours)\n",
      "\t* https://www.udemy.com/course/design-and-develop-a-killer-website-with-html5-and-css3/\n",
      "\t* 37.5 total hours\n",
      "\t* All Levels\n",
      "\n",
      "Set 3 (5-day plan):\n",
      "1. 'HTML and CSS for Beginners - Build a Website & Launch ONLINE' (37.5 hours)\n",
      "\t* https://www.udemy.com/course/html-and-css-for-beginners-build-a-website-launch-online/\n",
      "\t* 37.5 total hours\n",
      "\t* All Levels\n"
     ]
    }
   ],
   "source": [
    "response_4 = chain_2.invoke({\"skills\": \"DevOps\",\n",
    "              \"experience\": 2})\n",
    "\n",
    "print(response_4)"
   ]
  },
  {
   "cell_type": "code",
   "execution_count": null,
   "metadata": {},
   "outputs": [],
   "source": []
  }
 ],
 "metadata": {
  "kernelspec": {
   "display_name": "RAGENV",
   "language": "python",
   "name": "python3"
  },
  "language_info": {
   "codemirror_mode": {
    "name": "ipython",
    "version": 3
   },
   "file_extension": ".py",
   "mimetype": "text/x-python",
   "name": "python",
   "nbconvert_exporter": "python",
   "pygments_lexer": "ipython3",
   "version": "3.12.2"
  }
 },
 "nbformat": 4,
 "nbformat_minor": 2
}
