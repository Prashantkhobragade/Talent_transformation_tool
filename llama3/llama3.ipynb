{
 "cells": [
  {
   "cell_type": "code",
   "execution_count": 1,
   "metadata": {},
   "outputs": [
    {
     "data": {
      "text/plain": [
       "[Document(page_content=\"Course Title Course Link Description Course Length Learner Level\\nPython for Data Science and Machine Learning Bootcamp https://www.udemy.com/course/python-for-data-science-and-machine-learning-bootcamp/ Learn how to use NumPy, Pandas, Seaborn , Matplotlib , Plotly , Scikit-Learn , Machine Learning, Tensorflow , and more! 25 total hours All Levels\\nThe Data Science Course: Complete Data Science Bootcamp 2024\\n https://www.udemy.com/course/the-data-science-course-complete-data-science-bootcamp/ Complete Data Science Training: Math, Statistics, Python, Advanced Statistics in Python, Machine and Deep Learning 32 total hours All Levels\\nR Programming A-Z™: R For Data Science With Real Exercises!\\n https://www.udemy.com/course/r-programming/ Learn Programming In R And R Studio. Data Analytics, Data Science, Statistical Analysis, Packages, Functions, GGPlot2 10.5 total hours All Levels\\nStatistics for Data Science and Business Analysis\\n https://www.udemy.com/course/statistics-for-data-science-and-business-analysis/ Statistics you need in the office: Descriptive & Inferential statistics, Hypothesis testing, Regression analysis 5 total hours All Levels\\nData Science A-Z: Hands-On Exercises & ChatGPT Prize [2024]\\n https://www.udemy.com/course/datascience/ Learn Data Science step by step through real Analytics examples. Data Mining, Modeling, Tableau Visualization and more! 21 total hours All Levels\\nMachine Learning, Data Science and Generative AI with Python\\n https://www.udemy.com/course/data-science-and-machine-learning-with-python-hands-on/ Complete hands-on machine learning and GenAI tutorial with data science, Tensorflow, GPT, OpenAI, and neural networks 19 total hours Beginner\\nPython A-Z™: Python For Data Science With Real Exercises! https://www.udemy.com/course/python-coding/ Programming In Python For Data Analytics And Data Science. Learn Statistical Analysis, Data Mining And Visualization 11 total hours All Levels\\nComplete A.I. & Machine Learning, Data Science Bootcamp\\n https://www.udemy.com/course/complete-machine-learning-and-data-science-zero-to-mastery/ Learn Data Science, Data Analysis, Machine Learning (Artificial Intelligence) and Python with Tensorflow, Pandas & more! 44 total hours All Levels\\nData Science and Machine Learning Bootcamp with R\\n https://www.udemy.com/course/data-science-and-machine-learning-bootcamp-with-r/ Learn how to use the R programming language for data science and machine learning and data visualization! 18 total hours All Levels\\nIntroduction to Machine Learning for Data Science\\n https://www.udemy.com/course/machine-learning-for-data-science/ A primer on Machine Learning for Data Science. Revealed for everyday people, by the Backyard Data Scientist. 5.5 total hours Beginner\\nBuild Responsive Real-World Websites with HTML and CSS\\n https://www.udemy.com/course/design-and-develop-a-killer-website-with-html5-and-css3/ Learn modern HTML5, CSS3 and web design by building a stunning website for your portfolio! Includes flexbox and CSS Grid 37.5 total hours All Levels\\nHTML and CSS for Beginners - Build a Website & Launch ONLINE\\n https://www.udemy.com/course/html-and-css-for-beginners-crash-course-learn-fast-easy/ HTML and CSS for Beginners course will give your all the knowledge you need to master HTML and CSS easily and quickly. 6 total hours All Levels\\nResponsive Web Design: HTML5 + CSS3 for Entrepreneurs 2018\\n https://www.udemy.com/course/html-css-more/ Build a coding foundation as an entrepreneur, where I’ll take you through the entire process of coding your own website 5.5 total hours Beginner\\nWeb Design for Beginners: Real World Coding in HTML & CSS\\n https://www.udemy.com/course/web-design-for-beginners-real-world-coding-in-html-css/ Launch a career as a web designer by learning HTML5, CSS3, responsive design, Sass and more! 11.5 total hours All Levels\\nHTML5 and CSS3 Fundamentals\\n https://www.udemy.com/course/html5-fundamentals-for-beginners/ Build your very own website with HTML5 from scratch using HTML5 and CSS3 - designed for complete beginners 5 total hours Beginner\\nLearn HTML5 Programming From Scratch\\n https://www.udemy.com/course/learn-html5-programming-from-scratch/ A Complete HTML5 Programming Course for Beginners 17 total hours All Levels\\nBuild Websites from Scratch with HTML & CSS\\n https://www.udemy.com/course/build-website-scratch/ Learn Web Development Essentials and Become a Web Developer From Scratch in this Complete HTML & CSS Beginner's Course 8.5 total hours Beginner\\nIntroduction to Cloud Computing on AWS for Beginners [2024]\\n https://www.udemy.com/course/introduction-to-cloud-computing-on-amazon-aws-for-beginners/ Learn Cloud Computing Concepts and AWS Basics | Master AWS Fundamentals and Hands-on Skills on Amazon Web Services (AWS) 9.5 total hours Beginner\\nCloud Computing Fundamentals\\n https://www.udemy.com/course/welcome-to-cloud-computing-world/ A course describing the basics of cloud computing and most of the aspects related to this topic 3 total hours Beginner\", metadata={'source': 'data\\\\udemy data - Courses.pdf', 'page': 0}),\n",
       " Document(page_content='AWS Business Essentials - The Business Value of AWS [2024]\\n https://www.udemy.com/course/aws-business-essentials/ Learn the fundamentals of cloud computing and Amazon Web Services AWS | Build a business case for migrating to AWS Cloud 2.5 total hours Beginner\\nTOTAL: Cloud Computing / CompTIA Cloud+ (CV0-003)\\n https://www.udemy.com/course/total-cloud-computing-comptia-cloud-cert-cv0-002/ Learn the basics of Cloud Computing and/or prepare for the CompTIA Cloud+ Certification Exam. 15 total hours Intermediate\\nIntroduction to the Cloud - The basics in only 2 hours!\\n https://www.udemy.com/course/cloudintro/ Learn the basics of the Cloud with no prior knowledge required. Ideal for beginners, management, and students. 2 total hours Beginner\\nCloud Computing for Beginners - Infrastructure as a Service\\n https://www.udemy.com/course/cloud-computing-for-beginners-infrastructure-as-a-service/ Learn the Technology, Concept and Market Use Cases of Infrastructure as a Service Model in Public Cloud Computing 2.5 total hours Beginner\\nBuilding Cloud Infrastructure with Terraform\\n https://www.udemy.com/course/building-cloud-infrastructure-with-terraform/ Create and manage cloud infrastructure as code 4.5 total hours Intermediate\\nThe Complete Cloud Computing Software Architecture Patterns\\n https://www.udemy.com/course/the-complete-cloud-computing-software-architecture-patterns/ Architect Large Scale Systems using Cloud Computing, Software Architecture Patterns & Modern System Design Principles 4.5 total hours All Levels\\nDevOps Beginners to Advanced with Projects\\n https://www.udemy.com/course/decodingdevops/ Begin DevOps Career As an Absolute Beginner | AWS, Linux, Scripts, Jenkins, Ansible, GitOps, Docker,Kubernetes, &ChatGPT 55 total hours All Levels\\nThe DevOps Essentials - The Handbook\\n https://www.udemy.com/course/the-devops-essentials/ All the basics you need to know - Get started with DevOps 2 total hours Beginner\\nDevOps Project 1 - CI/CD with Git Jenkins Ansible Kubernetes\\n https://www.udemy.com/course/valaxy-devops/ 100% Hands-on labs on how to create DevOps CI/CD pipelines using Git, Jenkins, Ansible, Docker and Kubernetes on AWS 6.5 total hours All Levels\\nLearn DevOps: CI/CD with Jenkins using Pipelines and Docker\\n https://www.udemy.com/course/learn-devops-ci-cd-with-jenkins-using-pipelines-and-docker/ Use Jenkins the DevOps way. Automate your Jenkins jobs by using Jenkins Pipelines, Docker, and the Jenkins Job DSL 4.5 total hours All Levels\\nLearn DevOps: The Complete Kubernetes Course\\n https://www.udemy.com/course/learn-devops-the-complete-kubernetes-course/ Kubernetes will run and manage your containerized applications. Learn how to build, deploy, use, and maintain Kubernetes 14 total hours All Levels\\nDocker Crash Course for busy DevOps and Developers\\n https://www.udemy.com/course/docker-tutorial-for-devops-run-docker-containers/ Learn how to develop and deploy web applications with Docker technologies. Take your DevOps skills to the next level. 3 total hours All Levels\\nLearn DevOps: Infrastructure Automation With Terraform\\n https://www.udemy.com/course/learn-devops-infrastructure-automation-with-terraform/ Learn how to automate your infrastructure with terraform. Covers Terraform with AWS, Packer, Docker, ECS, EKS, Jenkins 11.5 total hours Beginner\\nLearn DevOps: Docker, Kubernetes, Terraform and Azure DevOps\\n https://www.udemy.com/course/devops-with-docker-kubernetes-and-azure-devops/ DevOps for Absolute Beginners: Azure DevOps, Docker, Kubernetes, Jenkins, Terraform, Ansible - AWS, Azure & Google Cloud 21.5 total hours All Levels\\nDevOps MasterClass 2024: Terraform Kubernetes Ansible Docker\\n https://www.udemy.com/course/devops-training/ DevOps with Jenkins Terraform GIT Docker Maven Kubernetes Ansible Automation Docker Swarm, DevOps Real world Exercises 71 total hours All Levels\\nSRE - The Big Picture\\n https://www.udemy.com/course/sre-the-big-picture/ DevOps in practice! Amaze your customers balancing reliability and innovation 2 total hours All Levels\\nThe Ultimate DevOps Bootcamp - 2023\\n https://www.udemy.com/course/the-complete-devops-bootcamp/ The ultimate DevOps Bootcamp course for all your DevOps learning 17.5 total hours Beginner\\nIntroduction to Devops - Learn DevOps basics in 90 Minutes!\\n https://www.udemy.com/course/devopscrash/ Learn the basics of DevOps with no prior knowledge required. Ideal for anyone new to DevOps. 2 total hours Beginner\\nDevOps Projects | Real Time DevOps & GitOps Projects\\n https://www.udemy.com/course/devopsprojects/ Master Your DevOps Skills with Real challenge 40 total hours Intermediate', metadata={'source': 'data\\\\udemy data - Courses.pdf', 'page': 1}),\n",
       " Document(page_content='Learn Devops: Continuously Deliver Better Software\\n https://www.udemy.com/course/learn-devops-continuously-deliver-better-software/ Excel in delivering and deploying software using Git, Vagrant, Chef, Ansible, Jenkins, Docker, and Kubernetes 4.5 total hours All Levels\\nDevOps Fundamentals\\n https://www.udemy.com/course/devops-fundamentals-for-beginners/ The simplest course to learn the fundamentals of DevOps right from scratch 2 total hours Beginner\\nDevOps Tutorial: Complete Beginners Training - 5 in 1 Bundle\\n https://www.udemy.com/course/devops-docker-complete-guide-hands-on-with-practical/ Devops Engineer DevOps AWS DevOps Docker DevOps Jenkins DevOpsGIT , DevOps Vagran DevOps Maven 8.5 total hours All Levels\\nMore than Certified in Terraform\\n https://www.udemy.com/course/terraform-certified/ Learn Terraform Using Docker, AWS, Kubernetes, and more! 12.5 total hours Beginner\\nThe Docker for DevOps course: From development to production\\n https://www.udemy.com/course/the-docker-for-devops-course-from-development-to-production/ Updated for Docker v19.03+. Learn how to build and deploy web applications with Docker in an automated way. 8 total hours All Levels\\nDevops Tools and AWS for Java Microservice Developers\\n https://www.udemy.com/course/devops-tools-and-aws-for-java-microservice-developers/ Master Docker , Kubernetes, Maven, Jenkins ,GIT , AWS EC2 ,Elastic Beanstalk,ELB,Auto Scaling and more in easy steps 20.5 total hours All Levels\\nProject in DevOps: Jenkins CI/CD for Kubernetes Deployments\\n https://www.udemy.com/course/devops-project-jenkins-cicd-for-kubernetes-deployments/ Explore 100% Real Time DevOps Tools Integration with Git, SonarQube, Jfrog, Jenkins, Ansible, Docker, Kubernetes, Tomcat 4 total hours All Levels\\nLearn DevOps: Advanced Kubernetes Usage\\n https://www.udemy.com/course/learn-devops-advanced-kubernetes-usage/ Covering Authentication, Authorization, Logging, Helm, Deploying with Spinnaker, Prometheus, Scheduling and more 3.5 total hours Expert\\nMicrosoft Azure DevOps :Automate App Deployment From Scratch\\n https://www.udemy.com/course/master-azure-devops-from-scratch-automate-app-lifecycle/ Microsoft Azure DevOps - Create, manage & deploy an application just form the VS code (IDE) with fully automated CI/CD 4 total hours Intermediate', metadata={'source': 'data\\\\udemy data - Courses.pdf', 'page': 2})]"
      ]
     },
     "execution_count": 1,
     "metadata": {},
     "output_type": "execute_result"
    }
   ],
   "source": [
    "from langchain_community.document_loaders import PyPDFDirectoryLoader\n",
    "\n",
    "loader = PyPDFDirectoryLoader(\"./data\")\n",
    "docs = loader.load()\n",
    "docs"
   ]
  },
  {
   "cell_type": "code",
   "execution_count": 2,
   "metadata": {},
   "outputs": [],
   "source": [
    "from langchain.text_splitter import RecursiveCharacterTextSplitter\n",
    "\n",
    "text_splitter = RecursiveCharacterTextSplitter(chunk_size = 500, chunk_overlap = 50)\n",
    "documents = text_splitter.split_documents(docs)"
   ]
  },
  {
   "cell_type": "code",
   "execution_count": 3,
   "metadata": {},
   "outputs": [],
   "source": [
    "from langchain_community.embeddings import OllamaEmbeddings\n",
    "from langchain_community.vectorstores import FAISS"
   ]
  },
  {
   "cell_type": "code",
   "execution_count": 4,
   "metadata": {},
   "outputs": [],
   "source": [
    "db = FAISS.from_documents(documents, OllamaEmbeddings())"
   ]
  },
  {
   "cell_type": "code",
   "execution_count": 5,
   "metadata": {},
   "outputs": [
    {
     "data": {
      "text/plain": [
       "<langchain_community.vectorstores.faiss.FAISS at 0x17e24152c90>"
      ]
     },
     "execution_count": 5,
     "metadata": {},
     "output_type": "execute_result"
    }
   ],
   "source": [
    "db"
   ]
  },
  {
   "cell_type": "code",
   "execution_count": 41,
   "metadata": {},
   "outputs": [],
   "source": [
    "from langchain_groq import ChatGroq\n",
    "from langchain_core.output_parsers import StrOutputParser\n",
    "\n"
   ]
  },
  {
   "cell_type": "code",
   "execution_count": 8,
   "metadata": {},
   "outputs": [
    {
     "data": {
      "text/plain": [
       "True"
      ]
     },
     "execution_count": 8,
     "metadata": {},
     "output_type": "execute_result"
    }
   ],
   "source": [
    "from dotenv import load_dotenv\n",
    "import os\n",
    "\n",
    "load_dotenv()"
   ]
  },
  {
   "cell_type": "code",
   "execution_count": 37,
   "metadata": {},
   "outputs": [],
   "source": [
    "load_dotenv()\n",
    "groq_api_key=os.getenv('GROQ_API_KEY')\n"
   ]
  },
  {
   "cell_type": "code",
   "execution_count": 39,
   "metadata": {},
   "outputs": [],
   "source": [
    "llm = ChatGroq(groq_api_key = groq_api_key,\n",
    "               model_name=\"Llama3-8b-8192\")"
   ]
  },
  {
   "cell_type": "code",
   "execution_count": 61,
   "metadata": {},
   "outputs": [],
   "source": [
    "from langchain_core.prompts import ChatPromptTemplate\n",
    "\n",
    "prompt=ChatPromptTemplate.from_template(\n",
    "\"\"\"\n",
    "Act as helpfull Talent Transformation assistant and suggest the best Courses to take based on the given \n",
    "context, given {skills} and given {experience}. also provide Course link, duration and level of the course.\n",
    "\n",
    "Prepare 3 sets of courses based on the total duration of the courses and each set should have \n",
    "at least 2 course.\n",
    "\n",
    "The describution for the sets are following:\n",
    "    - Set 1 Which we called \"1 day plan\", It should content courses that can be completed with in 5 hours.\n",
    "    - Set 2 Which we called \"3 day plan\", It should content courses that can be completed with in 15 hours.\n",
    "    - Set 3 Which we called \"5 day plan\", It should content courses that can be completed with in 25 hours.\n",
    "\n",
    "\n",
    "\n",
    "You must provide the following things in the answer:\n",
    "    - Course Name\n",
    "    - Course Link\n",
    "    - Course Duration\n",
    "    - Course Level\n",
    "\n",
    "\n",
    "Be as concise as possible when giving answers. Do not anounce that you will answering. \n",
    "Do not say \"Let's get started\", or \"Based on the skills you provided, I would recommend the \n",
    "following courses to help you enhance your knowledge and skills : \" or \"Here are some courses\"\n",
    "and do not introduce your answer. Just write the your answer.\n",
    "\n",
    "<context>\n",
    "{context}\n",
    "<context>\n",
    "\n",
    "skills : {skills}\n",
    "\n",
    "experience : {experience}\n",
    "\n",
    "\"\"\"\n",
    ")"
   ]
  },
  {
   "cell_type": "code",
   "execution_count": 43,
   "metadata": {},
   "outputs": [],
   "source": [
    "retriever = db.as_retriever()"
   ]
  },
  {
   "cell_type": "code",
   "execution_count": 50,
   "metadata": {},
   "outputs": [],
   "source": [
    "from langchain_core.runnables import RunnableParallel, RunnablePassthrough\n",
    "from langchain_core.output_parsers import StrOutputParser\n",
    "\n",
    "parser = StrOutputParser()\n",
    "setup = RunnableParallel(context=retriever, skills = RunnablePassthrough(), experience = RunnablePassthrough())"
   ]
  },
  {
   "cell_type": "code",
   "execution_count": 62,
   "metadata": {},
   "outputs": [],
   "source": [
    "chain = setup | prompt | llm | parser"
   ]
  },
  {
   "cell_type": "code",
   "execution_count": 63,
   "metadata": {},
   "outputs": [],
   "source": [
    "response = chain.invoke({\"skills\": \"python and AI\",\n",
    "              \"experience\": 2.5})"
   ]
  },
  {
   "cell_type": "code",
   "execution_count": 64,
   "metadata": {},
   "outputs": [
    {
     "name": "stdout",
     "output_type": "stream",
     "text": [
      "**Set 1: 1 day plan**\n",
      "\n",
      "1. **Python for Everybody**\n",
      "   - Course Link: https://www.coursera.org/specializations/python\n",
      "   - Course Duration: 4 hours\n",
      "   - Course Level: Beginner\n",
      "\n",
      "2. **Introduction to TensorFlow**\n",
      "   - Course Link: https://www.tensorflow.org/tutorials\n",
      "   - Course Duration: 1 hour\n",
      "   - Course Level: Beginner\n",
      "\n",
      "**Set 2: 3 day plan**\n",
      "\n",
      "1. **Python and Data Science**\n",
      "   - Course Link: https://www.datacamp.com/courses/python-data-science\n",
      "   - Course Duration: 12 hours\n",
      "   - Course Level: Intermediate\n",
      "\n",
      "2. **AI for Everyone**\n",
      "   - Course Link: https://www.coursera.org/specializations/artificial-intelligence\n",
      "   - Course Duration: 12 hours\n",
      "   - Course Level: Intermediate\n",
      "\n",
      "**Set 3: 5 day plan**\n",
      "\n",
      "1. **Machine Learning with Python**\n",
      "   - Course Link: https://www.coursera.org/specializations/machine-learning-python\n",
      "   - Course Duration: 20 hours\n",
      "   - Course Level: Intermediate\n",
      "\n",
      "2. **Data Science with Python and R**\n",
      "   - Course Link: https://www.datacamp.com/courses/data-science-python-r\n",
      "   - Course Duration: 20 hours\n",
      "   - Course Level: Intermediate\n"
     ]
    }
   ],
   "source": [
    "print(response)"
   ]
  },
  {
   "cell_type": "code",
   "execution_count": 65,
   "metadata": {},
   "outputs": [
    {
     "name": "stdout",
     "output_type": "stream",
     "text": [
      "Here are the suggested courses for each set:\n",
      "\n",
      "**Set 1: 1 day plan**\n",
      "\n",
      "1. \"DevOps Tools and AWS for Java Microservice Developers\" (8 hours, All Levels) - https://www.udemy.com/course/devops-tools-and-aws-for-java-microservice-developers/\n",
      "2. \"The Docker for DevOps Course: From Development to Production\" (8 hours, All Levels) - https://www.udemy.com/course/the-docker-for-devops-course-from-development-to-production/\n",
      "\n",
      "**Set 2: 3 day plan**\n",
      "\n",
      "1. \"DevOps Beginners to Advanced with Projects\" (15 hours, All Levels) - https://www.udemy.com/course/devops-beginners-to-advanced-with-projects/\n",
      "2. \"Design and Develop a Killer Website with HTML5 and CSS3\" (37.5 hours, All Levels) - https://www.udemy.com/course/design-and-develop-a-killer-website-with-html5-and-css3/\n",
      "\n",
      "**Set 3: 5 day plan**\n",
      "\n",
      "1. \"The Complete Cloud Computing Software Architecture Patterns\" (4.5 hours, All Levels) - https://www.udemy.com/course/the-complete-cloud-computing-software-architecture-patterns/\n",
      "2. \"DevOps Tools and AWS for Java Microservice Developers\" (20.5 hours, All Levels) - https://www.udemy.com/course/devops-tools-and-aws-for-java-microservice-developers/\n",
      "3. \"Design and Develop a Killer Website with HTML5 and CSS3\" (37.5 hours, All Levels) - https://www.udemy.com/course/design-and-develop-a-killer-website-with-html5-and-css3/\n"
     ]
    }
   ],
   "source": [
    "response_2 = chain.invoke({\"skills\": \"Java, AWS and Docker\",\n",
    "              \"experience\": 1})\n",
    "\n",
    "print(response_2)"
   ]
  },
  {
   "cell_type": "code",
   "execution_count": 66,
   "metadata": {},
   "outputs": [
    {
     "name": "stdout",
     "output_type": "stream",
     "text": [
      "Here are the suggested courses for the given context:\n",
      "\n",
      "**Set 1: 1 day plan**\n",
      "\n",
      "1. **DevOps Tools and AWS for Java Microservice Developers**\n",
      "\t* Course Link: https://www.udemy.com/course/devops-tools-and-aws-for-java-microservice-developers/\n",
      "\t* Course Duration: 8 hours\n",
      "\t* Course Level: All Levels\n",
      "2. **The Docker for Devops Course from Development to Production**\n",
      "\t* Course Link: https://www.udemy.com/course/the-docker-for-devops-course-from-development-to-production/\n",
      "\t* Course Duration: 8 hours\n",
      "\t* Course Level: All Levels\n",
      "\n",
      "**Set 2: 3 day plan**\n",
      "\n",
      "1. **DevOps Tools and AWS for Java Microservice Developers**\n",
      "\t* Course Link: https://www.udemy.com/course/devops-tools-and-aws-for-java-microservice-developers/\n",
      "\t* Course Duration: 8 hours\n",
      "\t* Course Level: All Levels\n",
      "2. **The Complete Cloud Computing Software Architecture Patterns**\n",
      "\t* Course Link: https://www.udemy.com/course/the-complete-cloud-computing-software-architecture-patterns/\n",
      "\t* Course Duration: 4.5 hours\n",
      "\t* Course Level: All Levels\n",
      "\n",
      "**Set 3: 5 day plan**\n",
      "\n",
      "1. **DevOps Tools and AWS for Java Microservice Developers**\n",
      "\t* Course Link: https://www.udemy.com/course/devops-tools-and-aws-for-java-microservice-developers/\n",
      "\t* Course Duration: 8 hours\n",
      "\t* Course Level: All Levels\n",
      "2. **Design and Develop a Killer Website with HTML5 and CSS3**\n",
      "\t* Course Link: https://www.udemy.com/course/design-and-develop-a-killer-website-with-html5-and-css3/\n",
      "\t* Course Duration: 37.5 hours\n",
      "\t* Course Level: All Levels\n"
     ]
    }
   ],
   "source": [
    "response_3 = chain.invoke({\"skills\": \"DevOps and AWS\",\n",
    "              \"experience\": 2})\n",
    "\n",
    "print(response_3)"
   ]
  },
  {
   "cell_type": "code",
   "execution_count": 67,
   "metadata": {},
   "outputs": [
    {
     "name": "stdout",
     "output_type": "stream",
     "text": [
      "Here are the recommended courses for each set:\n",
      "\n",
      "**Set 1: 1-Day Plan**\n",
      "\n",
      "1. **Devops Tools and AWS for Java Microservice Developers** (8 hours, All Levels) - https://www.udemy.com/course/the-docker-for-devops-course-from-development-to-production/\n",
      "2. **The Complete Cloud Computing Software Architecture Patterns** (4.5 hours, All Levels) - https://www.udemy.com/course/the-complete-cloud-computing-software-architecture-patterns/\n",
      "\n",
      "**Set 2: 3-Day Plan**\n",
      "\n",
      "1. **Devops Tools and AWS for Java Microservice Developers** (8 hours, All Levels) - https://www.udemy.com/course/the-docker-for-devops-course-from-development-to-production/\n",
      "2. **Design and Develop a Killer Website with HTML5 and CSS3** (37.5 hours, All Levels) - https://www.udemy.com/course/design-and-develop-a-killer-website-with-html5-and-css3/\n",
      "\n",
      "**Set 3: 5-Day Plan**\n",
      "\n",
      "1. **Devops Tools and AWS for Java Microservice Developers** (8 hours, All Levels) - https://www.udemy.com/course/the-docker-for-devops-course-from-development-to-production/\n",
      "2. **Design and Develop a Killer Website with HTML5 and CSS3** (37.5 hours, All Levels) - https://www.udemy.com/course/design-and-develop-a-killer-website-with-html5-and-css3/\n",
      "3. **Project in DevOps: Jenkins CI/CD for Kubernetes Deployments** (20.5 hours, All Levels) - https://www.udemy.com/course/project-in-devops-jenkins-cicd-for-kubernetes-deployments/\n"
     ]
    }
   ],
   "source": [
    "response_4 = chain.invoke({\"skills\": \"DevOps\",\n",
    "              \"experience\": 2})\n",
    "\n",
    "print(response_4)"
   ]
  },
  {
   "cell_type": "code",
   "execution_count": null,
   "metadata": {},
   "outputs": [],
   "source": []
  }
 ],
 "metadata": {
  "kernelspec": {
   "display_name": "RAGENV",
   "language": "python",
   "name": "python3"
  },
  "language_info": {
   "codemirror_mode": {
    "name": "ipython",
    "version": 3
   },
   "file_extension": ".py",
   "mimetype": "text/x-python",
   "name": "python",
   "nbconvert_exporter": "python",
   "pygments_lexer": "ipython3",
   "version": "3.12.2"
  }
 },
 "nbformat": 4,
 "nbformat_minor": 2
}
