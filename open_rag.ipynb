{
 "cells": [
  {
   "cell_type": "code",
   "execution_count": 3,
   "metadata": {},
   "outputs": [
    {
     "data": {
      "text/plain": [
       "[Document(page_content='Course: The Complete Python Bootcamp From Zero to Hero in PythonLearn Python like a Professional  Start from the basics and go all the way to creating your own applications and gamesRating: 4.6 out of 5502086 reviews22 total hours156 lecturesAll LevelsCurrent price: â‚¹499Original price: â‚¹3,099\\nLink: https://www.udemy.com/course/complete-python-bootcamp/\\nCourse Name: The Complete Python Bootcamp From Zero to Hero in Python\\ntotal hours: 22.0\\nrating: 4.6\\nlevel: All Levels', metadata={'source': 'output.csv', 'row': 0}),\n",
       " Document(page_content='Course: The Complete 2024 Web Development BootcampBecome a Full-Stack Web Developer with just ONE course. HTML, CSS, Javascript, Node, React, PostgreSQL, Web3 and DAppsRating: 4.7 out of 5371464 reviews61.5 total hours373 lecturesAll LevelsCurrent price: â‚¹499Original price: â‚¹3,099\\nLink: https://www.udemy.com/course/the-complete-web-development-bootcamp/\\nCourse Name: The Complete 2024 Web Development Bootcamp\\ntotal hours: 61.5\\nrating: 4.7\\nlevel: All Levels', metadata={'source': 'output.csv', 'row': 1}),\n",
       " Document(page_content='Course: 100 Days of Code: The Complete Python Pro BootcampMaster Python by building 100 projects in 100 days. Learn data science, automation, build websites, games and apps!Rating: 4.7 out of 5289228 reviews58.5 total hours636 lecturesAll LevelsCurrent price: â‚¹499Original price: â‚¹3,099\\nLink: https://www.udemy.com/course/100-days-of-code/\\nCourse Name: 100 Days of Code: The Complete Python Pro Bootcamp\\ntotal hours: 58.5\\nrating: 4.7\\nlevel: All Levels', metadata={'source': 'output.csv', 'row': 2}),\n",
       " Document(page_content='Course: Try Udemy Business\\nLink: https://www.udemy.com/udemy-business/request-demo-in-mx/?ref=right-rail&locale=en_US\\nCourse Name: Try Udemy Business\\ntotal hours: \\nrating: \\nlevel: ', metadata={'source': 'output.csv', 'row': 3}),\n",
       " Document(page_content='Course: The Web Developer Bootcamp 202410 Hours of React just added. Become a Developer With ONE course - HTML, CSS, JavaScript, React, Node, MongoDB and More!Rating: 4.7 out of 5271377 reviews74 total hours726 lecturesAll LevelsCurrent price: â‚¹499Original price: â‚¹3,099\\nLink: https://www.udemy.com/course/the-web-developer-bootcamp/\\nCourse Name: The Web Developer Bootcamp 202410 Hours of React just added. Become a Developer With ONE course - HTML, CSS, Java\\ntotal hours: 74.0\\nrating: 4.7\\nlevel: All Levels', metadata={'source': 'output.csv', 'row': 4}),\n",
       " Document(page_content='Course: React - The Complete Guide 2024 (incl. React Router & Redux)Dive in and learn React.js from scratch! Learn React, Hooks, Redux, React Router, Next.js, Best Practices and way more!Rating: 4.6 out of 5209140 reviews68.5 total hours695 lecturesAll LevelsCurrent price: â‚¹599Original price: â‚¹3,699\\nLink: https://www.udemy.com/course/react-the-complete-guide-incl-redux/\\nCourse Name: React - The Complete Guide 2024 (incl. React Router & Redux)Dive in and learn React.js from scratch! Learn React, Hooks, Redux, React Router, Next.js, Best Practices and way more!Rating: 4.6 out of 5209140 reviews68.5 total hours695 lectures\\ntotal hours: 68.5\\nrating: 4.6\\nlevel: All Levels', metadata={'source': 'output.csv', 'row': 5}),\n",
       " Document(page_content='Course: The Complete JavaScript Course 2024: From Zero to Expert!The modern JavaScript course for everyone! Master JavaScript with projects, challenges and theory. Many courses in one!Rating: 4.7 out of 5203978 reviews68.5 total hours321 lecturesAll LevelsCurrent price: â‚¹599Original price: â‚¹3,699\\nLink: https://www.udemy.com/course/the-complete-javascript-course/\\nCourse Name: The Complete Java\\ntotal hours: 68.5\\nrating: 4.7\\nlevel: Expert', metadata={'source': 'output.csv', 'row': 6}),\n",
       " Document(page_content='Course: Angular - The Complete Guide (2024 Edition)Master Angular (formerly \"Angular 2\") and build awesome, reactive web apps with the successor of Angular.jsRating: 4.6 out of 5200038 reviews36.5 total hours503 lecturesAll LevelsCurrent price: â‚¹499Original price: â‚¹3,099\\nLink: https://www.udemy.com/course/the-complete-guide-to-angular-2/\\nCourse Name: Angular - The Complete Guide (2024 Edition)Master Angular (formerly \"Angular 2\") and build awesome, reactive web apps with the successor of Angular.js\\ntotal hours: 36.5\\nrating: 4.6\\nlevel: All Levels', metadata={'source': 'output.csv', 'row': 7}),\n",
       " Document(page_content='Course: Java 17 Masterclass: Start Coding in 2024Acquire Key Java Skills: From Basics to Advanced Programming &amp; Certification - Start Your Dev CareerRating: 4.6 out of 5195577 reviews138.5 total hours735 lecturesAll LevelsCurrent price: â‚¹599Original price: â‚¹3,699\\nLink: https://www.udemy.com/course/java-the-complete-java-developer-course/\\nCourse Name: Java 17 Masterclass: Start Coding in 2024Acquire Key Java Skills: From Basics to Advanced Programming &amp; Certification - Start Your Dev Career\\ntotal hours: 138.5\\nrating: 4.6\\nlevel: All Levels', metadata={'source': 'output.csv', 'row': 8}),\n",
       " Document(page_content='Course: Machine Learning A-Z: AI, Python & R + ChatGPT Prize [2024]Learn to create Machine Learning Algorithms in Python and R from two Data Science experts. Code templates included.Rating: 4.5 out of 5183863 reviews43 total hours386 lecturesAll LevelsCurrent price: â‚¹599Original price: â‚¹3,699\\nLink: https://www.udemy.com/course/machinelearning/\\nCourse Name: Machine Learning A-Z: AI, Python & R + Chat\\ntotal hours: 43.0\\nrating: 4.5\\nlevel: All Levels', metadata={'source': 'output.csv', 'row': 9}),\n",
       " Document(page_content='Course: Python for Data Science and Machine Learning BootcampLearn how to use NumPy, Pandas, Seaborn , Matplotlib , Plotly , Scikit-Learn , Machine Learning, Tensorflow , and more!Rating: 4.6 out of 5141564 reviews25 total hours165 lecturesAll LevelsCurrent price: â‚¹699Original price: â‚¹4,499\\nLink: https://www.udemy.com/course/python-for-data-science-and-machine-learning-bootcamp/\\nCourse Name: Python for Data Science and Machine Learning Bootcamp\\ntotal hours: 25.0\\nrating: 4.6\\nlevel: All Levels', metadata={'source': 'output.csv', 'row': 10}),\n",
       " Document(page_content='Course: The Data Science Course: Complete Data Science Bootcamp 2024Complete Data Science Training: Math, Statistics, Python, Advanced Statistics in Python, Machine and Deep LearningRating: 4.6 out of 5138121 reviews32 total hours520 lecturesAll LevelsCurrent price: â‚¹599Original price: â‚¹3,699\\nLink: https://www.udemy.com/course/the-data-science-course-complete-data-science-bootcamp/\\nCourse Name: The Data Science Course: Complete Data Science Bootcamp 2024Complete Data Science Training: Math, Statistics, Python, Advanced Statistics in Python, Machine and Deep Learning\\ntotal hours: 32.0\\nrating: 4.6\\nlevel: All Levels', metadata={'source': 'output.csv', 'row': 11}),\n",
       " Document(page_content='Course: Selenium WebDriver with Java -Basics to Advanced+Frameworks\"TOP RATED  #1 Master SELENIUM java 4 (Latest) course\" -5 Million students learning worldWide with great collaborationRating: 4.6 out of 5115620 reviews55.5 total hours335 lecturesAll LevelsCurrent price: â‚¹599Original price: â‚¹3,699\\nLink: https://www.udemy.com/course/selenium-real-time-examplesinterview-questions/\\nCourse Name: Selenium Web\\ntotal hours: 55.5\\nrating: 4.6\\nlevel: All Levels', metadata={'source': 'output.csv', 'row': 12}),\n",
       " Document(page_content='Course: Automate the Boring Stuff with Python ProgrammingA practical programming course for office workers, academics, and administrators who want to improve their productivity.Rating: 4.6 out of 5112373 reviews9.5 total hours51 lecturesAll LevelsCurrent price: â‚¹599Original price: â‚¹3,699\\nLink: https://www.udemy.com/course/automate/\\nCourse Name: Automate the Boring Stuff with Python Programming\\ntotal hours: 9.5\\nrating: 4.6\\nlevel: All Levels', metadata={'source': 'output.csv', 'row': 13}),\n",
       " Document(page_content='Course: Build Responsive Real-World Websites with HTML and CSSLearn modern HTML5, CSS3 and web design by building a stunning website for your portfolio! Includes flexbox and CSS GridRating: 4.8 out of 5105492 reviews37.5 total hours149 lecturesAll LevelsCurrent price: â‚¹599Original price: â‚¹3,699\\nLink: https://www.udemy.com/course/design-and-develop-a-killer-website-with-html5-and-css3/\\nCourse Name: Build Responsive Real-World Websites with HTML and CSSLearn modern HTML5, CSS3 and web design by building a stunning website for your portfolio! Includes flexbox and CSS Grid\\ntotal hours: 37.5\\nrating: 4.8\\nlevel: All Levels', metadata={'source': 'output.csv', 'row': 14}),\n",
       " Document(page_content='Course: Complete C# Unity Game Developer 2DLearn Unity in C# & Code Your First Five 2D Video Games for Web, Mac & PC. The Tutorials Cover TilemapRating: 4.7 out of 5103104 reviews18.5 total hours139 lecturesAll LevelsCurrent price: â‚¹599Original price: â‚¹3,699\\nLink: https://www.udemy.com/course/unitycourse/\\nCourse Name: Complete C# Unity Game Developer 2DLearn Unity in C# & Code Your First Five 2D Video Games for Web, Mac & PC. The Tutorials Cover Tilemap\\ntotal hours: 18.5\\nrating: 4.7\\nlevel: All Levels', metadata={'source': 'output.csv', 'row': 15}),\n",
       " Document(page_content='Course: Learn Python Programming MasterclassThis Python For Beginners Course Teaches You The Python Language  Fast.  Includes Python Online Training With Python 3Rating: 4.6 out of 5101902 reviews64 total hours494 lecturesAll LevelsCurrent price: â‚¹699Original price: â‚¹4,499\\nLink: https://www.udemy.com/course/python-the-complete-python-developer-course/\\nCourse Name: Learn Python Programming Masterclass\\ntotal hours: 64.0\\nrating: 4.6\\nlevel: Beginner', metadata={'source': 'output.csv', 'row': 16}),\n",
       " Document(page_content='Course: The Ultimate MySQL Bootcamp: Go from SQL Beginner to ExpertJUST COMPLETELY REDONE!  Master SQL, Work With Complex Databases, Build Reports, and More!Rating: 4.6 out of 591807 reviews21.5 total hours383 lecturesBeginnerCurrent price: â‚¹599Original price: â‚¹3,699\\nLink: https://www.udemy.com/course/the-ultimate-mysql-bootcamp-go-from-sql-beginner-to-expert/\\nCourse Name: The Ultimate My\\ntotal hours: 21.5\\nrating: 4.6\\nlevel: Beginner', metadata={'source': 'output.csv', 'row': 17}),\n",
       " Document(page_content='Course: iOS & Swift - The Complete iOS App Development BootcampFrom Beginner to iOS App Developer with Just One Course! Fully Updated with a Comprehensive Module Dedicated to SwiftUI!Rating: 4.7 out of 590092 reviews60.5 total hours542 lecturesAll LevelsCurrent price: â‚¹699Original price: â‚¹4,499\\nLink: https://www.udemy.com/course/ios-13-app-development-bootcamp/\\nCourse Name: i\\ntotal hours: 60.5\\nrating: 4.7\\nlevel: Beginner', metadata={'source': 'output.csv', 'row': 18}),\n",
       " Document(page_content='Course: Modern React with Redux [2024 Update]Master React and Redux. Apply modern design patterns to build apps with React Router, TailwindCSS, Context, and Hooks!Rating: 4.7 out of 586260 reviews76 total hours684 lecturesAll LevelsCurrent price: â‚¹599Original price: â‚¹3,699\\nLink: https://www.udemy.com/course/react-redux/\\nCourse Name: Modern React with Redux [2024 Update]Master React and Redux. Apply modern design patterns to build apps with React Router, Tailwind\\ntotal hours: 76.0\\nrating: 4.7\\nlevel: All Levels', metadata={'source': 'output.csv', 'row': 19}),\n",
       " Document(page_content='Course: [NEW] Spring Boot 3, Spring 6 & Hibernate for BeginnersSpring Boot 3: Learn Spring 6, Spring Core, Spring REST, Spring MVC, Spring Security, Thymeleaf, JPA, Hibernate, MySQLRating: 4.6 out of 580731 reviews34 total hours398 lecturesAll LevelsCurrent price: â‚¹599Original price: â‚¹3,699\\nLink: https://www.udemy.com/course/spring-hibernate-tutorial/\\nCourse Name: [NEW] Spring Boot 3, Spring 6 & Hibernate for Beginners\\ntotal hours: 34.0\\nrating: 4.6\\nlevel: Beginner', metadata={'source': 'output.csv', 'row': 20}),\n",
       " Document(page_content='Course: Flutter & Dart - The Complete Guide [2024 Edition]A Complete Guide to the Flutter SDK &amp; Flutter Framework for building native iOS and Android appsRating: 4.6 out of 574978 reviews30 total hours305 lecturesAll LevelsCurrent price: â‚¹599Original price: â‚¹3,699\\nLink: https://www.udemy.com/course/learn-flutter-dart-to-build-ios-android-apps/\\nCourse Name: Flutter & Dart - The Complete Guide [2024 Edition]A Complete Guide to the Flutter SDK &amp; Flutter Framework for building native i\\ntotal hours: 30.0\\nrating: 4.6\\nlevel: All Levels', metadata={'source': 'output.csv', 'row': 21}),\n",
       " Document(page_content='Course: The Complete Web Developer Course 3.0Learn Web Development in 2024! Build apps, website, projects using HTML, CSS, Javascript, PHP, Python, MySQL &amp; more!Rating: 4.6 out of 572031 reviews31 total hours222 lecturesAll LevelsCurrent price: â‚¹699Original price: â‚¹4,499\\nLink: https://www.udemy.com/course/the-complete-web-developer-course-2/\\nCourse Name: The Complete Web Developer Course 3.0Learn Web Development in 2024! Build apps, website, projects using HTML, CSS, Javascript, PHP, Python, My\\ntotal hours: 31.0\\nrating: 4.6\\nlevel: All Levels', metadata={'source': 'output.csv', 'row': 22}),\n",
       " Document(page_content='Course: The Complete Node.js Developer Course (3rd Edition)Learn Node.js by building real-world applications with Node JS, Express, MongoDB, Jest, and more!Rating: 4.5 out of 571510 reviews35 total hours177 lecturesAll LevelsCurrent price: â‚¹599Original price: â‚¹3,699\\nLink: https://www.udemy.com/course/the-complete-nodejs-developer-course-2/\\nCourse Name: The Complete Node.js Developer Course (3rd Edition)Learn Node.js by building real-world applications with Node JS, Express, Mongo\\ntotal hours: 35.0\\nrating: 4.5\\nlevel: All Levels', metadata={'source': 'output.csv', 'row': 23}),\n",
       " Document(page_content='Course: Unreal Engine 5 C++ Developer: Learn C++ & Make Video GamesCreated in collaboration with Epic Games. Learn C++ from basics while making your first 5 video games in UnrealRating: 4.7 out of 569260 reviews29.5 total hours210 lecturesAll LevelsCurrent price: â‚¹999Original price: â‚¹6,500\\nLink: https://www.udemy.com/course/unrealcourse/\\nCourse Name: Unreal Engine 5 C++ Developer: Learn C++ & Make Video Games\\ntotal hours: 29.5\\nrating: 4.7\\nlevel: All Levels', metadata={'source': 'output.csv', 'row': 24}),\n",
       " Document(page_content='Course: C# Basics for Beginners: Learn C# Fundamentals by CodingMaster C# fundamentals in 6 hours - The most popular course with 50,000+ students, packed with tips and exercises!Rating: 4.5 out of 569191 reviews5.5 total hours87 lecturesBeginnerCurrent price: â‚¹599Original price: â‚¹3,699\\nLink: https://www.udemy.com/course/csharp-tutorial-for-beginners/\\nCourse Name: C# Basics for Beginners: Learn C# Fundamentals by Coding\\ntotal hours: 5.5\\nrating: 4.5\\nlevel: Beginner', metadata={'source': 'output.csv', 'row': 25}),\n",
       " Document(page_content='Course: Beginning C++ Programming - From Beginner to BeyondObtain Modern C++ Object-Oriented Programming (OOP) and STL skills. C++14 and C++17 covered.  C++20 info see below.Rating: 4.6 out of 568356 reviews46 total hours305 lecturesAll LevelsCurrent price: â‚¹499Original price: â‚¹3,099\\nLink: https://www.udemy.com/course/beginning-c-plus-plus-programming/\\nCourse Name: Beginning C++ Programming - From Beginner to Beyond\\ntotal hours: 46.0\\nrating: 4.6\\nlevel: Beginner', metadata={'source': 'output.csv', 'row': 26}),\n",
       " Document(page_content='Course: Python Mega Course: Learn Python in 60 Days, Build 20 AppsLearn Python completely in 60 days or less by building 20 real-world applications from web development to data science.Rating: 4.6 out of 566022 reviews52 total hours458 lecturesAll LevelsCurrent price: â‚¹699Original price: â‚¹4,499\\nLink: https://www.udemy.com/course/the-python-mega-course/\\nCourse Name: Python Mega Course: Learn Python in 60 Days, Build 20 Apps\\ntotal hours: 52.0\\nrating: 4.6\\nlevel: All Levels', metadata={'source': 'output.csv', 'row': 27}),\n",
       " Document(page_content='Course: Vue - The Complete Guide (incl. Router & Composition API)Vue.js is an awesome JavaScript Framework for building Frontend Applications! VueJS mixes the Best of Angular + React!Rating: 4.8 out of 562645 reviews32 total hours332 lecturesAll LevelsCurrent price: â‚¹599Original price: â‚¹3,699\\nLink: https://www.udemy.com/course/vuejs-2-the-complete-guide/\\nCourse Name: Vue - The Complete Guide (incl. Router & Composition API)Vue.js is an awesome Java\\ntotal hours: 32.0\\nrating: 4.8\\nlevel: All Levels', metadata={'source': 'output.csv', 'row': 28}),\n",
       " Document(page_content='Course: Docker Mastery: with Kubernetes +Swarm from a Docker CaptainBuild, test, deploy containers with the best mega-course on Docker, Kubernetes, Compose, GitHub Actions CI using DevOpsRating: 4.6 out of 562093 reviews21.5 total hours213 lecturesAll LevelsCurrent price: â‚¹599Original price: â‚¹3,699\\nLink: https://www.udemy.com/course/docker-mastery/\\nCourse Name: Docker Mastery: with Kubernetes +Swarm from a Docker Captain\\ntotal hours: 21.5\\nrating: 4.6\\nlevel: All Levels', metadata={'source': 'output.csv', 'row': 29}),\n",
       " Document(page_content='Course: Docker and Kubernetes: The Complete GuideBuild, test, and deploy Docker applications with Kubernetes while learning production-style development workflowsRating: 4.6 out of 557943 reviews21.5 total hours313 lecturesAll LevelsCurrent price: â‚¹599Original price: â‚¹3,699\\nLink: https://www.udemy.com/course/docker-and-kubernetes-the-complete-guide/\\nCourse Name: Docker and Kubernetes: The Complete Guide\\ntotal hours: 21.5\\nrating: 4.6\\nlevel: All Levels', metadata={'source': 'output.csv', 'row': 30}),\n",
       " Document(page_content='Course: The Complete Python DeveloperHow to become a Python 3 Developer and get hired! Build 12+ projects, learn Web Development, Machine Learning + more!Rating: 4.6 out of 554935 reviews31 total hours341 lecturesAll LevelsCurrent price: â‚¹599Original price: â‚¹3,699\\nLink: https://www.udemy.com/course/complete-python-developer-zero-to-mastery/\\nCourse Name: The Complete Python Developer\\ntotal hours: 31.0\\nrating: 4.6\\nlevel: All Levels', metadata={'source': 'output.csv', 'row': 31}),\n",
       " Document(page_content='Course: R Programming A-Zâ„¢: R For Data Science With Real Exercises!Learn Programming In R And R Studio. Data Analytics, Data Science, Statistical Analysis, Packages, Functions, GGPlot2Rating: 4.6 out of 553403 reviews10.5 total hours80 lecturesAll LevelsCurrent price: â‚¹699Original price: â‚¹4,499\\nLink: https://www.udemy.com/course/r-programming/\\nCourse Name: R Programming A-Zâ„¢: R For Data Science With Real Exercises!Learn Programming In R And R Studio. Data Analytics, Data Science, Statistical Analysis, Packages, Functions, GGPlot2Rating: 4.6 out of 553403 reviews10.5 total hours80 lectures\\ntotal hours: 10.5\\nrating: 4.6\\nlevel: All Levels', metadata={'source': 'output.csv', 'row': 32}),\n",
       " Document(page_content='Course: The Complete Flutter Development Bootcamp with DartOfficially created in collaboration with the Google Flutter team.Rating: 4.5 out of 553292 reviews29 total hours217 lecturesAll LevelsCurrent price: â‚¹599Original price: â‚¹3,699\\nLink: https://www.udemy.com/course/flutter-bootcamp-with-dart/\\nCourse Name: The Complete Flutter Development Bootcamp with Dart\\ntotal hours: 29.0\\nrating: 4.5\\nlevel: All Levels', metadata={'source': 'output.csv', 'row': 33}),\n",
       " Document(page_content='Course: SQL for Beginners: Learn SQL using MySQL and Database DesignUnderstand SQL using the MySQL database. Learn Database Design and Data Analysis with Normalization and RelationshipsRating: 4.6 out of 552525 reviews8.5 total hours126 lecturesBeginnerCurrent price: â‚¹599Original price: â‚¹3,699\\nLink: https://www.udemy.com/course/sql-for-beginners-course/\\nCourse Name: SQL for Beginners: Learn SQL using My\\ntotal hours: 8.5\\nrating: 4.6\\nlevel: Beginner', metadata={'source': 'output.csv', 'row': 34}),\n",
       " Document(page_content=\"Course: The Python Bibleâ„¢ | Everything You Need to Program in PythonBuild 11 Projects and go from Beginner to Pro in Python with the World's Most Fun Project-Based Python Course!Rating: 4.6 out of 551748 reviews9 total hours74 lecturesBeginnerCurrent price: â‚¹699Original price: â‚¹4,499\\nLink: https://www.udemy.com/course/the-python-bible/\\nCourse Name: The Python Bibleâ„¢ | Everything You Need to Program in Python\\ntotal hours: 9.0\\nrating: 4.6\\nlevel: Beginner\", metadata={'source': 'output.csv', 'row': 35}),\n",
       " Document(page_content='Course: Master Microservices with Spring Boot and Spring CloudJava Spring Boot Microservices 5-in-1 - Spring Boot, Spring Cloud, Docker, Kubernetes and REST API (REST Web Services)Rating: 4.6 out of 550894 reviews25 total hours315 lecturesAll LevelsCurrent price: â‚¹599Original price: â‚¹3,699\\nLink: https://www.udemy.com/course/microservices-with-spring-boot-and-spring-cloud/\\nCourse Name: Master Microservices with Spring Boot and Spring Cloud\\ntotal hours: 25.0\\nrating: 4.6\\nlevel: All Levels', metadata={'source': 'output.csv', 'row': 36}),\n",
       " Document(page_content='Course: Python and Django Full Stack Web Developer BootcampLearn to build websites with HTML , CSS , Bootstrap , Javascript , jQuery , Python 3 , and Django!Rating: 4.4 out of 549745 reviews32 total hours198 lecturesAll LevelsCurrent price: â‚¹599Original price: â‚¹3,699\\nLink: https://www.udemy.com/course/python-and-django-full-stack-web-developer-bootcamp/\\nCourse Name: Python and Django Full Stack Web Developer Bootcamp\\ntotal hours: 32.0\\nrating: 4.4\\nlevel: All Levels', metadata={'source': 'output.csv', 'row': 37}),\n",
       " Document(page_content='Course: Understanding TypeScriptBoost your JavaScript projects with TypeScript: Learn all about core types, generics, TypeScript + React or Node & more!Rating: 4.7 out of 549628 reviews15 total hours198 lecturesAll LevelsCurrent price: â‚¹699Original price: â‚¹4,499\\nLink: https://www.udemy.com/course/understanding-typescript/\\nCourse Name: Understanding Type\\ntotal hours: 15.0\\nrating: 4.7\\nlevel: All Levels', metadata={'source': 'output.csv', 'row': 38}),\n",
       " Document(page_content=\"Course: JavaScript: Understanding the Weird PartsAn advanced JavaScript course for everyone! Scope, closures, prototypes, 'this', build your own framework, and more.Rating: 4.7 out of 547940 reviews12 total hours89 lecturesAll LevelsCurrent price: â‚¹599Original price: â‚¹3,699\\nLink: https://www.udemy.com/course/understand-javascript/\\nCourse Name: Java\\ntotal hours: 12.0\\nrating: 4.7\\nlevel: All Levels\", metadata={'source': 'output.csv', 'row': 39}),\n",
       " Document(page_content='Course: Mastering Data Structures & Algorithms using C and C++Learn, Analyse and Implement Data Structure using C and C++. Learn Recursion and Sorting.Rating: 4.6 out of 547053 reviews58.5 total hours390 lecturesAll LevelsCurrent price: â‚¹499Original price: â‚¹3,099\\nLink: https://www.udemy.com/course/datastructurescncpp/\\nCourse Name: Mastering Data Structures & Algorithms using C and C++Learn, Analyse and Implement Data Structure using C and C++. Learn Recursion and Sorting.Rating: 4.6 out of 547053 reviews58.5 total hours390 lectures\\ntotal hours: 58.5\\nrating: 4.6\\nlevel: All Levels', metadata={'source': 'output.csv', 'row': 40}),\n",
       " Document(page_content='Course: NodeJS - The Complete Guide (MVC, REST APIs, GraphQL, Deno)Master Node JS & Deno.js, build REST APIs with Node.js, GraphQL APIs, add Authentication, use MongoDB, SQL & much more!Rating: 4.6 out of 547011 reviews40.5 total hours543 lecturesAll LevelsCurrent price: â‚¹499Original price: â‚¹3,099\\nLink: https://www.udemy.com/course/nodejs-the-complete-guide/\\nCourse Name: Node\\ntotal hours: 40.5\\nrating: 4.6\\nlevel: All Levels', metadata={'source': 'output.csv', 'row': 41}),\n",
       " Document(page_content='Course: Deep Learning A-Z 2024: Neural Networks, AI & ChatGPT PrizeLearn to create Deep Learning models in Python from two Machine Learning, Data Science experts. Code templates included.Rating: 4.5 out of 545668 reviews23 total hours192 lecturesAll LevelsCurrent price: â‚¹599Original price: â‚¹3,699\\nLink: https://www.udemy.com/course/deeplearning/\\nCourse Name: Deep Learning A-Z 2024: Neural Networks, AI & Chat\\ntotal hours: 23.0\\nrating: 4.5\\nlevel: All Levels', metadata={'source': 'output.csv', 'row': 42}),\n",
       " Document(page_content='Course: The Complete React Native + Hooks CourseUnderstand React Native with Hooks, Context, and React Navigation.Rating: 4.5 out of 544257 reviews38.5 total hours435 lecturesAll LevelsCurrent price: â‚¹599Original price: â‚¹3,699\\nLink: https://www.udemy.com/course/the-complete-react-native-and-redux-course/\\nCourse Name: The Complete React Native + Hooks Course\\ntotal hours: 38.5\\nrating: 4.5\\nlevel: All Levels', metadata={'source': 'output.csv', 'row': 43}),\n",
       " Document(page_content='Course: Apache Kafka Series - Learn Apache Kafka for Beginners v3START HERE: Learn Apache Kafka 3.0 Ecosystem, Core Concepts, Real World Java Producers/Consumers & Big Data ArchitectureRating: 4.7 out of 543711 reviews8.5 total hours121 lecturesAll LevelsCurrent price: â‚¹499Original price: â‚¹3,099\\nLink: https://www.udemy.com/course/apache-kafka/\\nCourse Name: Apache Kafka Series - Learn Apache Kafka for Beginners v3START HERE: Learn Apache Kafka 3.0 Ecosystem, Core Concepts, Real World Java Producers/Consumers & Big Data Architecture\\ntotal hours: 8.5\\nrating: 4.7\\nlevel: Beginner', metadata={'source': 'output.csv', 'row': 44}),\n",
       " Document(page_content='Course: Advanced CSS and Sass: Flexbox, Grid, Animations and More!The most advanced and modern CSS course on the internet: master flexbox, CSS Grid, responsive design, and so much more.Rating: 4.8 out of 543551 reviews28 total hours126 lecturesIntermediateCurrent price: â‚¹499Original price: â‚¹3,099\\nLink: https://www.udemy.com/course/advanced-css-and-sass/\\nCourse Name: Advanced CSS and Sass: Flexbox, Grid, Animations and More!The most advanced and modern CSS course on the internet: master flexbox, CSS Grid, responsive design, and so much more.Rating: 4.8 out of 543551 reviews28 total hours126 lectures\\ntotal hours: 28.0\\nrating: 4.8\\nlevel: Intermediate', metadata={'source': 'output.csv', 'row': 45}),\n",
       " Document(page_content='Course: Python for Beginners: Learn Python Programming (Python 3)Learn Python Programming the Easy Way, Complete with Examples, Quizzes, Exercises and more. Learn Python 2 and Python 3.Rating: 4.5 out of 543466 reviews3 total hours78 lecturesAll LevelsCurrent price: â‚¹499Original price: â‚¹3,299\\nLink: https://www.udemy.com/course/python-programming-projects/\\nCourse Name: Python for Beginners: Learn Python Programming (Python 3)Learn Python Programming the Easy Way, Complete with Examples, Quizzes, Exercises and more. Learn Python 2 and Python 3.Rating: 4.5 out of 543466 reviews3 total hours78 lectures\\ntotal hours: 3.0\\nrating: 4.5\\nlevel: Beginner', metadata={'source': 'output.csv', 'row': 46}),\n",
       " Document(page_content='Course: Java Programming for Complete BeginnersJava Programming for Beginners to Java Object Oriented Programming. Core Java + REST API with Spring Boot. Java 8 to 16.Rating: 4.6 out of 543342 reviews41.5 total hours504 lecturesBeginnerCurrent price: â‚¹499Original price: â‚¹3,099\\nLink: https://www.udemy.com/course/java-programming-tutorial-for-beginners/\\nCourse Name: Java Programming for Complete Beginners\\ntotal hours: 41.5\\nrating: 4.6\\nlevel: Beginner', metadata={'source': 'output.csv', 'row': 47}),\n",
       " Document(page_content='Course: Statistics for Data Science and Business AnalysisStatistics you need in the office: Descriptive & Inferential statistics, Hypothesis testing, Regression analysisRating: 4.6 out of 542859 reviews5 total hours92 lecturesAll LevelsCurrent price: â‚¹599Original price: â‚¹3,699\\nLink: https://www.udemy.com/course/statistics-for-data-science-and-business-analysis/\\nCourse Name: Statistics for Data Science and Business Analysis\\ntotal hours: 5.0\\nrating: 4.6\\nlevel: All Levels', metadata={'source': 'output.csv', 'row': 48}),\n",
       " Document(page_content='Course: Complete C# Unity Game Developer 3DDesign & Develop Video Games. Learn C# in Unity Engine. Code Your first 3D Unity games for web, Mac & PC.Rating: 4.7 out of 541750 reviews30.5 total hours204 lecturesAll LevelsCurrent price: â‚¹499Original price: â‚¹3,099\\nLink: https://www.udemy.com/course/unitycourse2/\\nCourse Name: Complete C# Unity Game Developer 3DDesign & Develop Video Games. Learn C# in Unity Engine. Code Your first 3D Unity games for web, Mac & PC.Rating: 4.7 out of 541750 reviews30.5 total hours204 lectures\\ntotal hours: 30.5\\nrating: 4.7\\nlevel: All Levels', metadata={'source': 'output.csv', 'row': 49})]"
      ]
     },
     "execution_count": 3,
     "metadata": {},
     "output_type": "execute_result"
    }
   ],
   "source": [
    "from langchain_community.document_loaders import CSVLoader\n",
    "\n",
    "loader = CSVLoader(\"output.csv\")\n",
    "docs = loader.load()\n",
    "docs"
   ]
  },
  {
   "cell_type": "code",
   "execution_count": 4,
   "metadata": {},
   "outputs": [],
   "source": [
    "from langchain.text_splitter import RecursiveCharacterTextSplitter\n",
    "\n",
    "text_splitter = RecursiveCharacterTextSplitter(chunk_size = 500, chunk_overlap = 10)\n",
    "documents = text_splitter.split_documents(docs)"
   ]
  },
  {
   "cell_type": "code",
   "execution_count": 5,
   "metadata": {},
   "outputs": [],
   "source": [
    "from langchain_community.embeddings import OllamaEmbeddings\n",
    "from langchain_community.vectorstores import FAISS"
   ]
  },
  {
   "cell_type": "code",
   "execution_count": 6,
   "metadata": {},
   "outputs": [],
   "source": [
    "db = FAISS.from_documents(documents, OllamaEmbeddings())"
   ]
  },
  {
   "cell_type": "code",
   "execution_count": 7,
   "metadata": {},
   "outputs": [
    {
     "data": {
      "text/plain": [
       "<langchain_community.vectorstores.faiss.FAISS at 0x2073c2061e0>"
      ]
     },
     "execution_count": 7,
     "metadata": {},
     "output_type": "execute_result"
    }
   ],
   "source": [
    "db"
   ]
  },
  {
   "cell_type": "code",
   "execution_count": 8,
   "metadata": {},
   "outputs": [
    {
     "data": {
      "text/plain": [
       "Ollama()"
      ]
     },
     "execution_count": 8,
     "metadata": {},
     "output_type": "execute_result"
    }
   ],
   "source": [
    "from langchain_community.llms import Ollama\n",
    "\n",
    "llm = Ollama(model= \"llama2\")\n",
    "llm"
   ]
  },
  {
   "cell_type": "code",
   "execution_count": 9,
   "metadata": {},
   "outputs": [],
   "source": [
    "#chat prompt\n",
    "\n",
    "from langchain_core.prompts import ChatPromptTemplate\n",
    "\n",
    "prompt = ChatPromptTemplate.from_template(\n",
    "    \"\"\" Act as helpfull Talent Transformation assistant and suggest the best Courses to take based on the given \n",
    "    context and given skills. and also provide Course link.\n",
    "    <context>\n",
    "    {context}\n",
    "    <context>\n",
    "\n",
    "    skills : {input}\n",
    "\"\"\"\n",
    ")"
   ]
  },
  {
   "cell_type": "code",
   "execution_count": 10,
   "metadata": {},
   "outputs": [],
   "source": [
    "#stuff chain\n",
    "\n",
    "from langchain.chains.combine_documents import create_stuff_documents_chain\n",
    "\n",
    "document_chain = create_stuff_documents_chain(llm, prompt)"
   ]
  },
  {
   "cell_type": "code",
   "execution_count": 11,
   "metadata": {},
   "outputs": [],
   "source": [
    "#retriever\n",
    "\n",
    "retriever = db.as_retriever()"
   ]
  },
  {
   "cell_type": "code",
   "execution_count": 12,
   "metadata": {},
   "outputs": [],
   "source": [
    "#retriever chain\n",
    "\n",
    "from langchain.chains import create_retrieval_chain\n",
    "\n",
    "retriever_chain = create_retrieval_chain(retriever, document_chain)"
   ]
  },
  {
   "cell_type": "code",
   "execution_count": 13,
   "metadata": {},
   "outputs": [],
   "source": [
    "response = retriever_chain.invoke({\"input\": \"my skills are React and java\"})"
   ]
  },
  {
   "cell_type": "code",
   "execution_count": 14,
   "metadata": {},
   "outputs": [
    {
     "data": {
      "text/plain": [
       "\"Based on the skills you provided (React and Java), I would recommend the following courses to help you enhance your knowledge and skills:\\n\\n1. The Complete JavaScript Course 2024: From Zero to Expert! - This course is an excellent starting point for learning JavaScript, as it covers everything from the basics to advanced concepts. With a rating of 4.7 out of 5 and 321 lectures, you'll have plenty of material to work through. Plus, it includes projects and challenges to help you apply your knowledge in real-time.\\n2. The Complete Node.js Developer Course (3rd Edition) - If you're interested in learning Node.js, this course is a great choice. It covers everything from the basics of Node.js to advanced topics like Express and MongoDB. With 177 lectures and a rating of 4.5 out of 5, you can be sure that you're getting high-quality content.\\n3. Selenium WebDriver with Java - This course is perfect for those interested in learning how to use Selenium with Java. With a rating of 4.6 out of 5 and 335 lectures, you'll have plenty of material to learn from. Plus, the course includes real-time examples and interview questions to help you prepare for your next job interview.\\n\\nHere are the links to each course:\\n\\n1. The Complete JavaScript Course 2024: From Zero to Expert! - <https://www.udemy.com/course/the-complete-javascript-course/>\\n2. The Complete Node.js Developer Course (3rd Edition) - <https://www.udemy.com/course/the-complete-nodejs-developer-course-2/>\\n3. Selenium WebDriver with Java - <https://www.udemy.com/course/selenium-real-time-examplesinterview-questions/>\\n\\nI hope these recommendations are helpful! Let me know if you have any other questions or need further assistance.\""
      ]
     },
     "execution_count": 14,
     "metadata": {},
     "output_type": "execute_result"
    }
   ],
   "source": [
    "response['answer']"
   ]
  },
  {
   "cell_type": "markdown",
   "metadata": {},
   "source": [
    "### EX-2"
   ]
  },
  {
   "cell_type": "code",
   "execution_count": 15,
   "metadata": {},
   "outputs": [],
   "source": [
    "from langchain_core.output_parsers import StrOutputParser\n",
    "\n",
    "parser = StrOutputParser()"
   ]
  },
  {
   "cell_type": "code",
   "execution_count": 16,
   "metadata": {},
   "outputs": [],
   "source": [
    "from langchain_core.runnables import RunnableParallel, RunnablePassthrough\n",
    "\n",
    "setup = RunnableParallel(context=retriever, input = RunnablePassthrough())"
   ]
  },
  {
   "cell_type": "code",
   "execution_count": 17,
   "metadata": {},
   "outputs": [],
   "source": [
    "chain = setup | prompt | llm | parser"
   ]
  },
  {
   "cell_type": "code",
   "execution_count": 18,
   "metadata": {},
   "outputs": [
    {
     "data": {
      "text/plain": [
       "\"Great! Based on your skills in React and Java, I would recommend the following courses to you:\\n\\n1. The Complete JavaScript Course 2024: This course is a comprehensive introduction to JavaScript, covering both the basics and advanced concepts. It's a great starting point for beginners and experienced developers alike, and it includes projects and challenges to help you practice your skills.\\n2. Selenium WebDriver with Java - Basics to Advanced + Frameworks: This course is focused specifically on Selenium and Java, which are both relevant to your skills in React and Java. It covers the basics of Selenium as well as more advanced topics and frameworks, making it a great choice for those looking to deepen their understanding of these technologies.\\n3. The Complete Node.js Developer Course (3rd Edition): While not specifically focused on React or Java, this course covers the foundational concepts of Node.js development, which can be useful for anyone interested in building web applications using these technologies. It includes practical projects and exercises to help you apply your new skills.\\n\\nHere are direct links to each course:\\n\\n* The Complete JavaScript Course 2024: <https://www.udemy.com/course/the-complete-javascript-course/>\\n* Selenium WebDriver with Java - Basics to Advanced + Frameworks: <https://www.udemy.com/course/selenium-real-time-examplesinterview-questions/>\\n* The Complete Node.js Developer Course (3rd Edition): <https://www.udemy.com/course/the-complete-nodejs-developer-course-2/>\\n\\nI hope these recommendations are helpful! Let me know if you have any other questions or need further guidance.\""
      ]
     },
     "execution_count": 18,
     "metadata": {},
     "output_type": "execute_result"
    }
   ],
   "source": [
    "chain.invoke(\"my skills are React and java\")"
   ]
  },
  {
   "cell_type": "markdown",
   "metadata": {},
   "source": [
    "## EX-03"
   ]
  },
  {
   "cell_type": "code",
   "execution_count": 19,
   "metadata": {},
   "outputs": [],
   "source": [
    "from langchain_core.output_parsers import JsonOutputParser\n",
    "\n",
    "parser_js = JsonOutputParser()"
   ]
  },
  {
   "cell_type": "code",
   "execution_count": 28,
   "metadata": {},
   "outputs": [],
   "source": [
    "#chat prompt\n",
    "\n",
    "\n",
    "\n",
    "prompt_json= ChatPromptTemplate.from_template(\n",
    "    \"\"\" Act as helpfull Talent Transformation assistant and suggest the best Courses to take based on the given \n",
    "    context and given skills. also provide the course link, total hours and rating.\n",
    "    Take your time think step by step before providing detail answer. \n",
    "    If there is a course suggestion, extract as a Json with keys as follows:\n",
    "        - \"Course Name\": Name of the course.\n",
    "        - \"Course Link\" : Link of the course.\n",
    "        - \"total hours\": Total hours of the course.\n",
    "    \n",
    "    Strickly follow the context.\n",
    "    <context>\n",
    "    {context}\n",
    "    <context>\n",
    "\n",
    "    skills : {input}\n",
    "\"\"\"\n",
    ")"
   ]
  },
  {
   "cell_type": "code",
   "execution_count": 21,
   "metadata": {},
   "outputs": [],
   "source": [
    "chain_js = setup | prompt_json | llm | parser_js"
   ]
  },
  {
   "cell_type": "code",
   "execution_count": 22,
   "metadata": {},
   "outputs": [
    {
     "ename": "OutputParserException",
     "evalue": "Invalid json output: Based on your provided context and skills, I would suggest the following courses as the best fit for you:\n\n1. The Complete JavaScript Course 2024 - This course covers a wide range of topics in JavaScript, including projects, challenges, and theory. As someone with skills in React and Java, this course will provide you with a comprehensive understanding of JavaScript and its applications. With a rating of 4.7 out of 5 and 321 lectures, this course is an excellent choice for learning the latest techniques and best practices in JavaScript. (Total hours: 68.5)\n2. Selenium WebDriver with Java - This course covers the basics to advanced levels of Selenium WebDriver with Java. As a beginner or intermediate learner, this course will provide you with hands-on experience in using Selenium for web automation. With a rating of 4.6 out of 5 and 335 lectures, this course is an excellent choice for learning the latest techniques and best practices in Selenium WebDriver. (Total hours: 55.5)\n3. The Complete Node.js Developer Course (3rd Edition) - This course covers the basics to advanced levels of Node.js development, including Express, MongoDB, Jest, and more. As someone with skills in React and Java, this course will provide you with a comprehensive understanding of Node.js and its applications. With a rating of 4.5 out of 5 and 177 lectures, this course is an excellent choice for learning the latest techniques and best practices in Node.js development. (Total hours: 35)\n\nI hope these suggestions are helpful!",
     "output_type": "error",
     "traceback": [
      "\u001b[1;31m---------------------------------------------------------------------------\u001b[0m",
      "\u001b[1;31mJSONDecodeError\u001b[0m                           Traceback (most recent call last)",
      "File \u001b[1;32mc:\\project\\Talent_transformation_tool\\RAGENV\\Lib\\site-packages\\langchain_core\\output_parsers\\json.py:66\u001b[0m, in \u001b[0;36mJsonOutputParser.parse_result\u001b[1;34m(self, result, partial)\u001b[0m\n\u001b[0;32m     65\u001b[0m \u001b[38;5;28;01mtry\u001b[39;00m:\n\u001b[1;32m---> 66\u001b[0m     \u001b[38;5;28;01mreturn\u001b[39;00m \u001b[43mparse_json_markdown\u001b[49m\u001b[43m(\u001b[49m\u001b[43mtext\u001b[49m\u001b[43m)\u001b[49m\n\u001b[0;32m     67\u001b[0m \u001b[38;5;28;01mexcept\u001b[39;00m JSONDecodeError \u001b[38;5;28;01mas\u001b[39;00m e:\n",
      "File \u001b[1;32mc:\\project\\Talent_transformation_tool\\RAGENV\\Lib\\site-packages\\langchain_core\\utils\\json.py:147\u001b[0m, in \u001b[0;36mparse_json_markdown\u001b[1;34m(json_string, parser)\u001b[0m\n\u001b[0;32m    146\u001b[0m         json_str \u001b[38;5;241m=\u001b[39m match\u001b[38;5;241m.\u001b[39mgroup(\u001b[38;5;241m2\u001b[39m)\n\u001b[1;32m--> 147\u001b[0m \u001b[38;5;28;01mreturn\u001b[39;00m \u001b[43m_parse_json\u001b[49m\u001b[43m(\u001b[49m\u001b[43mjson_str\u001b[49m\u001b[43m,\u001b[49m\u001b[43m \u001b[49m\u001b[43mparser\u001b[49m\u001b[38;5;241;43m=\u001b[39;49m\u001b[43mparser\u001b[49m\u001b[43m)\u001b[49m\n",
      "File \u001b[1;32mc:\\project\\Talent_transformation_tool\\RAGENV\\Lib\\site-packages\\langchain_core\\utils\\json.py:160\u001b[0m, in \u001b[0;36m_parse_json\u001b[1;34m(json_str, parser)\u001b[0m\n\u001b[0;32m    159\u001b[0m \u001b[38;5;66;03m# Parse the JSON string into a Python dictionary\u001b[39;00m\n\u001b[1;32m--> 160\u001b[0m \u001b[38;5;28;01mreturn\u001b[39;00m \u001b[43mparser\u001b[49m\u001b[43m(\u001b[49m\u001b[43mjson_str\u001b[49m\u001b[43m)\u001b[49m\n",
      "File \u001b[1;32mc:\\project\\Talent_transformation_tool\\RAGENV\\Lib\\site-packages\\langchain_core\\utils\\json.py:120\u001b[0m, in \u001b[0;36mparse_partial_json\u001b[1;34m(s, strict)\u001b[0m\n\u001b[0;32m    117\u001b[0m \u001b[38;5;66;03m# If we got here, we ran out of characters to remove\u001b[39;00m\n\u001b[0;32m    118\u001b[0m \u001b[38;5;66;03m# and still couldn't parse the string as JSON, so return the parse error\u001b[39;00m\n\u001b[0;32m    119\u001b[0m \u001b[38;5;66;03m# for the original string.\u001b[39;00m\n\u001b[1;32m--> 120\u001b[0m \u001b[38;5;28;01mreturn\u001b[39;00m \u001b[43mjson\u001b[49m\u001b[38;5;241;43m.\u001b[39;49m\u001b[43mloads\u001b[49m\u001b[43m(\u001b[49m\u001b[43ms\u001b[49m\u001b[43m,\u001b[49m\u001b[43m \u001b[49m\u001b[43mstrict\u001b[49m\u001b[38;5;241;43m=\u001b[39;49m\u001b[43mstrict\u001b[49m\u001b[43m)\u001b[49m\n",
      "File \u001b[1;32m~\\AppData\\Local\\Programs\\Python\\Python312\\Lib\\json\\__init__.py:359\u001b[0m, in \u001b[0;36mloads\u001b[1;34m(s, cls, object_hook, parse_float, parse_int, parse_constant, object_pairs_hook, **kw)\u001b[0m\n\u001b[0;32m    358\u001b[0m     kw[\u001b[38;5;124m'\u001b[39m\u001b[38;5;124mparse_constant\u001b[39m\u001b[38;5;124m'\u001b[39m] \u001b[38;5;241m=\u001b[39m parse_constant\n\u001b[1;32m--> 359\u001b[0m \u001b[38;5;28;01mreturn\u001b[39;00m \u001b[38;5;28;43mcls\u001b[39;49m\u001b[43m(\u001b[49m\u001b[38;5;241;43m*\u001b[39;49m\u001b[38;5;241;43m*\u001b[39;49m\u001b[43mkw\u001b[49m\u001b[43m)\u001b[49m\u001b[38;5;241;43m.\u001b[39;49m\u001b[43mdecode\u001b[49m\u001b[43m(\u001b[49m\u001b[43ms\u001b[49m\u001b[43m)\u001b[49m\n",
      "File \u001b[1;32m~\\AppData\\Local\\Programs\\Python\\Python312\\Lib\\json\\decoder.py:337\u001b[0m, in \u001b[0;36mJSONDecoder.decode\u001b[1;34m(self, s, _w)\u001b[0m\n\u001b[0;32m    333\u001b[0m \u001b[38;5;250m\u001b[39m\u001b[38;5;124;03m\"\"\"Return the Python representation of ``s`` (a ``str`` instance\u001b[39;00m\n\u001b[0;32m    334\u001b[0m \u001b[38;5;124;03mcontaining a JSON document).\u001b[39;00m\n\u001b[0;32m    335\u001b[0m \n\u001b[0;32m    336\u001b[0m \u001b[38;5;124;03m\"\"\"\u001b[39;00m\n\u001b[1;32m--> 337\u001b[0m obj, end \u001b[38;5;241m=\u001b[39m \u001b[38;5;28;43mself\u001b[39;49m\u001b[38;5;241;43m.\u001b[39;49m\u001b[43mraw_decode\u001b[49m\u001b[43m(\u001b[49m\u001b[43ms\u001b[49m\u001b[43m,\u001b[49m\u001b[43m \u001b[49m\u001b[43midx\u001b[49m\u001b[38;5;241;43m=\u001b[39;49m\u001b[43m_w\u001b[49m\u001b[43m(\u001b[49m\u001b[43ms\u001b[49m\u001b[43m,\u001b[49m\u001b[43m \u001b[49m\u001b[38;5;241;43m0\u001b[39;49m\u001b[43m)\u001b[49m\u001b[38;5;241;43m.\u001b[39;49m\u001b[43mend\u001b[49m\u001b[43m(\u001b[49m\u001b[43m)\u001b[49m\u001b[43m)\u001b[49m\n\u001b[0;32m    338\u001b[0m end \u001b[38;5;241m=\u001b[39m _w(s, end)\u001b[38;5;241m.\u001b[39mend()\n",
      "File \u001b[1;32m~\\AppData\\Local\\Programs\\Python\\Python312\\Lib\\json\\decoder.py:355\u001b[0m, in \u001b[0;36mJSONDecoder.raw_decode\u001b[1;34m(self, s, idx)\u001b[0m\n\u001b[0;32m    354\u001b[0m \u001b[38;5;28;01mexcept\u001b[39;00m \u001b[38;5;167;01mStopIteration\u001b[39;00m \u001b[38;5;28;01mas\u001b[39;00m err:\n\u001b[1;32m--> 355\u001b[0m     \u001b[38;5;28;01mraise\u001b[39;00m JSONDecodeError(\u001b[38;5;124m\"\u001b[39m\u001b[38;5;124mExpecting value\u001b[39m\u001b[38;5;124m\"\u001b[39m, s, err\u001b[38;5;241m.\u001b[39mvalue) \u001b[38;5;28;01mfrom\u001b[39;00m \u001b[38;5;28;01mNone\u001b[39;00m\n\u001b[0;32m    356\u001b[0m \u001b[38;5;28;01mreturn\u001b[39;00m obj, end\n",
      "\u001b[1;31mJSONDecodeError\u001b[0m: Expecting value: line 1 column 1 (char 0)",
      "\nThe above exception was the direct cause of the following exception:\n",
      "\u001b[1;31mOutputParserException\u001b[0m                     Traceback (most recent call last)",
      "Cell \u001b[1;32mIn[22], line 1\u001b[0m\n\u001b[1;32m----> 1\u001b[0m \u001b[43mchain_js\u001b[49m\u001b[38;5;241;43m.\u001b[39;49m\u001b[43minvoke\u001b[49m\u001b[43m(\u001b[49m\u001b[38;5;124;43m\"\u001b[39;49m\u001b[38;5;124;43mmy skills are React and java\u001b[39;49m\u001b[38;5;124;43m\"\u001b[39;49m\u001b[43m)\u001b[49m\n",
      "File \u001b[1;32mc:\\project\\Talent_transformation_tool\\RAGENV\\Lib\\site-packages\\langchain_core\\runnables\\base.py:2499\u001b[0m, in \u001b[0;36mRunnableSequence.invoke\u001b[1;34m(self, input, config)\u001b[0m\n\u001b[0;32m   2497\u001b[0m \u001b[38;5;28;01mtry\u001b[39;00m:\n\u001b[0;32m   2498\u001b[0m     \u001b[38;5;28;01mfor\u001b[39;00m i, step \u001b[38;5;129;01min\u001b[39;00m \u001b[38;5;28menumerate\u001b[39m(\u001b[38;5;28mself\u001b[39m\u001b[38;5;241m.\u001b[39msteps):\n\u001b[1;32m-> 2499\u001b[0m         \u001b[38;5;28minput\u001b[39m \u001b[38;5;241m=\u001b[39m \u001b[43mstep\u001b[49m\u001b[38;5;241;43m.\u001b[39;49m\u001b[43minvoke\u001b[49m\u001b[43m(\u001b[49m\n\u001b[0;32m   2500\u001b[0m \u001b[43m            \u001b[49m\u001b[38;5;28;43minput\u001b[39;49m\u001b[43m,\u001b[49m\n\u001b[0;32m   2501\u001b[0m \u001b[43m            \u001b[49m\u001b[38;5;66;43;03m# mark each step as a child run\u001b[39;49;00m\n\u001b[0;32m   2502\u001b[0m \u001b[43m            \u001b[49m\u001b[43mpatch_config\u001b[49m\u001b[43m(\u001b[49m\n\u001b[0;32m   2503\u001b[0m \u001b[43m                \u001b[49m\u001b[43mconfig\u001b[49m\u001b[43m,\u001b[49m\u001b[43m \u001b[49m\u001b[43mcallbacks\u001b[49m\u001b[38;5;241;43m=\u001b[39;49m\u001b[43mrun_manager\u001b[49m\u001b[38;5;241;43m.\u001b[39;49m\u001b[43mget_child\u001b[49m\u001b[43m(\u001b[49m\u001b[38;5;124;43mf\u001b[39;49m\u001b[38;5;124;43m\"\u001b[39;49m\u001b[38;5;124;43mseq:step:\u001b[39;49m\u001b[38;5;132;43;01m{\u001b[39;49;00m\u001b[43mi\u001b[49m\u001b[38;5;241;43m+\u001b[39;49m\u001b[38;5;241;43m1\u001b[39;49m\u001b[38;5;132;43;01m}\u001b[39;49;00m\u001b[38;5;124;43m\"\u001b[39;49m\u001b[43m)\u001b[49m\n\u001b[0;32m   2504\u001b[0m \u001b[43m            \u001b[49m\u001b[43m)\u001b[49m\u001b[43m,\u001b[49m\n\u001b[0;32m   2505\u001b[0m \u001b[43m        \u001b[49m\u001b[43m)\u001b[49m\n\u001b[0;32m   2506\u001b[0m \u001b[38;5;66;03m# finish the root run\u001b[39;00m\n\u001b[0;32m   2507\u001b[0m \u001b[38;5;28;01mexcept\u001b[39;00m \u001b[38;5;167;01mBaseException\u001b[39;00m \u001b[38;5;28;01mas\u001b[39;00m e:\n",
      "File \u001b[1;32mc:\\project\\Talent_transformation_tool\\RAGENV\\Lib\\site-packages\\langchain_core\\output_parsers\\base.py:178\u001b[0m, in \u001b[0;36mBaseOutputParser.invoke\u001b[1;34m(self, input, config)\u001b[0m\n\u001b[0;32m    169\u001b[0m     \u001b[38;5;28;01mreturn\u001b[39;00m \u001b[38;5;28mself\u001b[39m\u001b[38;5;241m.\u001b[39m_call_with_config(\n\u001b[0;32m    170\u001b[0m         \u001b[38;5;28;01mlambda\u001b[39;00m inner_input: \u001b[38;5;28mself\u001b[39m\u001b[38;5;241m.\u001b[39mparse_result(\n\u001b[0;32m    171\u001b[0m             [ChatGeneration(message\u001b[38;5;241m=\u001b[39minner_input)]\n\u001b[1;32m   (...)\u001b[0m\n\u001b[0;32m    175\u001b[0m         run_type\u001b[38;5;241m=\u001b[39m\u001b[38;5;124m\"\u001b[39m\u001b[38;5;124mparser\u001b[39m\u001b[38;5;124m\"\u001b[39m,\n\u001b[0;32m    176\u001b[0m     )\n\u001b[0;32m    177\u001b[0m \u001b[38;5;28;01melse\u001b[39;00m:\n\u001b[1;32m--> 178\u001b[0m     \u001b[38;5;28;01mreturn\u001b[39;00m \u001b[38;5;28;43mself\u001b[39;49m\u001b[38;5;241;43m.\u001b[39;49m\u001b[43m_call_with_config\u001b[49m\u001b[43m(\u001b[49m\n\u001b[0;32m    179\u001b[0m \u001b[43m        \u001b[49m\u001b[38;5;28;43;01mlambda\u001b[39;49;00m\u001b[43m \u001b[49m\u001b[43minner_input\u001b[49m\u001b[43m:\u001b[49m\u001b[43m \u001b[49m\u001b[38;5;28;43mself\u001b[39;49m\u001b[38;5;241;43m.\u001b[39;49m\u001b[43mparse_result\u001b[49m\u001b[43m(\u001b[49m\u001b[43m[\u001b[49m\u001b[43mGeneration\u001b[49m\u001b[43m(\u001b[49m\u001b[43mtext\u001b[49m\u001b[38;5;241;43m=\u001b[39;49m\u001b[43minner_input\u001b[49m\u001b[43m)\u001b[49m\u001b[43m]\u001b[49m\u001b[43m)\u001b[49m\u001b[43m,\u001b[49m\n\u001b[0;32m    180\u001b[0m \u001b[43m        \u001b[49m\u001b[38;5;28;43minput\u001b[39;49m\u001b[43m,\u001b[49m\n\u001b[0;32m    181\u001b[0m \u001b[43m        \u001b[49m\u001b[43mconfig\u001b[49m\u001b[43m,\u001b[49m\n\u001b[0;32m    182\u001b[0m \u001b[43m        \u001b[49m\u001b[43mrun_type\u001b[49m\u001b[38;5;241;43m=\u001b[39;49m\u001b[38;5;124;43m\"\u001b[39;49m\u001b[38;5;124;43mparser\u001b[39;49m\u001b[38;5;124;43m\"\u001b[39;49m\u001b[43m,\u001b[49m\n\u001b[0;32m    183\u001b[0m \u001b[43m    \u001b[49m\u001b[43m)\u001b[49m\n",
      "File \u001b[1;32mc:\\project\\Talent_transformation_tool\\RAGENV\\Lib\\site-packages\\langchain_core\\runnables\\base.py:1625\u001b[0m, in \u001b[0;36mRunnable._call_with_config\u001b[1;34m(self, func, input, config, run_type, **kwargs)\u001b[0m\n\u001b[0;32m   1621\u001b[0m     context \u001b[38;5;241m=\u001b[39m copy_context()\n\u001b[0;32m   1622\u001b[0m     context\u001b[38;5;241m.\u001b[39mrun(var_child_runnable_config\u001b[38;5;241m.\u001b[39mset, child_config)\n\u001b[0;32m   1623\u001b[0m     output \u001b[38;5;241m=\u001b[39m cast(\n\u001b[0;32m   1624\u001b[0m         Output,\n\u001b[1;32m-> 1625\u001b[0m         \u001b[43mcontext\u001b[49m\u001b[38;5;241;43m.\u001b[39;49m\u001b[43mrun\u001b[49m\u001b[43m(\u001b[49m\n\u001b[0;32m   1626\u001b[0m \u001b[43m            \u001b[49m\u001b[43mcall_func_with_variable_args\u001b[49m\u001b[43m,\u001b[49m\u001b[43m  \u001b[49m\u001b[38;5;66;43;03m# type: ignore[arg-type]\u001b[39;49;00m\n\u001b[0;32m   1627\u001b[0m \u001b[43m            \u001b[49m\u001b[43mfunc\u001b[49m\u001b[43m,\u001b[49m\u001b[43m  \u001b[49m\u001b[38;5;66;43;03m# type: ignore[arg-type]\u001b[39;49;00m\n\u001b[0;32m   1628\u001b[0m \u001b[43m            \u001b[49m\u001b[38;5;28;43minput\u001b[39;49m\u001b[43m,\u001b[49m\u001b[43m  \u001b[49m\u001b[38;5;66;43;03m# type: ignore[arg-type]\u001b[39;49;00m\n\u001b[0;32m   1629\u001b[0m \u001b[43m            \u001b[49m\u001b[43mconfig\u001b[49m\u001b[43m,\u001b[49m\n\u001b[0;32m   1630\u001b[0m \u001b[43m            \u001b[49m\u001b[43mrun_manager\u001b[49m\u001b[43m,\u001b[49m\n\u001b[0;32m   1631\u001b[0m \u001b[43m            \u001b[49m\u001b[38;5;241;43m*\u001b[39;49m\u001b[38;5;241;43m*\u001b[39;49m\u001b[43mkwargs\u001b[49m\u001b[43m,\u001b[49m\n\u001b[0;32m   1632\u001b[0m \u001b[43m        \u001b[49m\u001b[43m)\u001b[49m,\n\u001b[0;32m   1633\u001b[0m     )\n\u001b[0;32m   1634\u001b[0m \u001b[38;5;28;01mexcept\u001b[39;00m \u001b[38;5;167;01mBaseException\u001b[39;00m \u001b[38;5;28;01mas\u001b[39;00m e:\n\u001b[0;32m   1635\u001b[0m     run_manager\u001b[38;5;241m.\u001b[39mon_chain_error(e)\n",
      "File \u001b[1;32mc:\\project\\Talent_transformation_tool\\RAGENV\\Lib\\site-packages\\langchain_core\\runnables\\config.py:347\u001b[0m, in \u001b[0;36mcall_func_with_variable_args\u001b[1;34m(func, input, config, run_manager, **kwargs)\u001b[0m\n\u001b[0;32m    345\u001b[0m \u001b[38;5;28;01mif\u001b[39;00m run_manager \u001b[38;5;129;01mis\u001b[39;00m \u001b[38;5;129;01mnot\u001b[39;00m \u001b[38;5;28;01mNone\u001b[39;00m \u001b[38;5;129;01mand\u001b[39;00m accepts_run_manager(func):\n\u001b[0;32m    346\u001b[0m     kwargs[\u001b[38;5;124m\"\u001b[39m\u001b[38;5;124mrun_manager\u001b[39m\u001b[38;5;124m\"\u001b[39m] \u001b[38;5;241m=\u001b[39m run_manager\n\u001b[1;32m--> 347\u001b[0m \u001b[38;5;28;01mreturn\u001b[39;00m \u001b[43mfunc\u001b[49m\u001b[43m(\u001b[49m\u001b[38;5;28;43minput\u001b[39;49m\u001b[43m,\u001b[49m\u001b[43m \u001b[49m\u001b[38;5;241;43m*\u001b[39;49m\u001b[38;5;241;43m*\u001b[39;49m\u001b[43mkwargs\u001b[49m\u001b[43m)\u001b[49m\n",
      "File \u001b[1;32mc:\\project\\Talent_transformation_tool\\RAGENV\\Lib\\site-packages\\langchain_core\\output_parsers\\base.py:179\u001b[0m, in \u001b[0;36mBaseOutputParser.invoke.<locals>.<lambda>\u001b[1;34m(inner_input)\u001b[0m\n\u001b[0;32m    169\u001b[0m     \u001b[38;5;28;01mreturn\u001b[39;00m \u001b[38;5;28mself\u001b[39m\u001b[38;5;241m.\u001b[39m_call_with_config(\n\u001b[0;32m    170\u001b[0m         \u001b[38;5;28;01mlambda\u001b[39;00m inner_input: \u001b[38;5;28mself\u001b[39m\u001b[38;5;241m.\u001b[39mparse_result(\n\u001b[0;32m    171\u001b[0m             [ChatGeneration(message\u001b[38;5;241m=\u001b[39minner_input)]\n\u001b[1;32m   (...)\u001b[0m\n\u001b[0;32m    175\u001b[0m         run_type\u001b[38;5;241m=\u001b[39m\u001b[38;5;124m\"\u001b[39m\u001b[38;5;124mparser\u001b[39m\u001b[38;5;124m\"\u001b[39m,\n\u001b[0;32m    176\u001b[0m     )\n\u001b[0;32m    177\u001b[0m \u001b[38;5;28;01melse\u001b[39;00m:\n\u001b[0;32m    178\u001b[0m     \u001b[38;5;28;01mreturn\u001b[39;00m \u001b[38;5;28mself\u001b[39m\u001b[38;5;241m.\u001b[39m_call_with_config(\n\u001b[1;32m--> 179\u001b[0m         \u001b[38;5;28;01mlambda\u001b[39;00m inner_input: \u001b[38;5;28;43mself\u001b[39;49m\u001b[38;5;241;43m.\u001b[39;49m\u001b[43mparse_result\u001b[49m\u001b[43m(\u001b[49m\u001b[43m[\u001b[49m\u001b[43mGeneration\u001b[49m\u001b[43m(\u001b[49m\u001b[43mtext\u001b[49m\u001b[38;5;241;43m=\u001b[39;49m\u001b[43minner_input\u001b[49m\u001b[43m)\u001b[49m\u001b[43m]\u001b[49m\u001b[43m)\u001b[49m,\n\u001b[0;32m    180\u001b[0m         \u001b[38;5;28minput\u001b[39m,\n\u001b[0;32m    181\u001b[0m         config,\n\u001b[0;32m    182\u001b[0m         run_type\u001b[38;5;241m=\u001b[39m\u001b[38;5;124m\"\u001b[39m\u001b[38;5;124mparser\u001b[39m\u001b[38;5;124m\"\u001b[39m,\n\u001b[0;32m    183\u001b[0m     )\n",
      "File \u001b[1;32mc:\\project\\Talent_transformation_tool\\RAGENV\\Lib\\site-packages\\langchain_core\\output_parsers\\json.py:69\u001b[0m, in \u001b[0;36mJsonOutputParser.parse_result\u001b[1;34m(self, result, partial)\u001b[0m\n\u001b[0;32m     67\u001b[0m \u001b[38;5;28;01mexcept\u001b[39;00m JSONDecodeError \u001b[38;5;28;01mas\u001b[39;00m e:\n\u001b[0;32m     68\u001b[0m     msg \u001b[38;5;241m=\u001b[39m \u001b[38;5;124mf\u001b[39m\u001b[38;5;124m\"\u001b[39m\u001b[38;5;124mInvalid json output: \u001b[39m\u001b[38;5;132;01m{\u001b[39;00mtext\u001b[38;5;132;01m}\u001b[39;00m\u001b[38;5;124m\"\u001b[39m\n\u001b[1;32m---> 69\u001b[0m     \u001b[38;5;28;01mraise\u001b[39;00m OutputParserException(msg, llm_output\u001b[38;5;241m=\u001b[39mtext) \u001b[38;5;28;01mfrom\u001b[39;00m \u001b[38;5;21;01me\u001b[39;00m\n",
      "\u001b[1;31mOutputParserException\u001b[0m: Invalid json output: Based on your provided context and skills, I would suggest the following courses as the best fit for you:\n\n1. The Complete JavaScript Course 2024 - This course covers a wide range of topics in JavaScript, including projects, challenges, and theory. As someone with skills in React and Java, this course will provide you with a comprehensive understanding of JavaScript and its applications. With a rating of 4.7 out of 5 and 321 lectures, this course is an excellent choice for learning the latest techniques and best practices in JavaScript. (Total hours: 68.5)\n2. Selenium WebDriver with Java - This course covers the basics to advanced levels of Selenium WebDriver with Java. As a beginner or intermediate learner, this course will provide you with hands-on experience in using Selenium for web automation. With a rating of 4.6 out of 5 and 335 lectures, this course is an excellent choice for learning the latest techniques and best practices in Selenium WebDriver. (Total hours: 55.5)\n3. The Complete Node.js Developer Course (3rd Edition) - This course covers the basics to advanced levels of Node.js development, including Express, MongoDB, Jest, and more. As someone with skills in React and Java, this course will provide you with a comprehensive understanding of Node.js and its applications. With a rating of 4.5 out of 5 and 177 lectures, this course is an excellent choice for learning the latest techniques and best practices in Node.js development. (Total hours: 35)\n\nI hope these suggestions are helpful!"
     ]
    }
   ],
   "source": [
    "chain_js.invoke(\"my skills are React and java\")"
   ]
  },
  {
   "cell_type": "code",
   "execution_count": 23,
   "metadata": {},
   "outputs": [],
   "source": [
    "chain_js = setup | prompt_json | llm"
   ]
  },
  {
   "cell_type": "code",
   "execution_count": 24,
   "metadata": {},
   "outputs": [
    {
     "data": {
      "text/plain": [
       "'Great! Based on the information provided, I would recommend the following courses to help you improve your skills in React and Java:\\n\\n1. The Complete JavaScript Course 2024: From Zero to Expert! - This course covers a wide range of topics in JavaScript, including React and Java. With over 321 lectures and 68.5 total hours, this course is an excellent resource for learning the basics of JavaScript as well as advanced concepts. The rating for this course is 4.7 out of 5, with over 200,000 students enrolled.\\n2. Selenium WebDriver with Java - Basics to Advanced + Frameworks - This course focuses specifically on Selenium and Java, which are important skills for a React developer. With over 335 lectures and 55.5 total hours, this course covers the basics of Selenium as well as advanced concepts and frameworks. The rating for this course is 4.6 out of 5, with over 1 million students enrolled.\\n3. The Complete Node.js Developer Course (3rd Edition) - While not specifically focused on React or Java, this course covers the basics of Node.js development, which can be helpful for a React developer. With over 177 lectures and 35 total hours, this course provides a comprehensive introduction to Node.js and its ecosystem. The rating for this course is 4.5 out of 5, with over 700,000 students enrolled.\\n4. JavaScript: Understanding the Weird Parts - This course focuses on advanced JavaScript concepts, including closures, prototypes, and more. While not specifically focused on React or Java, this course can help you improve your overall understanding of JavaScript, which can be beneficial for any front-end developer. With over 89 lectures and 12 total hours, this course is a great resource for those looking to deepen their knowledge of JavaScript. The rating for this course is 4.7 out of 5, with over 400,000 students enrolled.\\n\\nI hope these recommendations are helpful! Let me know if you have any other questions or need further assistance.'"
      ]
     },
     "execution_count": 24,
     "metadata": {},
     "output_type": "execute_result"
    }
   ],
   "source": [
    "chain_js.invoke(\"my skills are React and java\")"
   ]
  },
  {
   "cell_type": "code",
   "execution_count": 31,
   "metadata": {},
   "outputs": [],
   "source": [
    "chain_js_ds = setup | prompt_json | llm | parser_js"
   ]
  },
  {
   "cell_type": "code",
   "execution_count": 32,
   "metadata": {},
   "outputs": [
    {
     "data": {
      "text/plain": [
       "{'Course Name': 'The Complete JavaScript Course 2024',\n",
       " 'Course Link': '<https://www.udemy.com/course/the-complete-javascript-course/>',\n",
       " 'Total Hours': 68.5,\n",
       " 'Rating': 4.7}"
      ]
     },
     "execution_count": 32,
     "metadata": {},
     "output_type": "execute_result"
    }
   ],
   "source": [
    "chain_js_ds.invoke(\"I am a Data Scientiest with  over 2 years of experience I know Machine Learning, Deep Learning and Python\")"
   ]
  },
  {
   "cell_type": "code",
   "execution_count": 33,
   "metadata": {},
   "outputs": [
    {
     "ename": "OutputParserException",
     "evalue": "Invalid json output: Based on the provided context and your listed skills, I would recommend the following courses:\n\n1. The Complete Java Course 2024 - This course is a comprehensive introduction to Java programming, covering both theoretical and practical aspects of the language. As a Machine Learning and Deep Learning enthusiast, you may find this course helpful in understanding the basics of Java programming, which can be useful for implementing machine learning algorithms. The course has a rating of 4.7 out of 5 and includes 321 lectures, spanning 68.5 hours.\n2. Selenium WebDriver with Java - This course is designed to teach you the basics of Selenium WebDriver programming using Java. As a Python enthusiast, you may find this course helpful in learning how to automate web applications using Selenium. The course has a rating of 4.6 out of 5 and includes 335 lectures, spanning 55.5 hours.\n3. The Complete Python Bootcamp From Zero to Hero in Python - This course is an extensive introduction to the Python programming language, covering both theoretical and practical aspects of Python programming. As a beginner, you may find this course helpful in learning the basics of Python programming, which can be useful for implementing machine learning algorithms. The course has a rating of 4.6 out of 5 and includes 22 total hours of content.\n\nHere is the extracted data for each course:\n\n| Course Name | Course Link | Total Hours | Rating | Level |\n| --- | --- | --- | --- | --- |\n| The Complete Java Course 2024 | <https://www.udemy.com/course/the-complete-java-course/> | 68.5 | 4.7 | Expert |\n| Selenium WebDriver with Java | <https://www.udemy.com/course/selenium-real-time-examplesinterview-questions/> | 55.5 | 4.6 | All Levels |\n| The Complete Python Bootcamp From Zero to Hero in Python | <https://www.udemy.com/course/complete-python-bootcamp/> | 22 | 4.6 | All Levels |\n\nI hope this helps you find the right course for your learning needs!",
     "output_type": "error",
     "traceback": [
      "\u001b[1;31m---------------------------------------------------------------------------\u001b[0m",
      "\u001b[1;31mJSONDecodeError\u001b[0m                           Traceback (most recent call last)",
      "File \u001b[1;32mc:\\project\\Talent_transformation_tool\\RAGENV\\Lib\\site-packages\\langchain_core\\output_parsers\\json.py:66\u001b[0m, in \u001b[0;36mJsonOutputParser.parse_result\u001b[1;34m(self, result, partial)\u001b[0m\n\u001b[0;32m     65\u001b[0m \u001b[38;5;28;01mtry\u001b[39;00m:\n\u001b[1;32m---> 66\u001b[0m     \u001b[38;5;28;01mreturn\u001b[39;00m \u001b[43mparse_json_markdown\u001b[49m\u001b[43m(\u001b[49m\u001b[43mtext\u001b[49m\u001b[43m)\u001b[49m\n\u001b[0;32m     67\u001b[0m \u001b[38;5;28;01mexcept\u001b[39;00m JSONDecodeError \u001b[38;5;28;01mas\u001b[39;00m e:\n",
      "File \u001b[1;32mc:\\project\\Talent_transformation_tool\\RAGENV\\Lib\\site-packages\\langchain_core\\utils\\json.py:147\u001b[0m, in \u001b[0;36mparse_json_markdown\u001b[1;34m(json_string, parser)\u001b[0m\n\u001b[0;32m    146\u001b[0m         json_str \u001b[38;5;241m=\u001b[39m match\u001b[38;5;241m.\u001b[39mgroup(\u001b[38;5;241m2\u001b[39m)\n\u001b[1;32m--> 147\u001b[0m \u001b[38;5;28;01mreturn\u001b[39;00m \u001b[43m_parse_json\u001b[49m\u001b[43m(\u001b[49m\u001b[43mjson_str\u001b[49m\u001b[43m,\u001b[49m\u001b[43m \u001b[49m\u001b[43mparser\u001b[49m\u001b[38;5;241;43m=\u001b[39;49m\u001b[43mparser\u001b[49m\u001b[43m)\u001b[49m\n",
      "File \u001b[1;32mc:\\project\\Talent_transformation_tool\\RAGENV\\Lib\\site-packages\\langchain_core\\utils\\json.py:160\u001b[0m, in \u001b[0;36m_parse_json\u001b[1;34m(json_str, parser)\u001b[0m\n\u001b[0;32m    159\u001b[0m \u001b[38;5;66;03m# Parse the JSON string into a Python dictionary\u001b[39;00m\n\u001b[1;32m--> 160\u001b[0m \u001b[38;5;28;01mreturn\u001b[39;00m \u001b[43mparser\u001b[49m\u001b[43m(\u001b[49m\u001b[43mjson_str\u001b[49m\u001b[43m)\u001b[49m\n",
      "File \u001b[1;32mc:\\project\\Talent_transformation_tool\\RAGENV\\Lib\\site-packages\\langchain_core\\utils\\json.py:120\u001b[0m, in \u001b[0;36mparse_partial_json\u001b[1;34m(s, strict)\u001b[0m\n\u001b[0;32m    117\u001b[0m \u001b[38;5;66;03m# If we got here, we ran out of characters to remove\u001b[39;00m\n\u001b[0;32m    118\u001b[0m \u001b[38;5;66;03m# and still couldn't parse the string as JSON, so return the parse error\u001b[39;00m\n\u001b[0;32m    119\u001b[0m \u001b[38;5;66;03m# for the original string.\u001b[39;00m\n\u001b[1;32m--> 120\u001b[0m \u001b[38;5;28;01mreturn\u001b[39;00m \u001b[43mjson\u001b[49m\u001b[38;5;241;43m.\u001b[39;49m\u001b[43mloads\u001b[49m\u001b[43m(\u001b[49m\u001b[43ms\u001b[49m\u001b[43m,\u001b[49m\u001b[43m \u001b[49m\u001b[43mstrict\u001b[49m\u001b[38;5;241;43m=\u001b[39;49m\u001b[43mstrict\u001b[49m\u001b[43m)\u001b[49m\n",
      "File \u001b[1;32m~\\AppData\\Local\\Programs\\Python\\Python312\\Lib\\json\\__init__.py:359\u001b[0m, in \u001b[0;36mloads\u001b[1;34m(s, cls, object_hook, parse_float, parse_int, parse_constant, object_pairs_hook, **kw)\u001b[0m\n\u001b[0;32m    358\u001b[0m     kw[\u001b[38;5;124m'\u001b[39m\u001b[38;5;124mparse_constant\u001b[39m\u001b[38;5;124m'\u001b[39m] \u001b[38;5;241m=\u001b[39m parse_constant\n\u001b[1;32m--> 359\u001b[0m \u001b[38;5;28;01mreturn\u001b[39;00m \u001b[38;5;28;43mcls\u001b[39;49m\u001b[43m(\u001b[49m\u001b[38;5;241;43m*\u001b[39;49m\u001b[38;5;241;43m*\u001b[39;49m\u001b[43mkw\u001b[49m\u001b[43m)\u001b[49m\u001b[38;5;241;43m.\u001b[39;49m\u001b[43mdecode\u001b[49m\u001b[43m(\u001b[49m\u001b[43ms\u001b[49m\u001b[43m)\u001b[49m\n",
      "File \u001b[1;32m~\\AppData\\Local\\Programs\\Python\\Python312\\Lib\\json\\decoder.py:337\u001b[0m, in \u001b[0;36mJSONDecoder.decode\u001b[1;34m(self, s, _w)\u001b[0m\n\u001b[0;32m    333\u001b[0m \u001b[38;5;250m\u001b[39m\u001b[38;5;124;03m\"\"\"Return the Python representation of ``s`` (a ``str`` instance\u001b[39;00m\n\u001b[0;32m    334\u001b[0m \u001b[38;5;124;03mcontaining a JSON document).\u001b[39;00m\n\u001b[0;32m    335\u001b[0m \n\u001b[0;32m    336\u001b[0m \u001b[38;5;124;03m\"\"\"\u001b[39;00m\n\u001b[1;32m--> 337\u001b[0m obj, end \u001b[38;5;241m=\u001b[39m \u001b[38;5;28;43mself\u001b[39;49m\u001b[38;5;241;43m.\u001b[39;49m\u001b[43mraw_decode\u001b[49m\u001b[43m(\u001b[49m\u001b[43ms\u001b[49m\u001b[43m,\u001b[49m\u001b[43m \u001b[49m\u001b[43midx\u001b[49m\u001b[38;5;241;43m=\u001b[39;49m\u001b[43m_w\u001b[49m\u001b[43m(\u001b[49m\u001b[43ms\u001b[49m\u001b[43m,\u001b[49m\u001b[43m \u001b[49m\u001b[38;5;241;43m0\u001b[39;49m\u001b[43m)\u001b[49m\u001b[38;5;241;43m.\u001b[39;49m\u001b[43mend\u001b[49m\u001b[43m(\u001b[49m\u001b[43m)\u001b[49m\u001b[43m)\u001b[49m\n\u001b[0;32m    338\u001b[0m end \u001b[38;5;241m=\u001b[39m _w(s, end)\u001b[38;5;241m.\u001b[39mend()\n",
      "File \u001b[1;32m~\\AppData\\Local\\Programs\\Python\\Python312\\Lib\\json\\decoder.py:355\u001b[0m, in \u001b[0;36mJSONDecoder.raw_decode\u001b[1;34m(self, s, idx)\u001b[0m\n\u001b[0;32m    354\u001b[0m \u001b[38;5;28;01mexcept\u001b[39;00m \u001b[38;5;167;01mStopIteration\u001b[39;00m \u001b[38;5;28;01mas\u001b[39;00m err:\n\u001b[1;32m--> 355\u001b[0m     \u001b[38;5;28;01mraise\u001b[39;00m JSONDecodeError(\u001b[38;5;124m\"\u001b[39m\u001b[38;5;124mExpecting value\u001b[39m\u001b[38;5;124m\"\u001b[39m, s, err\u001b[38;5;241m.\u001b[39mvalue) \u001b[38;5;28;01mfrom\u001b[39;00m \u001b[38;5;28;01mNone\u001b[39;00m\n\u001b[0;32m    356\u001b[0m \u001b[38;5;28;01mreturn\u001b[39;00m obj, end\n",
      "\u001b[1;31mJSONDecodeError\u001b[0m: Expecting value: line 1 column 1 (char 0)",
      "\nThe above exception was the direct cause of the following exception:\n",
      "\u001b[1;31mOutputParserException\u001b[0m                     Traceback (most recent call last)",
      "Cell \u001b[1;32mIn[33], line 1\u001b[0m\n\u001b[1;32m----> 1\u001b[0m \u001b[43mchain_js_ds\u001b[49m\u001b[38;5;241;43m.\u001b[39;49m\u001b[43minvoke\u001b[49m\u001b[43m(\u001b[49m\u001b[38;5;124;43m\"\u001b[39;49m\u001b[38;5;124;43mmy skills are Machine Learning, Deep Learning and Python\u001b[39;49m\u001b[38;5;124;43m\"\u001b[39;49m\u001b[43m)\u001b[49m\n",
      "File \u001b[1;32mc:\\project\\Talent_transformation_tool\\RAGENV\\Lib\\site-packages\\langchain_core\\runnables\\base.py:2499\u001b[0m, in \u001b[0;36mRunnableSequence.invoke\u001b[1;34m(self, input, config)\u001b[0m\n\u001b[0;32m   2497\u001b[0m \u001b[38;5;28;01mtry\u001b[39;00m:\n\u001b[0;32m   2498\u001b[0m     \u001b[38;5;28;01mfor\u001b[39;00m i, step \u001b[38;5;129;01min\u001b[39;00m \u001b[38;5;28menumerate\u001b[39m(\u001b[38;5;28mself\u001b[39m\u001b[38;5;241m.\u001b[39msteps):\n\u001b[1;32m-> 2499\u001b[0m         \u001b[38;5;28minput\u001b[39m \u001b[38;5;241m=\u001b[39m \u001b[43mstep\u001b[49m\u001b[38;5;241;43m.\u001b[39;49m\u001b[43minvoke\u001b[49m\u001b[43m(\u001b[49m\n\u001b[0;32m   2500\u001b[0m \u001b[43m            \u001b[49m\u001b[38;5;28;43minput\u001b[39;49m\u001b[43m,\u001b[49m\n\u001b[0;32m   2501\u001b[0m \u001b[43m            \u001b[49m\u001b[38;5;66;43;03m# mark each step as a child run\u001b[39;49;00m\n\u001b[0;32m   2502\u001b[0m \u001b[43m            \u001b[49m\u001b[43mpatch_config\u001b[49m\u001b[43m(\u001b[49m\n\u001b[0;32m   2503\u001b[0m \u001b[43m                \u001b[49m\u001b[43mconfig\u001b[49m\u001b[43m,\u001b[49m\u001b[43m \u001b[49m\u001b[43mcallbacks\u001b[49m\u001b[38;5;241;43m=\u001b[39;49m\u001b[43mrun_manager\u001b[49m\u001b[38;5;241;43m.\u001b[39;49m\u001b[43mget_child\u001b[49m\u001b[43m(\u001b[49m\u001b[38;5;124;43mf\u001b[39;49m\u001b[38;5;124;43m\"\u001b[39;49m\u001b[38;5;124;43mseq:step:\u001b[39;49m\u001b[38;5;132;43;01m{\u001b[39;49;00m\u001b[43mi\u001b[49m\u001b[38;5;241;43m+\u001b[39;49m\u001b[38;5;241;43m1\u001b[39;49m\u001b[38;5;132;43;01m}\u001b[39;49;00m\u001b[38;5;124;43m\"\u001b[39;49m\u001b[43m)\u001b[49m\n\u001b[0;32m   2504\u001b[0m \u001b[43m            \u001b[49m\u001b[43m)\u001b[49m\u001b[43m,\u001b[49m\n\u001b[0;32m   2505\u001b[0m \u001b[43m        \u001b[49m\u001b[43m)\u001b[49m\n\u001b[0;32m   2506\u001b[0m \u001b[38;5;66;03m# finish the root run\u001b[39;00m\n\u001b[0;32m   2507\u001b[0m \u001b[38;5;28;01mexcept\u001b[39;00m \u001b[38;5;167;01mBaseException\u001b[39;00m \u001b[38;5;28;01mas\u001b[39;00m e:\n",
      "File \u001b[1;32mc:\\project\\Talent_transformation_tool\\RAGENV\\Lib\\site-packages\\langchain_core\\output_parsers\\base.py:178\u001b[0m, in \u001b[0;36mBaseOutputParser.invoke\u001b[1;34m(self, input, config)\u001b[0m\n\u001b[0;32m    169\u001b[0m     \u001b[38;5;28;01mreturn\u001b[39;00m \u001b[38;5;28mself\u001b[39m\u001b[38;5;241m.\u001b[39m_call_with_config(\n\u001b[0;32m    170\u001b[0m         \u001b[38;5;28;01mlambda\u001b[39;00m inner_input: \u001b[38;5;28mself\u001b[39m\u001b[38;5;241m.\u001b[39mparse_result(\n\u001b[0;32m    171\u001b[0m             [ChatGeneration(message\u001b[38;5;241m=\u001b[39minner_input)]\n\u001b[1;32m   (...)\u001b[0m\n\u001b[0;32m    175\u001b[0m         run_type\u001b[38;5;241m=\u001b[39m\u001b[38;5;124m\"\u001b[39m\u001b[38;5;124mparser\u001b[39m\u001b[38;5;124m\"\u001b[39m,\n\u001b[0;32m    176\u001b[0m     )\n\u001b[0;32m    177\u001b[0m \u001b[38;5;28;01melse\u001b[39;00m:\n\u001b[1;32m--> 178\u001b[0m     \u001b[38;5;28;01mreturn\u001b[39;00m \u001b[38;5;28;43mself\u001b[39;49m\u001b[38;5;241;43m.\u001b[39;49m\u001b[43m_call_with_config\u001b[49m\u001b[43m(\u001b[49m\n\u001b[0;32m    179\u001b[0m \u001b[43m        \u001b[49m\u001b[38;5;28;43;01mlambda\u001b[39;49;00m\u001b[43m \u001b[49m\u001b[43minner_input\u001b[49m\u001b[43m:\u001b[49m\u001b[43m \u001b[49m\u001b[38;5;28;43mself\u001b[39;49m\u001b[38;5;241;43m.\u001b[39;49m\u001b[43mparse_result\u001b[49m\u001b[43m(\u001b[49m\u001b[43m[\u001b[49m\u001b[43mGeneration\u001b[49m\u001b[43m(\u001b[49m\u001b[43mtext\u001b[49m\u001b[38;5;241;43m=\u001b[39;49m\u001b[43minner_input\u001b[49m\u001b[43m)\u001b[49m\u001b[43m]\u001b[49m\u001b[43m)\u001b[49m\u001b[43m,\u001b[49m\n\u001b[0;32m    180\u001b[0m \u001b[43m        \u001b[49m\u001b[38;5;28;43minput\u001b[39;49m\u001b[43m,\u001b[49m\n\u001b[0;32m    181\u001b[0m \u001b[43m        \u001b[49m\u001b[43mconfig\u001b[49m\u001b[43m,\u001b[49m\n\u001b[0;32m    182\u001b[0m \u001b[43m        \u001b[49m\u001b[43mrun_type\u001b[49m\u001b[38;5;241;43m=\u001b[39;49m\u001b[38;5;124;43m\"\u001b[39;49m\u001b[38;5;124;43mparser\u001b[39;49m\u001b[38;5;124;43m\"\u001b[39;49m\u001b[43m,\u001b[49m\n\u001b[0;32m    183\u001b[0m \u001b[43m    \u001b[49m\u001b[43m)\u001b[49m\n",
      "File \u001b[1;32mc:\\project\\Talent_transformation_tool\\RAGENV\\Lib\\site-packages\\langchain_core\\runnables\\base.py:1625\u001b[0m, in \u001b[0;36mRunnable._call_with_config\u001b[1;34m(self, func, input, config, run_type, **kwargs)\u001b[0m\n\u001b[0;32m   1621\u001b[0m     context \u001b[38;5;241m=\u001b[39m copy_context()\n\u001b[0;32m   1622\u001b[0m     context\u001b[38;5;241m.\u001b[39mrun(var_child_runnable_config\u001b[38;5;241m.\u001b[39mset, child_config)\n\u001b[0;32m   1623\u001b[0m     output \u001b[38;5;241m=\u001b[39m cast(\n\u001b[0;32m   1624\u001b[0m         Output,\n\u001b[1;32m-> 1625\u001b[0m         \u001b[43mcontext\u001b[49m\u001b[38;5;241;43m.\u001b[39;49m\u001b[43mrun\u001b[49m\u001b[43m(\u001b[49m\n\u001b[0;32m   1626\u001b[0m \u001b[43m            \u001b[49m\u001b[43mcall_func_with_variable_args\u001b[49m\u001b[43m,\u001b[49m\u001b[43m  \u001b[49m\u001b[38;5;66;43;03m# type: ignore[arg-type]\u001b[39;49;00m\n\u001b[0;32m   1627\u001b[0m \u001b[43m            \u001b[49m\u001b[43mfunc\u001b[49m\u001b[43m,\u001b[49m\u001b[43m  \u001b[49m\u001b[38;5;66;43;03m# type: ignore[arg-type]\u001b[39;49;00m\n\u001b[0;32m   1628\u001b[0m \u001b[43m            \u001b[49m\u001b[38;5;28;43minput\u001b[39;49m\u001b[43m,\u001b[49m\u001b[43m  \u001b[49m\u001b[38;5;66;43;03m# type: ignore[arg-type]\u001b[39;49;00m\n\u001b[0;32m   1629\u001b[0m \u001b[43m            \u001b[49m\u001b[43mconfig\u001b[49m\u001b[43m,\u001b[49m\n\u001b[0;32m   1630\u001b[0m \u001b[43m            \u001b[49m\u001b[43mrun_manager\u001b[49m\u001b[43m,\u001b[49m\n\u001b[0;32m   1631\u001b[0m \u001b[43m            \u001b[49m\u001b[38;5;241;43m*\u001b[39;49m\u001b[38;5;241;43m*\u001b[39;49m\u001b[43mkwargs\u001b[49m\u001b[43m,\u001b[49m\n\u001b[0;32m   1632\u001b[0m \u001b[43m        \u001b[49m\u001b[43m)\u001b[49m,\n\u001b[0;32m   1633\u001b[0m     )\n\u001b[0;32m   1634\u001b[0m \u001b[38;5;28;01mexcept\u001b[39;00m \u001b[38;5;167;01mBaseException\u001b[39;00m \u001b[38;5;28;01mas\u001b[39;00m e:\n\u001b[0;32m   1635\u001b[0m     run_manager\u001b[38;5;241m.\u001b[39mon_chain_error(e)\n",
      "File \u001b[1;32mc:\\project\\Talent_transformation_tool\\RAGENV\\Lib\\site-packages\\langchain_core\\runnables\\config.py:347\u001b[0m, in \u001b[0;36mcall_func_with_variable_args\u001b[1;34m(func, input, config, run_manager, **kwargs)\u001b[0m\n\u001b[0;32m    345\u001b[0m \u001b[38;5;28;01mif\u001b[39;00m run_manager \u001b[38;5;129;01mis\u001b[39;00m \u001b[38;5;129;01mnot\u001b[39;00m \u001b[38;5;28;01mNone\u001b[39;00m \u001b[38;5;129;01mand\u001b[39;00m accepts_run_manager(func):\n\u001b[0;32m    346\u001b[0m     kwargs[\u001b[38;5;124m\"\u001b[39m\u001b[38;5;124mrun_manager\u001b[39m\u001b[38;5;124m\"\u001b[39m] \u001b[38;5;241m=\u001b[39m run_manager\n\u001b[1;32m--> 347\u001b[0m \u001b[38;5;28;01mreturn\u001b[39;00m \u001b[43mfunc\u001b[49m\u001b[43m(\u001b[49m\u001b[38;5;28;43minput\u001b[39;49m\u001b[43m,\u001b[49m\u001b[43m \u001b[49m\u001b[38;5;241;43m*\u001b[39;49m\u001b[38;5;241;43m*\u001b[39;49m\u001b[43mkwargs\u001b[49m\u001b[43m)\u001b[49m\n",
      "File \u001b[1;32mc:\\project\\Talent_transformation_tool\\RAGENV\\Lib\\site-packages\\langchain_core\\output_parsers\\base.py:179\u001b[0m, in \u001b[0;36mBaseOutputParser.invoke.<locals>.<lambda>\u001b[1;34m(inner_input)\u001b[0m\n\u001b[0;32m    169\u001b[0m     \u001b[38;5;28;01mreturn\u001b[39;00m \u001b[38;5;28mself\u001b[39m\u001b[38;5;241m.\u001b[39m_call_with_config(\n\u001b[0;32m    170\u001b[0m         \u001b[38;5;28;01mlambda\u001b[39;00m inner_input: \u001b[38;5;28mself\u001b[39m\u001b[38;5;241m.\u001b[39mparse_result(\n\u001b[0;32m    171\u001b[0m             [ChatGeneration(message\u001b[38;5;241m=\u001b[39minner_input)]\n\u001b[1;32m   (...)\u001b[0m\n\u001b[0;32m    175\u001b[0m         run_type\u001b[38;5;241m=\u001b[39m\u001b[38;5;124m\"\u001b[39m\u001b[38;5;124mparser\u001b[39m\u001b[38;5;124m\"\u001b[39m,\n\u001b[0;32m    176\u001b[0m     )\n\u001b[0;32m    177\u001b[0m \u001b[38;5;28;01melse\u001b[39;00m:\n\u001b[0;32m    178\u001b[0m     \u001b[38;5;28;01mreturn\u001b[39;00m \u001b[38;5;28mself\u001b[39m\u001b[38;5;241m.\u001b[39m_call_with_config(\n\u001b[1;32m--> 179\u001b[0m         \u001b[38;5;28;01mlambda\u001b[39;00m inner_input: \u001b[38;5;28;43mself\u001b[39;49m\u001b[38;5;241;43m.\u001b[39;49m\u001b[43mparse_result\u001b[49m\u001b[43m(\u001b[49m\u001b[43m[\u001b[49m\u001b[43mGeneration\u001b[49m\u001b[43m(\u001b[49m\u001b[43mtext\u001b[49m\u001b[38;5;241;43m=\u001b[39;49m\u001b[43minner_input\u001b[49m\u001b[43m)\u001b[49m\u001b[43m]\u001b[49m\u001b[43m)\u001b[49m,\n\u001b[0;32m    180\u001b[0m         \u001b[38;5;28minput\u001b[39m,\n\u001b[0;32m    181\u001b[0m         config,\n\u001b[0;32m    182\u001b[0m         run_type\u001b[38;5;241m=\u001b[39m\u001b[38;5;124m\"\u001b[39m\u001b[38;5;124mparser\u001b[39m\u001b[38;5;124m\"\u001b[39m,\n\u001b[0;32m    183\u001b[0m     )\n",
      "File \u001b[1;32mc:\\project\\Talent_transformation_tool\\RAGENV\\Lib\\site-packages\\langchain_core\\output_parsers\\json.py:69\u001b[0m, in \u001b[0;36mJsonOutputParser.parse_result\u001b[1;34m(self, result, partial)\u001b[0m\n\u001b[0;32m     67\u001b[0m \u001b[38;5;28;01mexcept\u001b[39;00m JSONDecodeError \u001b[38;5;28;01mas\u001b[39;00m e:\n\u001b[0;32m     68\u001b[0m     msg \u001b[38;5;241m=\u001b[39m \u001b[38;5;124mf\u001b[39m\u001b[38;5;124m\"\u001b[39m\u001b[38;5;124mInvalid json output: \u001b[39m\u001b[38;5;132;01m{\u001b[39;00mtext\u001b[38;5;132;01m}\u001b[39;00m\u001b[38;5;124m\"\u001b[39m\n\u001b[1;32m---> 69\u001b[0m     \u001b[38;5;28;01mraise\u001b[39;00m OutputParserException(msg, llm_output\u001b[38;5;241m=\u001b[39mtext) \u001b[38;5;28;01mfrom\u001b[39;00m \u001b[38;5;21;01me\u001b[39;00m\n",
      "\u001b[1;31mOutputParserException\u001b[0m: Invalid json output: Based on the provided context and your listed skills, I would recommend the following courses:\n\n1. The Complete Java Course 2024 - This course is a comprehensive introduction to Java programming, covering both theoretical and practical aspects of the language. As a Machine Learning and Deep Learning enthusiast, you may find this course helpful in understanding the basics of Java programming, which can be useful for implementing machine learning algorithms. The course has a rating of 4.7 out of 5 and includes 321 lectures, spanning 68.5 hours.\n2. Selenium WebDriver with Java - This course is designed to teach you the basics of Selenium WebDriver programming using Java. As a Python enthusiast, you may find this course helpful in learning how to automate web applications using Selenium. The course has a rating of 4.6 out of 5 and includes 335 lectures, spanning 55.5 hours.\n3. The Complete Python Bootcamp From Zero to Hero in Python - This course is an extensive introduction to the Python programming language, covering both theoretical and practical aspects of Python programming. As a beginner, you may find this course helpful in learning the basics of Python programming, which can be useful for implementing machine learning algorithms. The course has a rating of 4.6 out of 5 and includes 22 total hours of content.\n\nHere is the extracted data for each course:\n\n| Course Name | Course Link | Total Hours | Rating | Level |\n| --- | --- | --- | --- | --- |\n| The Complete Java Course 2024 | <https://www.udemy.com/course/the-complete-java-course/> | 68.5 | 4.7 | Expert |\n| Selenium WebDriver with Java | <https://www.udemy.com/course/selenium-real-time-examplesinterview-questions/> | 55.5 | 4.6 | All Levels |\n| The Complete Python Bootcamp From Zero to Hero in Python | <https://www.udemy.com/course/complete-python-bootcamp/> | 22 | 4.6 | All Levels |\n\nI hope this helps you find the right course for your learning needs!"
     ]
    }
   ],
   "source": [
    "chain_js_ds.invoke(\"my skills are Machine Learning, Deep Learning and Python\")"
   ]
  },
  {
   "cell_type": "code",
   "execution_count": null,
   "metadata": {},
   "outputs": [],
   "source": []
  }
 ],
 "metadata": {
  "kernelspec": {
   "display_name": "RAGENV",
   "language": "python",
   "name": "python3"
  },
  "language_info": {
   "codemirror_mode": {
    "name": "ipython",
    "version": 3
   },
   "file_extension": ".py",
   "mimetype": "text/x-python",
   "name": "python",
   "nbconvert_exporter": "python",
   "pygments_lexer": "ipython3",
   "version": "3.12.2"
  }
 },
 "nbformat": 4,
 "nbformat_minor": 2
}
