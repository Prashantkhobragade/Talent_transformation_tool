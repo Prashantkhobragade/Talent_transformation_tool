{
 "cells": [
  {
   "cell_type": "code",
   "execution_count": 17,
   "metadata": {},
   "outputs": [
    {
     "data": {
      "text/plain": [
       "[Document(page_content='Link: https://www.udemy.com/course/complete-python-bootcamp/\\nCourse Name: The Complete Python Bootcamp From Zero to Hero in Python\\ntotal hours: 22.0\\nrating: 4.6\\nlevel: All Levels', metadata={'source': 'final_output02.csv', 'row': 0}),\n",
       " Document(page_content='Link: https://www.udemy.com/course/the-complete-web-development-bootcamp/\\nCourse Name: The Complete 2024 Web Development Bootcamp\\ntotal hours: 61.5\\nrating: 4.7\\nlevel: All Levels', metadata={'source': 'final_output02.csv', 'row': 1}),\n",
       " Document(page_content='Link: https://www.udemy.com/course/100-days-of-code/\\nCourse Name: 100 Days of Code: The Complete Python Pro Bootcamp\\ntotal hours: 58.5\\nrating: 4.7\\nlevel: All Levels', metadata={'source': 'final_output02.csv', 'row': 2}),\n",
       " Document(page_content='Link: https://www.udemy.com/udemy-business/request-demo-in-mx/?ref=right-rail&locale=en_US\\nCourse Name: Try Udemy Business\\ntotal hours: \\nrating: \\nlevel: ', metadata={'source': 'final_output02.csv', 'row': 3}),\n",
       " Document(page_content='Link: https://www.udemy.com/course/the-web-developer-bootcamp/\\nCourse Name: The Web Developer Bootcamp 202410 Hours of React just added. Become a Developer With O\\ntotal hours: 74.0\\nrating: 4.7\\nlevel: All Levels', metadata={'source': 'final_output02.csv', 'row': 4}),\n",
       " Document(page_content='Link: https://www.udemy.com/course/react-the-complete-guide-incl-redux/\\nCourse Name: React - The Complete Guide 2024 (incl. React Router & Redux)\\ntotal hours: 68.5\\nrating: 4.6\\nlevel: All Levels', metadata={'source': 'final_output02.csv', 'row': 5}),\n",
       " Document(page_content='Link: https://www.udemy.com/course/the-complete-javascript-course/\\nCourse Name: The Complete Java\\ntotal hours: 68.5\\nrating: 4.7\\nlevel: Expert', metadata={'source': 'final_output02.csv', 'row': 6}),\n",
       " Document(page_content='Link: https://www.udemy.com/course/the-complete-guide-to-angular-2/\\nCourse Name: Angular - The Complete Guide (2024 Edition)\\ntotal hours: 36.5\\nrating: 4.6\\nlevel: All Levels', metadata={'source': 'final_output02.csv', 'row': 7}),\n",
       " Document(page_content='Link: https://www.udemy.com/course/java-the-complete-java-developer-course/\\nCourse Name: Java 17 Masterclass: Start Coding in 2024\\ntotal hours: 138.5\\nrating: 4.6\\nlevel: All Levels', metadata={'source': 'final_output02.csv', 'row': 8}),\n",
       " Document(page_content='Link: https://www.udemy.com/course/machinelearning/\\nCourse Name: Machine Learning A-\\ntotal hours: 43.0\\nrating: 4.5\\nlevel: All Levels', metadata={'source': 'final_output02.csv', 'row': 9}),\n",
       " Document(page_content='Link: https://www.udemy.com/course/python-for-data-science-and-machine-learning-bootcamp/\\nCourse Name: Python for Data Science and Machine Learning Bootcamp\\ntotal hours: 25.0\\nrating: 4.6\\nlevel: All Levels', metadata={'source': 'final_output02.csv', 'row': 10}),\n",
       " Document(page_content='Link: https://www.udemy.com/course/the-data-science-course-complete-data-science-bootcamp/\\nCourse Name: The Data Science Course: Complete Data Science Bootcamp 2024\\ntotal hours: 32.0\\nrating: 4.6\\nlevel: All Levels', metadata={'source': 'final_output02.csv', 'row': 11}),\n",
       " Document(page_content='Link: https://www.udemy.com/course/selenium-real-time-examplesinterview-questions/\\nCourse Name: Selenium Web\\ntotal hours: 55.5\\nrating: 4.6\\nlevel: All Levels', metadata={'source': 'final_output02.csv', 'row': 12}),\n",
       " Document(page_content='Link: https://www.udemy.com/course/automate/\\nCourse Name: Automate the Boring Stuff with Python Programming\\ntotal hours: 9.5\\nrating: 4.6\\nlevel: All Levels', metadata={'source': 'final_output02.csv', 'row': 13}),\n",
       " Document(page_content='Link: https://www.udemy.com/course/design-and-develop-a-killer-website-with-html5-and-css3/\\nCourse Name: Build Responsive Real-\\ntotal hours: 37.5\\nrating: 4.8\\nlevel: All Levels', metadata={'source': 'final_output02.csv', 'row': 14}),\n",
       " Document(page_content='Link: https://www.udemy.com/course/unitycourse/\\nCourse Name: Complete C# Unity Game Developer 2\\ntotal hours: 18.5\\nrating: 4.7\\nlevel: All Levels', metadata={'source': 'final_output02.csv', 'row': 15}),\n",
       " Document(page_content='Link: https://www.udemy.com/course/python-the-complete-python-developer-course/\\nCourse Name: Learn Python Programming Masterclass\\ntotal hours: 64.0\\nrating: 4.6\\nlevel: Beginner', metadata={'source': 'final_output02.csv', 'row': 16}),\n",
       " Document(page_content='Link: https://www.udemy.com/course/the-ultimate-mysql-bootcamp-go-from-sql-beginner-to-expert/\\nCourse Name: The Ultimate My\\ntotal hours: 21.5\\nrating: 4.6\\nlevel: Beginner', metadata={'source': 'final_output02.csv', 'row': 17}),\n",
       " Document(page_content='Link: https://www.udemy.com/course/ios-13-app-development-bootcamp/\\nCourse Name: i\\ntotal hours: 60.5\\nrating: 4.7\\nlevel: Beginner', metadata={'source': 'final_output02.csv', 'row': 18}),\n",
       " Document(page_content='Link: https://www.udemy.com/course/react-redux/\\nCourse Name: Modern React with Redux [2024 Update]\\ntotal hours: 76.0\\nrating: 4.7\\nlevel: All Levels', metadata={'source': 'final_output02.csv', 'row': 19}),\n",
       " Document(page_content='Link: https://www.udemy.com/course/spring-hibernate-tutorial/\\nCourse Name: [\\ntotal hours: 34.0\\nrating: 4.6\\nlevel: Beginner', metadata={'source': 'final_output02.csv', 'row': 20}),\n",
       " Document(page_content='Link: https://www.udemy.com/course/learn-flutter-dart-to-build-ios-android-apps/\\nCourse Name: Flutter & Dart - The Complete Guide [2024 Edition]\\ntotal hours: 30.0\\nrating: 4.6\\nlevel: All Levels', metadata={'source': 'final_output02.csv', 'row': 21}),\n",
       " Document(page_content='Link: https://www.udemy.com/course/the-complete-web-developer-course-2/\\nCourse Name: The Complete Web Developer Course 3.0\\ntotal hours: 31.0\\nrating: 4.6\\nlevel: All Levels', metadata={'source': 'final_output02.csv', 'row': 22}),\n",
       " Document(page_content='Link: https://www.udemy.com/course/the-complete-nodejs-developer-course-2/\\nCourse Name: The Complete Node.js Developer Course (3rd Edition)\\ntotal hours: 35.0\\nrating: 4.5\\nlevel: All Levels', metadata={'source': 'final_output02.csv', 'row': 23}),\n",
       " Document(page_content='Link: https://www.udemy.com/course/unrealcourse/\\nCourse Name: Unreal Engine 5 C++ Developer: Learn C++ & Make Video Games\\ntotal hours: 29.5\\nrating: 4.7\\nlevel: All Levels', metadata={'source': 'final_output02.csv', 'row': 24}),\n",
       " Document(page_content='Link: https://www.udemy.com/course/csharp-tutorial-for-beginners/\\nCourse Name: C# Basics for Beginners: Learn C# Fundamentals by Coding\\ntotal hours: 5.5\\nrating: 4.5\\nlevel: Beginner', metadata={'source': 'final_output02.csv', 'row': 25}),\n",
       " Document(page_content='Link: https://www.udemy.com/course/beginning-c-plus-plus-programming/\\nCourse Name: Beginning C++ Programming - From Beginner to Beyond\\ntotal hours: 46.0\\nrating: 4.6\\nlevel: Beginner', metadata={'source': 'final_output02.csv', 'row': 26}),\n",
       " Document(page_content='Link: https://www.udemy.com/course/the-python-mega-course/\\nCourse Name: Python Mega Course: Learn Python in 60 Days, Build 20 Apps\\ntotal hours: 52.0\\nrating: 4.6\\nlevel: All Levels', metadata={'source': 'final_output02.csv', 'row': 27}),\n",
       " Document(page_content='Link: https://www.udemy.com/course/vuejs-2-the-complete-guide/\\nCourse Name: Vue - The Complete Guide (incl. Router & Composition A\\ntotal hours: 32.0\\nrating: 4.8\\nlevel: All Levels', metadata={'source': 'final_output02.csv', 'row': 28}),\n",
       " Document(page_content='Link: https://www.udemy.com/course/docker-mastery/\\nCourse Name: Docker Mastery: with Kubernetes +\\ntotal hours: 21.5\\nrating: 4.6\\nlevel: All Levels', metadata={'source': 'final_output02.csv', 'row': 29}),\n",
       " Document(page_content='Link: https://www.udemy.com/course/docker-and-kubernetes-the-complete-guide/\\nCourse Name: Docker and Kubernetes: The Complete Guide\\ntotal hours: 21.5\\nrating: 4.6\\nlevel: All Levels', metadata={'source': 'final_output02.csv', 'row': 30}),\n",
       " Document(page_content='Link: https://www.udemy.com/course/complete-python-developer-zero-to-mastery/\\nCourse Name: The Complete Python Developer\\ntotal hours: 31.0\\nrating: 4.6\\nlevel: All Levels', metadata={'source': 'final_output02.csv', 'row': 31}),\n",
       " Document(page_content='Link: https://www.udemy.com/course/r-programming/\\nCourse Name: R Programming A-\\ntotal hours: 10.5\\nrating: 4.6\\nlevel: All Levels', metadata={'source': 'final_output02.csv', 'row': 32}),\n",
       " Document(page_content='Link: https://www.udemy.com/course/flutter-bootcamp-with-dart/\\nCourse Name: The Complete Flutter Development Bootcamp with Dart\\ntotal hours: 29.0\\nrating: 4.5\\nlevel: All Levels', metadata={'source': 'final_output02.csv', 'row': 33}),\n",
       " Document(page_content='Link: https://www.udemy.com/course/sql-for-beginners-course/\\nCourse Name: S\\ntotal hours: 8.5\\nrating: 4.6\\nlevel: Beginner', metadata={'source': 'final_output02.csv', 'row': 34}),\n",
       " Document(page_content='Link: https://www.udemy.com/course/the-python-bible/\\nCourse Name: The Python Bibleâ„¢ | Everything You Need to Program in Python\\ntotal hours: 9.0\\nrating: 4.6\\nlevel: Beginner', metadata={'source': 'final_output02.csv', 'row': 35}),\n",
       " Document(page_content='Link: https://www.udemy.com/course/microservices-with-spring-boot-and-spring-cloud/\\nCourse Name: Master Microservices with Spring Boot and Spring Cloud\\ntotal hours: 25.0\\nrating: 4.6\\nlevel: All Levels', metadata={'source': 'final_output02.csv', 'row': 36}),\n",
       " Document(page_content='Link: https://www.udemy.com/course/python-and-django-full-stack-web-developer-bootcamp/\\nCourse Name: Python and Django Full Stack Web Developer Bootcamp\\ntotal hours: 32.0\\nrating: 4.4\\nlevel: All Levels', metadata={'source': 'final_output02.csv', 'row': 37}),\n",
       " Document(page_content='Link: https://www.udemy.com/course/understanding-typescript/\\nCourse Name: Understanding Type\\ntotal hours: 15.0\\nrating: 4.7\\nlevel: All Levels', metadata={'source': 'final_output02.csv', 'row': 38}),\n",
       " Document(page_content='Link: https://www.udemy.com/course/understand-javascript/\\nCourse Name: Java\\ntotal hours: 12.0\\nrating: 4.7\\nlevel: All Levels', metadata={'source': 'final_output02.csv', 'row': 39}),\n",
       " Document(page_content='Link: https://www.udemy.com/course/datastructurescncpp/\\nCourse Name: Mastering Data Structures & Algorithms using C and C++\\ntotal hours: 58.5\\nrating: 4.6\\nlevel: All Levels', metadata={'source': 'final_output02.csv', 'row': 40}),\n",
       " Document(page_content='Link: https://www.udemy.com/course/nodejs-the-complete-guide/\\nCourse Name: Node\\ntotal hours: 40.5\\nrating: 4.6\\nlevel: All Levels', metadata={'source': 'final_output02.csv', 'row': 41}),\n",
       " Document(page_content='Link: https://www.udemy.com/course/deeplearning/\\nCourse Name: Deep Learning A-\\ntotal hours: 23.0\\nrating: 4.5\\nlevel: All Levels', metadata={'source': 'final_output02.csv', 'row': 42}),\n",
       " Document(page_content='Link: https://www.udemy.com/course/the-complete-react-native-and-redux-course/\\nCourse Name: The Complete React Native + Hooks Course\\ntotal hours: 38.5\\nrating: 4.5\\nlevel: All Levels', metadata={'source': 'final_output02.csv', 'row': 43}),\n",
       " Document(page_content='Link: https://www.udemy.com/course/apache-kafka/\\nCourse Name: Apache Kafka Series - Learn Apache Kafka for Beginners v3\\ntotal hours: 8.5\\nrating: 4.7\\nlevel: Beginner', metadata={'source': 'final_output02.csv', 'row': 44}),\n",
       " Document(page_content='Link: https://www.udemy.com/course/advanced-css-and-sass/\\nCourse Name: Advanced C\\ntotal hours: 28.0\\nrating: 4.8\\nlevel: Intermediate', metadata={'source': 'final_output02.csv', 'row': 45}),\n",
       " Document(page_content='Link: https://www.udemy.com/course/python-programming-projects/\\nCourse Name: Python for Beginners: Learn Python Programming (\\ntotal hours: 3.0\\nrating: 4.5\\nlevel: Beginner', metadata={'source': 'final_output02.csv', 'row': 46}),\n",
       " Document(page_content='Link: https://www.udemy.com/course/java-programming-tutorial-for-beginners/\\nCourse Name: Java Programming for Complete Beginners\\ntotal hours: 41.5\\nrating: 4.6\\nlevel: Beginner', metadata={'source': 'final_output02.csv', 'row': 47}),\n",
       " Document(page_content='Link: https://www.udemy.com/course/statistics-for-data-science-and-business-analysis/\\nCourse Name: Statistics for Data Science and Business Analysis\\ntotal hours: 5.0\\nrating: 4.6\\nlevel: All Levels', metadata={'source': 'final_output02.csv', 'row': 48}),\n",
       " Document(page_content='Link: https://www.udemy.com/course/unitycourse2/\\nCourse Name: Complete C# Unity Game Developer 3\\ntotal hours: 30.5\\nrating: 4.7\\nlevel: All Levels', metadata={'source': 'final_output02.csv', 'row': 49})]"
      ]
     },
     "execution_count": 17,
     "metadata": {},
     "output_type": "execute_result"
    }
   ],
   "source": [
    "from langchain_community.document_loaders import CSVLoader\n",
    "\n",
    "loader = CSVLoader(\"final_output02.csv\")\n",
    "docs = loader.load()\n",
    "docs"
   ]
  },
  {
   "cell_type": "code",
   "execution_count": 18,
   "metadata": {},
   "outputs": [],
   "source": [
    "from langchain.text_splitter import RecursiveCharacterTextSplitter\n",
    "\n",
    "text_splitter = RecursiveCharacterTextSplitter(chunk_size = 500, chunk_overlap = 10)\n",
    "documents = text_splitter.split_documents(docs)"
   ]
  },
  {
   "cell_type": "code",
   "execution_count": 19,
   "metadata": {},
   "outputs": [],
   "source": [
    "from langchain_community.embeddings import OllamaEmbeddings\n",
    "from langchain_community.vectorstores import FAISS"
   ]
  },
  {
   "cell_type": "code",
   "execution_count": 20,
   "metadata": {},
   "outputs": [],
   "source": [
    "db = FAISS.from_documents(documents, OllamaEmbeddings())"
   ]
  },
  {
   "cell_type": "code",
   "execution_count": 21,
   "metadata": {},
   "outputs": [
    {
     "data": {
      "text/plain": [
       "<langchain_community.vectorstores.faiss.FAISS at 0x2c3ceca3d10>"
      ]
     },
     "execution_count": 21,
     "metadata": {},
     "output_type": "execute_result"
    }
   ],
   "source": [
    "db"
   ]
  },
  {
   "cell_type": "code",
   "execution_count": 22,
   "metadata": {},
   "outputs": [
    {
     "data": {
      "text/plain": [
       "Ollama()"
      ]
     },
     "execution_count": 22,
     "metadata": {},
     "output_type": "execute_result"
    }
   ],
   "source": [
    "from langchain_community.llms import Ollama\n",
    "\n",
    "llm = Ollama(model= \"llama2\")\n",
    "llm"
   ]
  },
  {
   "cell_type": "code",
   "execution_count": 38,
   "metadata": {},
   "outputs": [],
   "source": [
    "#chat prompt\n",
    "\n",
    "from langchain_core.prompts import ChatPromptTemplate\n",
    "\n",
    "\n",
    "\n",
    "prompt_json= ChatPromptTemplate.from_template(\n",
    "    \"\"\"  Act as a helpful Talent Transformation assistant and suggest the best courses to take based on the \n",
    "    provided context and skills. Additionally, provide the course link and total hours in JSON format. \n",
    "    Take your time to think step by step before providing any answer. \n",
    "    If there is a course suggestion, extract it as JSON with the following keys:\n",
    "        - \"Course Name\": Name of the course.\n",
    "        - \"Course Link\" : Link of the course.\n",
    "        - \"Total Hours\": Total hours of the course.\n",
    "    \n",
    "    Strickly follow the context.\n",
    "    <context>\n",
    "    {context}\n",
    "    <context>\n",
    "\n",
    "    skills : {input}\n",
    "\"\"\"\n",
    ")"
   ]
  },
  {
   "cell_type": "code",
   "execution_count": 25,
   "metadata": {},
   "outputs": [],
   "source": [
    "#retriever\n",
    "\n",
    "retriever = db.as_retriever()"
   ]
  },
  {
   "cell_type": "code",
   "execution_count": 26,
   "metadata": {},
   "outputs": [],
   "source": [
    "from langchain_core.runnables import RunnableParallel, RunnablePassthrough\n",
    "\n",
    "setup = RunnableParallel(context=retriever, input = RunnablePassthrough())"
   ]
  },
  {
   "cell_type": "code",
   "execution_count": 27,
   "metadata": {},
   "outputs": [],
   "source": [
    "from langchain_core.output_parsers import JsonOutputParser\n",
    "\n",
    "parser_js = JsonOutputParser()"
   ]
  },
  {
   "cell_type": "code",
   "execution_count": 40,
   "metadata": {},
   "outputs": [],
   "source": [
    "chain_js = setup | prompt_json | llm "
   ]
  },
  {
   "cell_type": "code",
   "execution_count": 41,
   "metadata": {},
   "outputs": [
    {
     "data": {
      "text/plain": [
       "'Based on the provided context and your skills in Python and JavaScript, I would suggest the following courses:\\n\\n1. Vue - The Complete Guide (incl. Router & Composition): This course is a comprehensive guide to Vue.js, covering both the fundamentals and advanced topics such as routing and composition. As a beginner-level developer, this course will provide you with a solid understanding of Vue.js and help you build complex applications. Total hours: 32.0 | Rating: 4.8 | Level: All Levels\\n\\nCourse Link: <https://www.udemy.com/course/vuejs-2-the-complete-guide/>\\n\\n2. Python for Beginners: Learn Python Programming: This course is designed to teach beginners the basics of Python programming. It covers topics such as data types, functions, and file input/output. As a Python developer, this course will help you brush up on your fundamentals and improve your problem-solving skills. Total hours: 3.0 | Rating: 4.5 | Level: Beginner\\n\\nCourse Link: <https://www.udemy.com/course/python-programming-projects/>\\n\\n1. Node.js - The Complete Guide: This course provides a comprehensive introduction to Node.js, covering both the fundamentals and advanced topics such as asynchronous programming and error handling. As a beginner-level developer, this course will provide you with a solid understanding of Node.js and help you build scalable and efficient applications. Total hours: 40.5 | Rating: 4.6 | Level: All Levels\\n\\nCourse Link: <https://www.udemy.com/course/nodejs-the-complete-guide/>\\n\\nHere\\'s the JSON format for each course:\\n\\nVue - The Complete Guide (incl. Router & Composition):\\n{\\n\"Course Name\": \"Vue - The Complete Guide (incl. Router & Composition)\",\\n\"Course Link\": \"<https://www.udemy.com/course/vuejs-2-the-complete-guide/>\",\\n\"Total Hours\": 32.0,\\n\"Rating\": 4.8,\\n\"Level\": \"All Levels\"\\n}\\n\\nPython for Beginners: Learn Python Programming:\\n{\\n\"Course Name\": \"Python for Beginners: Learn Python Programming\",\\n\"Course Link\": \"<https://www.udemy.com/course/python-programming-projects/>\",\\n\"Total Hours\": 3.0,\\n\"Rating\": 4.5,\\n\"Level\": \"Beginner\"\\n}\\n\\nNode.js - The Complete Guide:\\n{\\n\"Course Name\": \"Node.js - The Complete Guide\",\\n\"Course Link\": \"<https://www.udemy.com/course/nodejs-the-complete-guide/>\",\\n\"Total Hours\": 40.5,\\n\"Rating\": 4.6,\\n\"Level\": \"All Levels\"\\n}'"
      ]
     },
     "execution_count": 41,
     "metadata": {},
     "output_type": "execute_result"
    }
   ],
   "source": [
    "chain_js.invoke(\"my skills are python and javascript\")"
   ]
  },
  {
   "cell_type": "code",
   "execution_count": 32,
   "metadata": {},
   "outputs": [],
   "source": [
    "chain_js_01 = setup | prompt_json | llm "
   ]
  },
  {
   "cell_type": "code",
   "execution_count": 31,
   "metadata": {},
   "outputs": [
    {
     "data": {
      "text/plain": [
       "'Based on your input, I suggest the following courses to take based on your skills and context:\\n\\n1. Python for Beginners: Learn Python Programming - Udemy Course (Total hours: 3, Rating: 4.5, Level: Beginner)\\nThis course is a great starting point for beginners who want to learn Python programming. The course covers the basics of Python programming and provides practical exercises to help you solidify your knowledge. As someone with skills in Python, this course will help you improve your skills and expand your knowledge in the language.\\n\\nCourse Link: <https://www.udemy.com/course/python-programming-projects/>\\n\\n2. The Complete Java Course - Udemy Course (Total hours: 68.5, Rating: 4.7, Level: Expert)\\nWhile you may not have expert-level skills in Java yet, this course covers everything from the basics to advanced topics, providing a comprehensive learning experience. As someone with skills in Python, you\\'ll find many similarities between the two languages and can apply your knowledge to learn Java more efficiently.\\n\\nCourse Link: <https://www.udemy.com/course/the-complete-javascript-course/>\\n\\n3. SQL for Beginners Course - Udemy Course (Total hours: 8.5, Rating: 4.6, Level: Beginner)\\nAs you mentioned, you have skills in Python, and learning SQL can complement your existing skillset nicely. This course covers the basics of SQL programming and provides practical exercises to help you learn and apply your knowledge.\\n\\nCourse Link: <https://www.udemy.com/course/sql-for-beginners-course/>\\n\\nHere\\'s a JSON output with the course links, total hours, and rating:\\n```json\\n[\\n  {\\n    \"Course Name\": \"Python for Beginners: Learn Python Programming\",\\n    \"Course Link\": \"<https://www.udemy.com/course/python-programming-projects/>\",\\n    \"Total Hours\": 3,\\n    \"Rating\": 4.5\\n  },\\n  {\\n    \"Course Name\": \"The Complete Java Course\",\\n    \"Course Link\": \"<https://www.udemy.com/course/the-complete-javascript-course/>\",\\n    \"Total Hours\": 68.5,\\n    \"Rating\": 4.7\\n  },\\n  {\\n    \"Course Name\": \"SQL for Beginners Course\",\\n    \"Course Link\": \"<https://www.udemy.com/course/sql-for-beginners-course/>\",\\n    \"Total Hours\": 8.5,\\n    \"Rating\": 4.6\\n  }\\n]\\n```'"
      ]
     },
     "execution_count": 31,
     "metadata": {},
     "output_type": "execute_result"
    }
   ],
   "source": [
    "chain_js_01.invoke(\"my skill is python\")"
   ]
  },
  {
   "cell_type": "code",
   "execution_count": 36,
   "metadata": {},
   "outputs": [],
   "source": [
    "chain_js_02 = setup | prompt_json | llm | parser_js "
   ]
  },
  {
   "cell_type": "code",
   "execution_count": 37,
   "metadata": {},
   "outputs": [
    {
     "ename": "OutputParserException",
     "evalue": "Invalid json output: Based on the given context and your skill in Python, I would recommend the following courses:\n\n1. \"Python for Beginners: Learn Python Programming\" - This course is a great starting point for beginners, covering the basics of Python programming. It has a total of 3 hours of content and a rating of 4.5/5. Since you're looking to improve your Python skills, this course would be a good fit for you.\n\nCourse Link: <https://www.udemy.com/course/python-programming-projects/>\nTotal Hours: 3.0 hours\nRating: 4.5/5\nLevel: Beginner\n\n2. \"The Complete Java Course\" - This course is designed for beginners and covers the basics of Java programming. It has a total of 68.5 hours of content and a rating of 4.7/5. Since you're looking to improve your skills in Python, this course could still be beneficial as it covers fundamental programming concepts that are applicable across different languages.\n\nCourse Link: <https://www.udemy.com/course/the-complete-javascript-course/>\nTotal Hours: 68.5 hours\nRating: 4.7/5\nLevel: Expert\n\nHere's the course information in JSON format:\n{\n\"Course Name\": \"Python for Beginners: Learn Python Programming\",\n\"Course Link\": \"<https://www.udemy.com/course/python-programming-projects/>\",\n\"Total Hours\": 3.0,\n\"Rating\": 4.5,\n\"Level\": \"Beginner\"\n},\n{\n\"Course Name\": \"The Complete Java Course\",\n\"Course Link\": \"<https://www.udemy.com/course/the-complete-javascript-course/>\",\n\"Total Hours\": 68.5,\n\"Rating\": 4.7,\n\"Level\": \"Expert\"\n}\n\nI hope this helps you find the right course to improve your Python skills!",
     "output_type": "error",
     "traceback": [
      "\u001b[1;31m---------------------------------------------------------------------------\u001b[0m",
      "\u001b[1;31mJSONDecodeError\u001b[0m                           Traceback (most recent call last)",
      "File \u001b[1;32mc:\\project\\Talent_transformation_tool\\RAGENV\\Lib\\site-packages\\langchain_core\\output_parsers\\json.py:66\u001b[0m, in \u001b[0;36mJsonOutputParser.parse_result\u001b[1;34m(self, result, partial)\u001b[0m\n\u001b[0;32m     65\u001b[0m \u001b[38;5;28;01mtry\u001b[39;00m:\n\u001b[1;32m---> 66\u001b[0m     \u001b[38;5;28;01mreturn\u001b[39;00m \u001b[43mparse_json_markdown\u001b[49m\u001b[43m(\u001b[49m\u001b[43mtext\u001b[49m\u001b[43m)\u001b[49m\n\u001b[0;32m     67\u001b[0m \u001b[38;5;28;01mexcept\u001b[39;00m JSONDecodeError \u001b[38;5;28;01mas\u001b[39;00m e:\n",
      "File \u001b[1;32mc:\\project\\Talent_transformation_tool\\RAGENV\\Lib\\site-packages\\langchain_core\\utils\\json.py:147\u001b[0m, in \u001b[0;36mparse_json_markdown\u001b[1;34m(json_string, parser)\u001b[0m\n\u001b[0;32m    146\u001b[0m         json_str \u001b[38;5;241m=\u001b[39m match\u001b[38;5;241m.\u001b[39mgroup(\u001b[38;5;241m2\u001b[39m)\n\u001b[1;32m--> 147\u001b[0m \u001b[38;5;28;01mreturn\u001b[39;00m \u001b[43m_parse_json\u001b[49m\u001b[43m(\u001b[49m\u001b[43mjson_str\u001b[49m\u001b[43m,\u001b[49m\u001b[43m \u001b[49m\u001b[43mparser\u001b[49m\u001b[38;5;241;43m=\u001b[39;49m\u001b[43mparser\u001b[49m\u001b[43m)\u001b[49m\n",
      "File \u001b[1;32mc:\\project\\Talent_transformation_tool\\RAGENV\\Lib\\site-packages\\langchain_core\\utils\\json.py:160\u001b[0m, in \u001b[0;36m_parse_json\u001b[1;34m(json_str, parser)\u001b[0m\n\u001b[0;32m    159\u001b[0m \u001b[38;5;66;03m# Parse the JSON string into a Python dictionary\u001b[39;00m\n\u001b[1;32m--> 160\u001b[0m \u001b[38;5;28;01mreturn\u001b[39;00m \u001b[43mparser\u001b[49m\u001b[43m(\u001b[49m\u001b[43mjson_str\u001b[49m\u001b[43m)\u001b[49m\n",
      "File \u001b[1;32mc:\\project\\Talent_transformation_tool\\RAGENV\\Lib\\site-packages\\langchain_core\\utils\\json.py:120\u001b[0m, in \u001b[0;36mparse_partial_json\u001b[1;34m(s, strict)\u001b[0m\n\u001b[0;32m    117\u001b[0m \u001b[38;5;66;03m# If we got here, we ran out of characters to remove\u001b[39;00m\n\u001b[0;32m    118\u001b[0m \u001b[38;5;66;03m# and still couldn't parse the string as JSON, so return the parse error\u001b[39;00m\n\u001b[0;32m    119\u001b[0m \u001b[38;5;66;03m# for the original string.\u001b[39;00m\n\u001b[1;32m--> 120\u001b[0m \u001b[38;5;28;01mreturn\u001b[39;00m \u001b[43mjson\u001b[49m\u001b[38;5;241;43m.\u001b[39;49m\u001b[43mloads\u001b[49m\u001b[43m(\u001b[49m\u001b[43ms\u001b[49m\u001b[43m,\u001b[49m\u001b[43m \u001b[49m\u001b[43mstrict\u001b[49m\u001b[38;5;241;43m=\u001b[39;49m\u001b[43mstrict\u001b[49m\u001b[43m)\u001b[49m\n",
      "File \u001b[1;32m~\\AppData\\Local\\Programs\\Python\\Python312\\Lib\\json\\__init__.py:359\u001b[0m, in \u001b[0;36mloads\u001b[1;34m(s, cls, object_hook, parse_float, parse_int, parse_constant, object_pairs_hook, **kw)\u001b[0m\n\u001b[0;32m    358\u001b[0m     kw[\u001b[38;5;124m'\u001b[39m\u001b[38;5;124mparse_constant\u001b[39m\u001b[38;5;124m'\u001b[39m] \u001b[38;5;241m=\u001b[39m parse_constant\n\u001b[1;32m--> 359\u001b[0m \u001b[38;5;28;01mreturn\u001b[39;00m \u001b[38;5;28;43mcls\u001b[39;49m\u001b[43m(\u001b[49m\u001b[38;5;241;43m*\u001b[39;49m\u001b[38;5;241;43m*\u001b[39;49m\u001b[43mkw\u001b[49m\u001b[43m)\u001b[49m\u001b[38;5;241;43m.\u001b[39;49m\u001b[43mdecode\u001b[49m\u001b[43m(\u001b[49m\u001b[43ms\u001b[49m\u001b[43m)\u001b[49m\n",
      "File \u001b[1;32m~\\AppData\\Local\\Programs\\Python\\Python312\\Lib\\json\\decoder.py:337\u001b[0m, in \u001b[0;36mJSONDecoder.decode\u001b[1;34m(self, s, _w)\u001b[0m\n\u001b[0;32m    333\u001b[0m \u001b[38;5;250m\u001b[39m\u001b[38;5;124;03m\"\"\"Return the Python representation of ``s`` (a ``str`` instance\u001b[39;00m\n\u001b[0;32m    334\u001b[0m \u001b[38;5;124;03mcontaining a JSON document).\u001b[39;00m\n\u001b[0;32m    335\u001b[0m \n\u001b[0;32m    336\u001b[0m \u001b[38;5;124;03m\"\"\"\u001b[39;00m\n\u001b[1;32m--> 337\u001b[0m obj, end \u001b[38;5;241m=\u001b[39m \u001b[38;5;28;43mself\u001b[39;49m\u001b[38;5;241;43m.\u001b[39;49m\u001b[43mraw_decode\u001b[49m\u001b[43m(\u001b[49m\u001b[43ms\u001b[49m\u001b[43m,\u001b[49m\u001b[43m \u001b[49m\u001b[43midx\u001b[49m\u001b[38;5;241;43m=\u001b[39;49m\u001b[43m_w\u001b[49m\u001b[43m(\u001b[49m\u001b[43ms\u001b[49m\u001b[43m,\u001b[49m\u001b[43m \u001b[49m\u001b[38;5;241;43m0\u001b[39;49m\u001b[43m)\u001b[49m\u001b[38;5;241;43m.\u001b[39;49m\u001b[43mend\u001b[49m\u001b[43m(\u001b[49m\u001b[43m)\u001b[49m\u001b[43m)\u001b[49m\n\u001b[0;32m    338\u001b[0m end \u001b[38;5;241m=\u001b[39m _w(s, end)\u001b[38;5;241m.\u001b[39mend()\n",
      "File \u001b[1;32m~\\AppData\\Local\\Programs\\Python\\Python312\\Lib\\json\\decoder.py:355\u001b[0m, in \u001b[0;36mJSONDecoder.raw_decode\u001b[1;34m(self, s, idx)\u001b[0m\n\u001b[0;32m    354\u001b[0m \u001b[38;5;28;01mexcept\u001b[39;00m \u001b[38;5;167;01mStopIteration\u001b[39;00m \u001b[38;5;28;01mas\u001b[39;00m err:\n\u001b[1;32m--> 355\u001b[0m     \u001b[38;5;28;01mraise\u001b[39;00m JSONDecodeError(\u001b[38;5;124m\"\u001b[39m\u001b[38;5;124mExpecting value\u001b[39m\u001b[38;5;124m\"\u001b[39m, s, err\u001b[38;5;241m.\u001b[39mvalue) \u001b[38;5;28;01mfrom\u001b[39;00m \u001b[38;5;28;01mNone\u001b[39;00m\n\u001b[0;32m    356\u001b[0m \u001b[38;5;28;01mreturn\u001b[39;00m obj, end\n",
      "\u001b[1;31mJSONDecodeError\u001b[0m: Expecting value: line 1 column 1 (char 0)",
      "\nThe above exception was the direct cause of the following exception:\n",
      "\u001b[1;31mOutputParserException\u001b[0m                     Traceback (most recent call last)",
      "Cell \u001b[1;32mIn[37], line 1\u001b[0m\n\u001b[1;32m----> 1\u001b[0m \u001b[43mchain_js_02\u001b[49m\u001b[38;5;241;43m.\u001b[39;49m\u001b[43minvoke\u001b[49m\u001b[43m(\u001b[49m\u001b[38;5;124;43m\"\u001b[39;49m\u001b[38;5;124;43mmy skill is python\u001b[39;49m\u001b[38;5;124;43m\"\u001b[39;49m\u001b[43m)\u001b[49m\n",
      "File \u001b[1;32mc:\\project\\Talent_transformation_tool\\RAGENV\\Lib\\site-packages\\langchain_core\\runnables\\base.py:2499\u001b[0m, in \u001b[0;36mRunnableSequence.invoke\u001b[1;34m(self, input, config)\u001b[0m\n\u001b[0;32m   2497\u001b[0m \u001b[38;5;28;01mtry\u001b[39;00m:\n\u001b[0;32m   2498\u001b[0m     \u001b[38;5;28;01mfor\u001b[39;00m i, step \u001b[38;5;129;01min\u001b[39;00m \u001b[38;5;28menumerate\u001b[39m(\u001b[38;5;28mself\u001b[39m\u001b[38;5;241m.\u001b[39msteps):\n\u001b[1;32m-> 2499\u001b[0m         \u001b[38;5;28minput\u001b[39m \u001b[38;5;241m=\u001b[39m \u001b[43mstep\u001b[49m\u001b[38;5;241;43m.\u001b[39;49m\u001b[43minvoke\u001b[49m\u001b[43m(\u001b[49m\n\u001b[0;32m   2500\u001b[0m \u001b[43m            \u001b[49m\u001b[38;5;28;43minput\u001b[39;49m\u001b[43m,\u001b[49m\n\u001b[0;32m   2501\u001b[0m \u001b[43m            \u001b[49m\u001b[38;5;66;43;03m# mark each step as a child run\u001b[39;49;00m\n\u001b[0;32m   2502\u001b[0m \u001b[43m            \u001b[49m\u001b[43mpatch_config\u001b[49m\u001b[43m(\u001b[49m\n\u001b[0;32m   2503\u001b[0m \u001b[43m                \u001b[49m\u001b[43mconfig\u001b[49m\u001b[43m,\u001b[49m\u001b[43m \u001b[49m\u001b[43mcallbacks\u001b[49m\u001b[38;5;241;43m=\u001b[39;49m\u001b[43mrun_manager\u001b[49m\u001b[38;5;241;43m.\u001b[39;49m\u001b[43mget_child\u001b[49m\u001b[43m(\u001b[49m\u001b[38;5;124;43mf\u001b[39;49m\u001b[38;5;124;43m\"\u001b[39;49m\u001b[38;5;124;43mseq:step:\u001b[39;49m\u001b[38;5;132;43;01m{\u001b[39;49;00m\u001b[43mi\u001b[49m\u001b[38;5;241;43m+\u001b[39;49m\u001b[38;5;241;43m1\u001b[39;49m\u001b[38;5;132;43;01m}\u001b[39;49;00m\u001b[38;5;124;43m\"\u001b[39;49m\u001b[43m)\u001b[49m\n\u001b[0;32m   2504\u001b[0m \u001b[43m            \u001b[49m\u001b[43m)\u001b[49m\u001b[43m,\u001b[49m\n\u001b[0;32m   2505\u001b[0m \u001b[43m        \u001b[49m\u001b[43m)\u001b[49m\n\u001b[0;32m   2506\u001b[0m \u001b[38;5;66;03m# finish the root run\u001b[39;00m\n\u001b[0;32m   2507\u001b[0m \u001b[38;5;28;01mexcept\u001b[39;00m \u001b[38;5;167;01mBaseException\u001b[39;00m \u001b[38;5;28;01mas\u001b[39;00m e:\n",
      "File \u001b[1;32mc:\\project\\Talent_transformation_tool\\RAGENV\\Lib\\site-packages\\langchain_core\\output_parsers\\base.py:178\u001b[0m, in \u001b[0;36mBaseOutputParser.invoke\u001b[1;34m(self, input, config)\u001b[0m\n\u001b[0;32m    169\u001b[0m     \u001b[38;5;28;01mreturn\u001b[39;00m \u001b[38;5;28mself\u001b[39m\u001b[38;5;241m.\u001b[39m_call_with_config(\n\u001b[0;32m    170\u001b[0m         \u001b[38;5;28;01mlambda\u001b[39;00m inner_input: \u001b[38;5;28mself\u001b[39m\u001b[38;5;241m.\u001b[39mparse_result(\n\u001b[0;32m    171\u001b[0m             [ChatGeneration(message\u001b[38;5;241m=\u001b[39minner_input)]\n\u001b[1;32m   (...)\u001b[0m\n\u001b[0;32m    175\u001b[0m         run_type\u001b[38;5;241m=\u001b[39m\u001b[38;5;124m\"\u001b[39m\u001b[38;5;124mparser\u001b[39m\u001b[38;5;124m\"\u001b[39m,\n\u001b[0;32m    176\u001b[0m     )\n\u001b[0;32m    177\u001b[0m \u001b[38;5;28;01melse\u001b[39;00m:\n\u001b[1;32m--> 178\u001b[0m     \u001b[38;5;28;01mreturn\u001b[39;00m \u001b[38;5;28;43mself\u001b[39;49m\u001b[38;5;241;43m.\u001b[39;49m\u001b[43m_call_with_config\u001b[49m\u001b[43m(\u001b[49m\n\u001b[0;32m    179\u001b[0m \u001b[43m        \u001b[49m\u001b[38;5;28;43;01mlambda\u001b[39;49;00m\u001b[43m \u001b[49m\u001b[43minner_input\u001b[49m\u001b[43m:\u001b[49m\u001b[43m \u001b[49m\u001b[38;5;28;43mself\u001b[39;49m\u001b[38;5;241;43m.\u001b[39;49m\u001b[43mparse_result\u001b[49m\u001b[43m(\u001b[49m\u001b[43m[\u001b[49m\u001b[43mGeneration\u001b[49m\u001b[43m(\u001b[49m\u001b[43mtext\u001b[49m\u001b[38;5;241;43m=\u001b[39;49m\u001b[43minner_input\u001b[49m\u001b[43m)\u001b[49m\u001b[43m]\u001b[49m\u001b[43m)\u001b[49m\u001b[43m,\u001b[49m\n\u001b[0;32m    180\u001b[0m \u001b[43m        \u001b[49m\u001b[38;5;28;43minput\u001b[39;49m\u001b[43m,\u001b[49m\n\u001b[0;32m    181\u001b[0m \u001b[43m        \u001b[49m\u001b[43mconfig\u001b[49m\u001b[43m,\u001b[49m\n\u001b[0;32m    182\u001b[0m \u001b[43m        \u001b[49m\u001b[43mrun_type\u001b[49m\u001b[38;5;241;43m=\u001b[39;49m\u001b[38;5;124;43m\"\u001b[39;49m\u001b[38;5;124;43mparser\u001b[39;49m\u001b[38;5;124;43m\"\u001b[39;49m\u001b[43m,\u001b[49m\n\u001b[0;32m    183\u001b[0m \u001b[43m    \u001b[49m\u001b[43m)\u001b[49m\n",
      "File \u001b[1;32mc:\\project\\Talent_transformation_tool\\RAGENV\\Lib\\site-packages\\langchain_core\\runnables\\base.py:1625\u001b[0m, in \u001b[0;36mRunnable._call_with_config\u001b[1;34m(self, func, input, config, run_type, **kwargs)\u001b[0m\n\u001b[0;32m   1621\u001b[0m     context \u001b[38;5;241m=\u001b[39m copy_context()\n\u001b[0;32m   1622\u001b[0m     context\u001b[38;5;241m.\u001b[39mrun(var_child_runnable_config\u001b[38;5;241m.\u001b[39mset, child_config)\n\u001b[0;32m   1623\u001b[0m     output \u001b[38;5;241m=\u001b[39m cast(\n\u001b[0;32m   1624\u001b[0m         Output,\n\u001b[1;32m-> 1625\u001b[0m         \u001b[43mcontext\u001b[49m\u001b[38;5;241;43m.\u001b[39;49m\u001b[43mrun\u001b[49m\u001b[43m(\u001b[49m\n\u001b[0;32m   1626\u001b[0m \u001b[43m            \u001b[49m\u001b[43mcall_func_with_variable_args\u001b[49m\u001b[43m,\u001b[49m\u001b[43m  \u001b[49m\u001b[38;5;66;43;03m# type: ignore[arg-type]\u001b[39;49;00m\n\u001b[0;32m   1627\u001b[0m \u001b[43m            \u001b[49m\u001b[43mfunc\u001b[49m\u001b[43m,\u001b[49m\u001b[43m  \u001b[49m\u001b[38;5;66;43;03m# type: ignore[arg-type]\u001b[39;49;00m\n\u001b[0;32m   1628\u001b[0m \u001b[43m            \u001b[49m\u001b[38;5;28;43minput\u001b[39;49m\u001b[43m,\u001b[49m\u001b[43m  \u001b[49m\u001b[38;5;66;43;03m# type: ignore[arg-type]\u001b[39;49;00m\n\u001b[0;32m   1629\u001b[0m \u001b[43m            \u001b[49m\u001b[43mconfig\u001b[49m\u001b[43m,\u001b[49m\n\u001b[0;32m   1630\u001b[0m \u001b[43m            \u001b[49m\u001b[43mrun_manager\u001b[49m\u001b[43m,\u001b[49m\n\u001b[0;32m   1631\u001b[0m \u001b[43m            \u001b[49m\u001b[38;5;241;43m*\u001b[39;49m\u001b[38;5;241;43m*\u001b[39;49m\u001b[43mkwargs\u001b[49m\u001b[43m,\u001b[49m\n\u001b[0;32m   1632\u001b[0m \u001b[43m        \u001b[49m\u001b[43m)\u001b[49m,\n\u001b[0;32m   1633\u001b[0m     )\n\u001b[0;32m   1634\u001b[0m \u001b[38;5;28;01mexcept\u001b[39;00m \u001b[38;5;167;01mBaseException\u001b[39;00m \u001b[38;5;28;01mas\u001b[39;00m e:\n\u001b[0;32m   1635\u001b[0m     run_manager\u001b[38;5;241m.\u001b[39mon_chain_error(e)\n",
      "File \u001b[1;32mc:\\project\\Talent_transformation_tool\\RAGENV\\Lib\\site-packages\\langchain_core\\runnables\\config.py:347\u001b[0m, in \u001b[0;36mcall_func_with_variable_args\u001b[1;34m(func, input, config, run_manager, **kwargs)\u001b[0m\n\u001b[0;32m    345\u001b[0m \u001b[38;5;28;01mif\u001b[39;00m run_manager \u001b[38;5;129;01mis\u001b[39;00m \u001b[38;5;129;01mnot\u001b[39;00m \u001b[38;5;28;01mNone\u001b[39;00m \u001b[38;5;129;01mand\u001b[39;00m accepts_run_manager(func):\n\u001b[0;32m    346\u001b[0m     kwargs[\u001b[38;5;124m\"\u001b[39m\u001b[38;5;124mrun_manager\u001b[39m\u001b[38;5;124m\"\u001b[39m] \u001b[38;5;241m=\u001b[39m run_manager\n\u001b[1;32m--> 347\u001b[0m \u001b[38;5;28;01mreturn\u001b[39;00m \u001b[43mfunc\u001b[49m\u001b[43m(\u001b[49m\u001b[38;5;28;43minput\u001b[39;49m\u001b[43m,\u001b[49m\u001b[43m \u001b[49m\u001b[38;5;241;43m*\u001b[39;49m\u001b[38;5;241;43m*\u001b[39;49m\u001b[43mkwargs\u001b[49m\u001b[43m)\u001b[49m\n",
      "File \u001b[1;32mc:\\project\\Talent_transformation_tool\\RAGENV\\Lib\\site-packages\\langchain_core\\output_parsers\\base.py:179\u001b[0m, in \u001b[0;36mBaseOutputParser.invoke.<locals>.<lambda>\u001b[1;34m(inner_input)\u001b[0m\n\u001b[0;32m    169\u001b[0m     \u001b[38;5;28;01mreturn\u001b[39;00m \u001b[38;5;28mself\u001b[39m\u001b[38;5;241m.\u001b[39m_call_with_config(\n\u001b[0;32m    170\u001b[0m         \u001b[38;5;28;01mlambda\u001b[39;00m inner_input: \u001b[38;5;28mself\u001b[39m\u001b[38;5;241m.\u001b[39mparse_result(\n\u001b[0;32m    171\u001b[0m             [ChatGeneration(message\u001b[38;5;241m=\u001b[39minner_input)]\n\u001b[1;32m   (...)\u001b[0m\n\u001b[0;32m    175\u001b[0m         run_type\u001b[38;5;241m=\u001b[39m\u001b[38;5;124m\"\u001b[39m\u001b[38;5;124mparser\u001b[39m\u001b[38;5;124m\"\u001b[39m,\n\u001b[0;32m    176\u001b[0m     )\n\u001b[0;32m    177\u001b[0m \u001b[38;5;28;01melse\u001b[39;00m:\n\u001b[0;32m    178\u001b[0m     \u001b[38;5;28;01mreturn\u001b[39;00m \u001b[38;5;28mself\u001b[39m\u001b[38;5;241m.\u001b[39m_call_with_config(\n\u001b[1;32m--> 179\u001b[0m         \u001b[38;5;28;01mlambda\u001b[39;00m inner_input: \u001b[38;5;28;43mself\u001b[39;49m\u001b[38;5;241;43m.\u001b[39;49m\u001b[43mparse_result\u001b[49m\u001b[43m(\u001b[49m\u001b[43m[\u001b[49m\u001b[43mGeneration\u001b[49m\u001b[43m(\u001b[49m\u001b[43mtext\u001b[49m\u001b[38;5;241;43m=\u001b[39;49m\u001b[43minner_input\u001b[49m\u001b[43m)\u001b[49m\u001b[43m]\u001b[49m\u001b[43m)\u001b[49m,\n\u001b[0;32m    180\u001b[0m         \u001b[38;5;28minput\u001b[39m,\n\u001b[0;32m    181\u001b[0m         config,\n\u001b[0;32m    182\u001b[0m         run_type\u001b[38;5;241m=\u001b[39m\u001b[38;5;124m\"\u001b[39m\u001b[38;5;124mparser\u001b[39m\u001b[38;5;124m\"\u001b[39m,\n\u001b[0;32m    183\u001b[0m     )\n",
      "File \u001b[1;32mc:\\project\\Talent_transformation_tool\\RAGENV\\Lib\\site-packages\\langchain_core\\output_parsers\\json.py:69\u001b[0m, in \u001b[0;36mJsonOutputParser.parse_result\u001b[1;34m(self, result, partial)\u001b[0m\n\u001b[0;32m     67\u001b[0m \u001b[38;5;28;01mexcept\u001b[39;00m JSONDecodeError \u001b[38;5;28;01mas\u001b[39;00m e:\n\u001b[0;32m     68\u001b[0m     msg \u001b[38;5;241m=\u001b[39m \u001b[38;5;124mf\u001b[39m\u001b[38;5;124m\"\u001b[39m\u001b[38;5;124mInvalid json output: \u001b[39m\u001b[38;5;132;01m{\u001b[39;00mtext\u001b[38;5;132;01m}\u001b[39;00m\u001b[38;5;124m\"\u001b[39m\n\u001b[1;32m---> 69\u001b[0m     \u001b[38;5;28;01mraise\u001b[39;00m OutputParserException(msg, llm_output\u001b[38;5;241m=\u001b[39mtext) \u001b[38;5;28;01mfrom\u001b[39;00m \u001b[38;5;21;01me\u001b[39;00m\n",
      "\u001b[1;31mOutputParserException\u001b[0m: Invalid json output: Based on the given context and your skill in Python, I would recommend the following courses:\n\n1. \"Python for Beginners: Learn Python Programming\" - This course is a great starting point for beginners, covering the basics of Python programming. It has a total of 3 hours of content and a rating of 4.5/5. Since you're looking to improve your Python skills, this course would be a good fit for you.\n\nCourse Link: <https://www.udemy.com/course/python-programming-projects/>\nTotal Hours: 3.0 hours\nRating: 4.5/5\nLevel: Beginner\n\n2. \"The Complete Java Course\" - This course is designed for beginners and covers the basics of Java programming. It has a total of 68.5 hours of content and a rating of 4.7/5. Since you're looking to improve your skills in Python, this course could still be beneficial as it covers fundamental programming concepts that are applicable across different languages.\n\nCourse Link: <https://www.udemy.com/course/the-complete-javascript-course/>\nTotal Hours: 68.5 hours\nRating: 4.7/5\nLevel: Expert\n\nHere's the course information in JSON format:\n{\n\"Course Name\": \"Python for Beginners: Learn Python Programming\",\n\"Course Link\": \"<https://www.udemy.com/course/python-programming-projects/>\",\n\"Total Hours\": 3.0,\n\"Rating\": 4.5,\n\"Level\": \"Beginner\"\n},\n{\n\"Course Name\": \"The Complete Java Course\",\n\"Course Link\": \"<https://www.udemy.com/course/the-complete-javascript-course/>\",\n\"Total Hours\": 68.5,\n\"Rating\": 4.7,\n\"Level\": \"Expert\"\n}\n\nI hope this helps you find the right course to improve your Python skills!"
     ]
    }
   ],
   "source": [
    "chain_js_02.invoke(\"my skill is python\")"
   ]
  },
  {
   "cell_type": "code",
   "execution_count": null,
   "metadata": {},
   "outputs": [],
   "source": []
  }
 ],
 "metadata": {
  "kernelspec": {
   "display_name": "RAGENV",
   "language": "python",
   "name": "python3"
  },
  "language_info": {
   "codemirror_mode": {
    "name": "ipython",
    "version": 3
   },
   "file_extension": ".py",
   "mimetype": "text/x-python",
   "name": "python",
   "nbconvert_exporter": "python",
   "pygments_lexer": "ipython3",
   "version": "3.12.2"
  }
 },
 "nbformat": 4,
 "nbformat_minor": 2
}
