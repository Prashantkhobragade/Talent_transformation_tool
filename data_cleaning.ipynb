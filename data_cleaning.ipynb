{
 "cells": [
  {
   "cell_type": "code",
   "execution_count": 1,
   "metadata": {},
   "outputs": [
    {
     "data": {
      "text/plain": [
       "2"
      ]
     },
     "execution_count": 1,
     "metadata": {},
     "output_type": "execute_result"
    }
   ],
   "source": [
    "1+1"
   ]
  },
  {
   "cell_type": "code",
   "execution_count": 2,
   "metadata": {},
   "outputs": [],
   "source": [
    "import pandas as pd"
   ]
  },
  {
   "cell_type": "code",
   "execution_count": 3,
   "metadata": {},
   "outputs": [
    {
     "data": {
      "text/html": [
       "<div>\n",
       "<style scoped>\n",
       "    .dataframe tbody tr th:only-of-type {\n",
       "        vertical-align: middle;\n",
       "    }\n",
       "\n",
       "    .dataframe tbody tr th {\n",
       "        vertical-align: top;\n",
       "    }\n",
       "\n",
       "    .dataframe thead th {\n",
       "        text-align: right;\n",
       "    }\n",
       "</style>\n",
       "<table border=\"1\" class=\"dataframe\">\n",
       "  <thead>\n",
       "    <tr style=\"text-align: right;\">\n",
       "      <th></th>\n",
       "      <th>Course</th>\n",
       "      <th>Link</th>\n",
       "    </tr>\n",
       "  </thead>\n",
       "  <tbody>\n",
       "    <tr>\n",
       "      <th>0</th>\n",
       "      <td>The Complete Python Bootcamp From Zero to Hero...</td>\n",
       "      <td>https://www.udemy.com/course/complete-python-b...</td>\n",
       "    </tr>\n",
       "    <tr>\n",
       "      <th>1</th>\n",
       "      <td>The Complete 2024 Web Development BootcampBeco...</td>\n",
       "      <td>https://www.udemy.com/course/the-complete-web-...</td>\n",
       "    </tr>\n",
       "    <tr>\n",
       "      <th>2</th>\n",
       "      <td>100 Days of Code: The Complete Python Pro Boot...</td>\n",
       "      <td>https://www.udemy.com/course/100-days-of-code/</td>\n",
       "    </tr>\n",
       "    <tr>\n",
       "      <th>3</th>\n",
       "      <td>Try Udemy Business</td>\n",
       "      <td>https://www.udemy.com/udemy-business/request-d...</td>\n",
       "    </tr>\n",
       "    <tr>\n",
       "      <th>4</th>\n",
       "      <td>The Web Developer Bootcamp 202410 Hours of Rea...</td>\n",
       "      <td>https://www.udemy.com/course/the-web-developer...</td>\n",
       "    </tr>\n",
       "  </tbody>\n",
       "</table>\n",
       "</div>"
      ],
      "text/plain": [
       "                                              Course  \\\n",
       "0  The Complete Python Bootcamp From Zero to Hero...   \n",
       "1  The Complete 2024 Web Development BootcampBeco...   \n",
       "2  100 Days of Code: The Complete Python Pro Boot...   \n",
       "3                                 Try Udemy Business   \n",
       "4  The Web Developer Bootcamp 202410 Hours of Rea...   \n",
       "\n",
       "                                                Link  \n",
       "0  https://www.udemy.com/course/complete-python-b...  \n",
       "1  https://www.udemy.com/course/the-complete-web-...  \n",
       "2     https://www.udemy.com/course/100-days-of-code/  \n",
       "3  https://www.udemy.com/udemy-business/request-d...  \n",
       "4  https://www.udemy.com/course/the-web-developer...  "
      ]
     },
     "execution_count": 3,
     "metadata": {},
     "output_type": "execute_result"
    }
   ],
   "source": [
    "data = pd.read_csv(\"udemy01.csv\")\n",
    "data.head()"
   ]
  },
  {
   "cell_type": "code",
   "execution_count": 5,
   "metadata": {},
   "outputs": [
    {
     "name": "stdout",
     "output_type": "stream",
     "text": [
      "Example 1:\n"
     ]
    },
    {
     "ename": "AttributeError",
     "evalue": "'NoneType' object has no attribute 'group'",
     "output_type": "error",
     "traceback": [
      "\u001b[1;31m---------------------------------------------------------------------------\u001b[0m",
      "\u001b[1;31mAttributeError\u001b[0m                            Traceback (most recent call last)",
      "Cell \u001b[1;32mIn[5], line 33\u001b[0m\n\u001b[0;32m     30\u001b[0m example2 \u001b[38;5;241m=\u001b[39m \u001b[38;5;124m\"\u001b[39m\u001b[38;5;124m 100 Days of Code: The Complete Python Pro BootcampMaster Python by building 100 projects in 100 days. Learn data science, automation, build websites, games and apps!Rating: 4.7 out of 5289228 reviews58.5 total hours636 lecturesAll LevelsCurrent price: ₹499Original price: ₹3,099\u001b[39m\u001b[38;5;124m\"\u001b[39m\n\u001b[0;32m     32\u001b[0m \u001b[38;5;28mprint\u001b[39m(\u001b[38;5;124m\"\u001b[39m\u001b[38;5;124mExample 1:\u001b[39m\u001b[38;5;124m\"\u001b[39m)\n\u001b[1;32m---> 33\u001b[0m \u001b[38;5;28mprint\u001b[39m(\u001b[43mextract_course_details\u001b[49m\u001b[43m(\u001b[49m\u001b[43mexample1\u001b[49m\u001b[43m)\u001b[49m)\n\u001b[0;32m     35\u001b[0m \u001b[38;5;28mprint\u001b[39m(\u001b[38;5;124m\"\u001b[39m\u001b[38;5;130;01m\\n\u001b[39;00m\u001b[38;5;124mExample 2:\u001b[39m\u001b[38;5;124m\"\u001b[39m)\n\u001b[0;32m     36\u001b[0m \u001b[38;5;28mprint\u001b[39m(extract_course_details(example2))\n",
      "Cell \u001b[1;32mIn[5], line 8\u001b[0m, in \u001b[0;36mextract_course_details\u001b[1;34m(course_string)\u001b[0m\n\u001b[0;32m      5\u001b[0m course_details \u001b[38;5;241m=\u001b[39m {}\n\u001b[0;32m      7\u001b[0m \u001b[38;5;66;03m# Extracting Course Name\u001b[39;00m\n\u001b[1;32m----> 8\u001b[0m course_name \u001b[38;5;241m=\u001b[39m \u001b[43mre\u001b[49m\u001b[38;5;241;43m.\u001b[39;49m\u001b[43msearch\u001b[49m\u001b[43m(\u001b[49m\u001b[38;5;124;43mr\u001b[39;49m\u001b[38;5;124;43m'\u001b[39;49m\u001b[38;5;124;43m[A-Z][a-z]+\u001b[39;49m\u001b[38;5;124;43m\\\u001b[39;49m\u001b[38;5;124;43mS*?(?=\u001b[39;49m\u001b[38;5;124;43m\\\u001b[39;49m\u001b[38;5;124;43ms*Rating)\u001b[39;49m\u001b[38;5;124;43m'\u001b[39;49m\u001b[43m,\u001b[49m\u001b[43m \u001b[49m\u001b[43mcourse_string\u001b[49m\u001b[43m)\u001b[49m\u001b[38;5;241;43m.\u001b[39;49m\u001b[43mgroup\u001b[49m()\u001b[38;5;241m.\u001b[39mstrip()\n\u001b[0;32m      9\u001b[0m course_details[\u001b[38;5;124m'\u001b[39m\u001b[38;5;124mCourse Name\u001b[39m\u001b[38;5;124m'\u001b[39m] \u001b[38;5;241m=\u001b[39m course_name\n\u001b[0;32m     11\u001b[0m \u001b[38;5;66;03m# Extracting Total Hours\u001b[39;00m\n",
      "\u001b[1;31mAttributeError\u001b[0m: 'NoneType' object has no attribute 'group'"
     ]
    }
   ],
   "source": [
    "import csv\n",
    "import re\n",
    "\n",
    "def extract_course_details(course_string):\n",
    "    course_details = {}\n",
    "    \n",
    "    # Extracting Course Name\n",
    "    course_name = re.search(r'[A-Z][a-z]+\\S*?(?=\\s*Rating)', course_string).group().strip()\n",
    "    course_details['Course Name'] = course_name\n",
    "    \n",
    "    # Extracting Total Hours\n",
    "    total_hours = re.search(r'(\\d+(?:\\.\\d+)?)\\s+total\\s+hours', course_string).group(1)\n",
    "    course_details['total hours'] = float(total_hours)\n",
    "    \n",
    "    # Extracting Rating\n",
    "    rating = re.search(r'Rating:\\s+(\\d+(?:\\.\\d+)?)', course_string).group(1)\n",
    "    course_details['rating'] = float(rating)\n",
    "    \n",
    "    # Extracting Level\n",
    "    level_match = re.search(r'(All\\s+Levels|Beginner|Intermediate|Expert)', course_string)\n",
    "    if level_match:\n",
    "        course_details['level'] = level_match.group(1)\n",
    "    else:\n",
    "        course_details['level'] = None\n",
    "    \n",
    "    return course_details\n",
    "\n",
    "# Test case\n",
    "example1 = \" The Complete Python Bootcamp From Zero to Hero in PythonLearn Python like a Professional  Start from the basics and go all the way to creating your own applications and gamesRating: 4.6 out of 5502086 reviews22 total hours156 lecturesAll LevelsCurrent price: ₹499Original price: ₹3,099\"\n",
    "example2 = \" 100 Days of Code: The Complete Python Pro BootcampMaster Python by building 100 projects in 100 days. Learn data science, automation, build websites, games and apps!Rating: 4.7 out of 5289228 reviews58.5 total hours636 lecturesAll LevelsCurrent price: ₹499Original price: ₹3,099\"\n",
    "\n",
    "print(\"Example 1:\")\n",
    "print(extract_course_details(example1))\n",
    "\n",
    "print(\"\\nExample 2:\")\n",
    "print(extract_course_details(example2))\n"
   ]
  },
  {
   "cell_type": "code",
   "execution_count": 18,
   "metadata": {},
   "outputs": [
    {
     "data": {
      "text/plain": [
       "\" def process_csv(input_file, output_file):\\n    with open(input_file, 'r', newline='', encoding='utf-8') as csvfile, open(output_file, 'w', newline='', encoding='utf-8') as outfile:\\n        reader = csv.DictReader(csvfile)\\n        fieldnames = reader.fieldnames + ['Course Name', 'total hours', 'rating', 'level']\\n        writer = csv.DictWriter(outfile, fieldnames=fieldnames)\\n        writer.writeheader()\\n        \\n        for row in reader:\\n            course_string = row['Courses']\\n            course_details = extract_course_details(course_string)\\n            row.update(course_details)\\n            writer.writerow(row)\\n\\n# Test\\nprocess_csv('input.csv', 'output.csv')\""
      ]
     },
     "execution_count": 18,
     "metadata": {},
     "output_type": "execute_result"
    }
   ],
   "source": [
    "import csv\n",
    "import re\n",
    "\n",
    "\n",
    "\n",
    "def extract_course_details(course_string):\n",
    "    pattern = r'(?<=[a-z])(?=[A-Z])'\n",
    "    \n",
    "    # Find the index where the pattern occurs\n",
    "    course_details = {}\n",
    "    \n",
    "    # Extracting Course Name\n",
    "    course_name_match = re.search(pattern, course_string)\n",
    "    if course_name_match:\n",
    "        # Split the string at the index where the pattern occurs\n",
    "        index = course_name_match.start()\n",
    "        separated_string = course_string[:index] + ' ' + course_string[index:]\n",
    "        course_name = ' '.join(course_string[:index].split())\n",
    "        #separated_string, course_name = extract_course_details(course_string)\n",
    "\n",
    "        return \n",
    "        course_details['Course Name'] = course_name\n",
    "    else:\n",
    "        course_details['Course Name'] = None\n",
    "    \n",
    "    # Extracting Total Hours\n",
    "    total_hours_match = re.search(r'(?<=reviews)\\s*(\\d+(?:\\.\\d+)?)\\s*total\\s*hours', course_string)\n",
    "    if total_hours_match:\n",
    "        total_hours = total_hours_match.group(1)\n",
    "        course_details['total hours'] = float(total_hours)\n",
    "    else:\n",
    "        course_details['total hours'] = None\n",
    "    \n",
    "    # Extracting Rating\n",
    "    rating_match = re.search(r'Rating:\\s*(\\d+(?:\\.\\d+)?)', course_string)\n",
    "    if rating_match:\n",
    "        rating = rating_match.group(1)\n",
    "        course_details['rating'] = float(rating)\n",
    "    else:\n",
    "        course_details['rating'] = None\n",
    "    \n",
    "    # Extracting Level\n",
    "    level_match = re.search(r'(All\\s+Levels|Beginner|Intermediate|Expert)', course_string)\n",
    "    if level_match:\n",
    "        course_details['level'] = level_match.group(1)\n",
    "    else:\n",
    "        course_details['level'] = None\n",
    "    \n",
    "    return course_details\n",
    "\n",
    "\"\"\" def process_csv(input_file, output_file):\n",
    "    with open(input_file, 'r', newline='', encoding='utf-8') as csvfile, open(output_file, 'w', newline='', encoding='utf-8') as outfile:\n",
    "        reader = csv.DictReader(csvfile)\n",
    "        fieldnames = reader.fieldnames + ['Course Name', 'total hours', 'rating', 'level']\n",
    "        writer = csv.DictWriter(outfile, fieldnames=fieldnames)\n",
    "        writer.writeheader()\n",
    "        \n",
    "        for row in reader:\n",
    "            course_string = row['Courses']\n",
    "            course_details = extract_course_details(course_string)\n",
    "            row.update(course_details)\n",
    "            writer.writerow(row)\n",
    "\n",
    "# Test\n",
    "process_csv('input.csv', 'output.csv')\"\"\"\n"
   ]
  },
  {
   "cell_type": "code",
   "execution_count": 19,
   "metadata": {},
   "outputs": [
    {
     "name": "stdout",
     "output_type": "stream",
     "text": [
      "Example 1:\n",
      "None\n",
      "\n",
      "Example 2:\n",
      "None\n"
     ]
    }
   ],
   "source": [
    "# Test case\n",
    "example1 = \" The Complete Python Bootcamp From Zero to Hero in PythonLearn Python like a Professional  Start from the basics and go all the way to creating your own applications and gamesRating: 4.6 out of 5502086 reviews22 total hours156 lecturesAll LevelsCurrent price: ₹499Original price: ₹3,099\"\n",
    "example2 = \" 100 Days of Code: The Complete Python Pro BootcampMaster Python by building 100 projects in 100 days. Learn data science, automation, build websites, games and apps!Rating: 4.7 out of 5289228 reviews58.5 total hours636 lecturesAll LevelsCurrent price: ₹499Original price: ₹3,099\"\n",
    "\n",
    "print(\"Example 1:\")\n",
    "print(extract_course_details(example1))\n",
    "\n",
    "print(\"\\nExample 2:\")\n",
    "print(extract_course_details(example2))"
   ]
  },
  {
   "cell_type": "code",
   "execution_count": 8,
   "metadata": {},
   "outputs": [
    {
     "name": "stdout",
     "output_type": "stream",
     "text": [
      "100 Days of Code: The Complete Python Pro Bootcamp Master Python by building 100 projects in 100 days. Learn data science, automation, build websites, games and apps!Rating: 4.7 out of 5289228 reviews58.5 total hours636 lecturesAll LevelsCurrent price: ₹499Original price: ₹3,099\n"
     ]
    }
   ],
   "source": [
    "import re\n",
    "\n",
    "def separate_string(input_string):\n",
    "    # Regular expression pattern to find the point where a small letter and capital letter are not separated by a space\n",
    "    pattern = r'(?<=[a-z])(?=[A-Z])'\n",
    "    \n",
    "    # Find the index where the pattern occurs\n",
    "    match = re.search(pattern, input_string)\n",
    "    \n",
    "    if match:\n",
    "        # Split the string at the index where the pattern occurs\n",
    "        index = match.start()\n",
    "        separated_string = input_string[:index] + ' ' + input_string[index:]\n",
    "        return separated_string\n",
    "    else:\n",
    "        # If the pattern is not found, return the original string\n",
    "        return input_string\n",
    "\n",
    "# Test\n",
    "input_string = \"100 Days of Code: The Complete Python Pro BootcampMaster Python by building 100 projects in 100 days. Learn data science, automation, build websites, games and apps!Rating: 4.7 out of 5289228 reviews58.5 total hours636 lecturesAll LevelsCurrent price: ₹499Original price: ₹3,099\"\n",
    "print(separate_string(input_string))\n"
   ]
  },
  {
   "cell_type": "code",
   "execution_count": 9,
   "metadata": {},
   "outputs": [
    {
     "name": "stdout",
     "output_type": "stream",
     "text": [
      "Separated String: 100 Days of Code: The Complete Python Pro Bootcamp Master Python by building 100 projects in 100 days. Learn data science, automation, build websites, games and apps!Rating: 4.7 out of 5289228 reviews58.5 total hours636 lecturesAll LevelsCurrent price: ₹499Original price: ₹3,099\n",
      "Words Before Separation: ['100', 'Days', 'of', 'Code:', 'The', 'Complete', 'Python', 'Pro', 'Bootcamp']\n"
     ]
    }
   ],
   "source": [
    "import re\n",
    "\n",
    "def separate_string(input_string):\n",
    "    # Regular expression pattern to find the point where a small letter and capital letter are not separated by a space\n",
    "    pattern = r'(?<=[a-z])(?=[A-Z])'\n",
    "    \n",
    "    # Find the index where the pattern occurs\n",
    "    match = re.search(pattern, input_string)\n",
    "    \n",
    "    if match:\n",
    "        # Split the string at the index where the pattern occurs\n",
    "        index = match.start()\n",
    "        separated_string = input_string[:index] + ' ' + input_string[index:]\n",
    "        words_before_separation = input_string[:index].split()\n",
    "        return separated_string, words_before_separation\n",
    "    else:\n",
    "        # If the pattern is not found, return the original string and an empty list\n",
    "        return input_string, []\n",
    "\n",
    "# Test\n",
    "input_string = \"100 Days of Code: The Complete Python Pro BootcampMaster Python by building 100 projects in 100 days. Learn data science, automation, build websites, games and apps!Rating: 4.7 out of 5289228 reviews58.5 total hours636 lecturesAll LevelsCurrent price: ₹499Original price: ₹3,099\"\n",
    "separated_string, words_before_separation = separate_string(input_string)\n",
    "print(\"Separated String:\", separated_string)\n",
    "print(\"Words Before Separation:\", words_before_separation)\n"
   ]
  },
  {
   "cell_type": "code",
   "execution_count": 10,
   "metadata": {},
   "outputs": [
    {
     "name": "stdout",
     "output_type": "stream",
     "text": [
      "Separated String: 100 Days of Code: The Complete Python Pro Bootcamp Master Python by building 100 projects in 100 days. Learn data science, automation, build websites, games and apps!Rating: 4.7 out of 5289228 reviews58.5 total hours636 lecturesAll LevelsCurrent price: ₹499Original price: ₹3,099\n",
      "Words Before Separation: ['100 Days of Code: The Complete Python Pro Bootcamp']\n"
     ]
    }
   ],
   "source": [
    "import re\n",
    "\n",
    "def separate_string(input_string):\n",
    "    # Regular expression pattern to find the point where a small letter and capital letter are not separated by a space\n",
    "    pattern = r'(?<=[a-z])(?=[A-Z])'\n",
    "    \n",
    "    # Find the index where the pattern occurs\n",
    "    match = re.search(pattern, input_string)\n",
    "    \n",
    "    if match:\n",
    "        # Split the string at the index where the pattern occurs\n",
    "        index = match.start()\n",
    "        separated_string = input_string[:index] + ' ' + input_string[index:]\n",
    "        words_before_separation = ' '.join(input_string[:index].split())\n",
    "        return separated_string, [words_before_separation]\n",
    "    else:\n",
    "        # If the pattern is not found, return the original string and an empty list\n",
    "        return input_string, []\n",
    "\n",
    "# Test\n",
    "input_string = \"100 Days of Code: The Complete Python Pro BootcampMaster Python by building 100 projects in 100 days. Learn data science, automation, build websites, games and apps!Rating: 4.7 out of 5289228 reviews58.5 total hours636 lecturesAll LevelsCurrent price: ₹499Original price: ₹3,099\"\n",
    "separated_string, words_before_separation = separate_string(input_string)\n",
    "print(\"Separated String:\", separated_string)\n",
    "print(\"Words Before Separation:\", words_before_separation)\n"
   ]
  },
  {
   "cell_type": "markdown",
   "metadata": {},
   "source": [
    "## almost final nxt 2 cells"
   ]
  },
  {
   "cell_type": "code",
   "execution_count": 20,
   "metadata": {},
   "outputs": [
    {
     "name": "stdout",
     "output_type": "stream",
     "text": [
      "{'Course Name': 'The Complete Python Bootcamp From Zero to Hero in Python', 'total hours': 22.0, 'rating': 4.6, 'level': 'All Levels'}\n"
     ]
    }
   ],
   "source": [
    "import re\n",
    "\n",
    "def extract_course_details(course_string):\n",
    "    course_details = {}\n",
    "    \n",
    "    # Regular expression pattern to find the point where a small letter and capital letter are not separated by a space\n",
    "    pattern = r'(?<=[a-z])(?=[A-Z])'\n",
    "    \n",
    "    # Find the index where the pattern occurs\n",
    "    match = re.search(pattern, course_string)\n",
    "    \n",
    "    if match:\n",
    "        # Split the course string at the index where the pattern occurs\n",
    "        index = match.start()\n",
    "        course_name = course_string[:index]\n",
    "    else:\n",
    "        # If the pattern is not found, use the original course string as course name\n",
    "        course_name = course_string\n",
    "    \n",
    "    # Extracting Course Name\n",
    "    course_details['Course Name'] = course_name.strip()\n",
    "    \n",
    "    # Extracting Total Hours\n",
    "    total_hours = re.search(r'(\\d+(?:\\.\\d+)?)\\s+total\\s+hours', course_string)\n",
    "    if total_hours:\n",
    "        course_details['total hours'] = float(total_hours.group(1))\n",
    "    else:\n",
    "        course_details['total hours'] = None\n",
    "    \n",
    "    # Extracting Rating\n",
    "    rating = re.search(r'Rating:\\s+(\\d+(?:\\.\\d+)?)', course_string)\n",
    "    if rating:\n",
    "        course_details['rating'] = float(rating.group(1))\n",
    "    else:\n",
    "        course_details['rating'] = None\n",
    "    \n",
    "    # Extracting Level\n",
    "    level_match = re.search(r'(All\\s+Levels|Beginner|Intermediate|Expert)', course_string)\n",
    "    if level_match:\n",
    "        course_details['level'] = level_match.group(1)\n",
    "    else:\n",
    "        course_details['level'] = None\n",
    "    \n",
    "    return course_details\n",
    "\n",
    "# Test\n",
    "example1 = \" The Complete Python Bootcamp From Zero to Hero in PythonLearn Python like a Professional  Start from the basics and go all the way to creating your own applications and gamesRating: 4.6 out of 5502086 reviews22 total hours156 lecturesAll LevelsCurrent price: ₹499Original price: ₹3,099\"\n",
    "print(extract_course_details(example1))\n"
   ]
  },
  {
   "cell_type": "code",
   "execution_count": 21,
   "metadata": {},
   "outputs": [
    {
     "name": "stdout",
     "output_type": "stream",
     "text": [
      "{'Course Name': '100 Days of Code: The Complete Python Pro Bootcamp', 'total hours': 58.5, 'rating': 4.7, 'level': 'All Levels'}\n"
     ]
    }
   ],
   "source": [
    "example2 = \" 100 Days of Code: The Complete Python Pro BootcampMaster Python by building 100 projects in 100 days. Learn data science, automation, build websites, games and apps!Rating: 4.7 out of 5289228 reviews58.5 total hours636 lecturesAll LevelsCurrent price: ₹499Original price: ₹3,099\"\n",
    "print(extract_course_details(example2))\n"
   ]
  },
  {
   "cell_type": "code",
   "execution_count": 24,
   "metadata": {},
   "outputs": [],
   "source": [
    "def process_csv(input_file, output_file):\n",
    "    with open(input_file, 'r', newline='', encoding='utf-8') as csvfile, open(output_file, 'w', newline='', encoding='utf-8') as outfile:\n",
    "        reader = csv.DictReader(csvfile)\n",
    "        fieldnames = reader.fieldnames + ['Course Name', 'total hours', 'rating', 'level']\n",
    "        writer = csv.DictWriter(outfile, fieldnames=fieldnames)\n",
    "        writer.writeheader()\n",
    "        \n",
    "        for row in reader:\n",
    "            course_string = row['Course']\n",
    "            course_details = extract_course_details(course_string)\n",
    "            row.update(course_details)\n",
    "            writer.writerow(row)\n",
    "\n",
    "# Test\n",
    "process_csv('udemy01.csv', 'output.csv')"
   ]
  },
  {
   "cell_type": "code",
   "execution_count": 25,
   "metadata": {},
   "outputs": [
    {
     "name": "stdout",
     "output_type": "stream",
     "text": [
      "{'Course Name': 'The Complete Python Bootcamp From Zero to Hero in Python', 'total hours': 22.0, 'rating': 4.6, 'level': 'All Levels'}\n"
     ]
    }
   ],
   "source": [
    "import re\n",
    "\n",
    "def extract_course_details(course_string):\n",
    "    course_details = {}\n",
    "    \n",
    "    # Regular expression pattern to find the point where a non-space character is joined with an uppercase letter\n",
    "    pattern = r'(?<=\\S)(?=[A-Z])'\n",
    "    \n",
    "    # Find the index where the pattern occurs\n",
    "    match = re.search(pattern, course_string)\n",
    "    \n",
    "    if match:\n",
    "        # Split the course string at the index where the pattern occurs\n",
    "        index = match.start()\n",
    "        course_name = course_string[:index]\n",
    "    else:\n",
    "        # If the pattern is not found, use the original course string as course name\n",
    "        course_name = course_string\n",
    "    \n",
    "    # Extracting Course Name\n",
    "    course_details['Course Name'] = course_name.strip()\n",
    "    \n",
    "    # Extracting Total Hours\n",
    "    total_hours = re.search(r'(\\d+(?:\\.\\d+)?)\\s+total\\s+hours', course_string)\n",
    "    if total_hours:\n",
    "        course_details['total hours'] = float(total_hours.group(1))\n",
    "    else:\n",
    "        course_details['total hours'] = None\n",
    "    \n",
    "    # Extracting Rating\n",
    "    rating = re.search(r'Rating:\\s+(\\d+(?:\\.\\d+)?)', course_string)\n",
    "    if rating:\n",
    "        course_details['rating'] = float(rating.group(1))\n",
    "    else:\n",
    "        course_details['rating'] = None\n",
    "    \n",
    "    # Extracting Level\n",
    "    level_match = re.search(r'(All\\s+Levels|Beginner|Intermediate|Expert)', course_string)\n",
    "    if level_match:\n",
    "        course_details['level'] = level_match.group(1)\n",
    "    else:\n",
    "        course_details['level'] = None\n",
    "    \n",
    "    return course_details\n",
    "\n",
    "# Test\n",
    "example1 = \" The Complete Python Bootcamp From Zero to Hero in PythonLearn Python like a Professional  Start from the basics and go all the way to creating your own applications and gamesRating: 4.6 out of 5502086 reviews22 total hours156 lecturesAll LevelsCurrent price: ₹499Original price: ₹3,099\"\n",
    "print(extract_course_details(example1))\n"
   ]
  },
  {
   "cell_type": "code",
   "execution_count": 26,
   "metadata": {},
   "outputs": [
    {
     "name": "stdout",
     "output_type": "stream",
     "text": [
      "{'Course Name': 'The Complete Web Developer Course 3.0', 'total hours': 31.0, 'rating': 4.6, 'level': 'All Levels'}\n"
     ]
    }
   ],
   "source": [
    "example2 = \" The Complete Web Developer Course 3.0Learn Web Development in 2024! Build apps, website, projects using HTML, CSS, Javascript, PHP, Python, MySQL &amp; more!Rating: 4.6 out of 572031 reviews31 total hours222 lecturesAll LevelsCurrent price: â‚¹699Original price: â‚¹4,499\"\n",
    "\n",
    "print(extract_course_details(example2))\n"
   ]
  },
  {
   "cell_type": "code",
   "execution_count": 27,
   "metadata": {},
   "outputs": [
    {
     "name": "stdout",
     "output_type": "stream",
     "text": [
      "{'Course Name': 'Vue - The Complete Guide (incl. Router & Composition A', 'total hours': 32.0, 'rating': 4.8, 'level': 'All Levels'}\n"
     ]
    }
   ],
   "source": [
    "example3 = \" Vue - The Complete Guide (incl. Router & Composition API)Vue.js is an awesome JavaScript Framework for building Frontend Applications! VueJS mixes the Best of Angular + React!Rating: 4.8 out of 562645 reviews32 total hours332 lecturesAll LevelsCurrent price: â‚¹599Original price: â‚¹3,699\"\n",
    "print(extract_course_details(example3))\n"
   ]
  },
  {
   "cell_type": "code",
   "execution_count": 28,
   "metadata": {},
   "outputs": [
    {
     "name": "stdout",
     "output_type": "stream",
     "text": [
      "{'Course Name': 'R Programming A-', 'total hours': 10.5, 'rating': 4.6, 'level': 'All Levels'}\n"
     ]
    }
   ],
   "source": [
    "example4 = \" R Programming A-Zâ„¢: R For Data Science With Real Exercises!Learn Programming In R And R Studio. Data Analytics, Data Science, Statistical Analysis, Packages, Functions, GGPlot2Rating: 4.6 out of 553403 reviews10.5 total hours80 lecturesAll LevelsCurrent price: â‚¹699Original price: â‚¹4,499\"\n",
    "print(extract_course_details(example4))\n"
   ]
  },
  {
   "cell_type": "code",
   "execution_count": 29,
   "metadata": {},
   "outputs": [],
   "source": [
    "def process_csv(input_file, output_file):\n",
    "    with open(input_file, 'r', newline='', encoding='utf-8') as csvfile, open(output_file, 'w', newline='', encoding='utf-8') as outfile:\n",
    "        reader = csv.DictReader(csvfile)\n",
    "        fieldnames = reader.fieldnames + ['Course Name', 'total hours', 'rating', 'level']\n",
    "        writer = csv.DictWriter(outfile, fieldnames=fieldnames)\n",
    "        writer.writeheader()\n",
    "        \n",
    "        for row in reader:\n",
    "            course_string = row['Course']\n",
    "            course_details = extract_course_details(course_string)\n",
    "            row.update(course_details)\n",
    "            writer.writerow(row)\n",
    "\n",
    "# Test\n",
    "process_csv('udemy01.csv', 'output02.csv')"
   ]
  },
  {
   "cell_type": "code",
   "execution_count": null,
   "metadata": {},
   "outputs": [],
   "source": []
  }
 ],
 "metadata": {
  "kernelspec": {
   "display_name": "RAGENV",
   "language": "python",
   "name": "python3"
  },
  "language_info": {
   "codemirror_mode": {
    "name": "ipython",
    "version": 3
   },
   "file_extension": ".py",
   "mimetype": "text/x-python",
   "name": "python",
   "nbconvert_exporter": "python",
   "pygments_lexer": "ipython3",
   "version": "3.12.2"
  }
 },
 "nbformat": 4,
 "nbformat_minor": 2
}
